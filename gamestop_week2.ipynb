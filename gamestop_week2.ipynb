{
  "nbformat": 4,
  "nbformat_minor": 0,
  "metadata": {
    "colab": {
      "name": "gamestop_week2.ipynb",
      "provenance": [],
      "mount_file_id": "1GyOlirMYBae55Uav2jweMp8xrjhGvq0a",
      "authorship_tag": "ABX9TyP8DJG+hrk0t3vlilg2eJ4r",
      "include_colab_link": true
    },
    "kernelspec": {
      "name": "python3",
      "display_name": "Python 3"
    },
    "language_info": {
      "name": "python"
    }
  },
  "cells": [
    {
      "cell_type": "markdown",
      "metadata": {
        "id": "view-in-github",
        "colab_type": "text"
      },
      "source": [
        "<a href=\"https://colab.research.google.com/github/Haebuk/kuggle/blob/main/gamestop_week2.ipynb\" target=\"_parent\"><img src=\"https://colab.research.google.com/assets/colab-badge.svg\" alt=\"Open In Colab\"/></a>"
      ]
    },
    {
      "cell_type": "code",
      "metadata": {
        "id": "BUAQAHRvJAS7"
      },
      "source": [
        "import matplotlib.pyplot as plt\n",
        "import numpy as np\n",
        "import pandas as pd\n",
        "from sklearn.model_selection import TimeSeriesSplit\n",
        "from sklearn.metrics import accuracy_score, mean_squared_error\n",
        "from lightgbm import LGBMRegressor \n",
        "import seaborn as sns\n",
        "sns.set_style('darkgrid')"
      ],
      "execution_count": 57,
      "outputs": []
    },
    {
      "cell_type": "code",
      "metadata": {
        "colab": {
          "base_uri": "https://localhost:8080/",
          "height": 222
        },
        "id": "fHzVxfYhJqQs",
        "outputId": "a87a3e05-4614-4ff6-9aac-065c228e3bd8"
      },
      "source": [
        "PATH = '/content/drive/MyDrive/input/'\n",
        "df = pd.read_csv(PATH + 'GME_done.csv')\n",
        "df['date'] = pd.to_datetime(df['date'])\n",
        "print(df.shape)\n",
        "df.head()"
      ],
      "execution_count": 58,
      "outputs": [
        {
          "output_type": "stream",
          "text": [
            "(2914, 3)\n"
          ],
          "name": "stdout"
        },
        {
          "output_type": "execute_result",
          "data": {
            "text/html": [
              "<div>\n",
              "<style scoped>\n",
              "    .dataframe tbody tr th:only-of-type {\n",
              "        vertical-align: middle;\n",
              "    }\n",
              "\n",
              "    .dataframe tbody tr th {\n",
              "        vertical-align: top;\n",
              "    }\n",
              "\n",
              "    .dataframe thead th {\n",
              "        text-align: right;\n",
              "    }\n",
              "</style>\n",
              "<table border=\"1\" class=\"dataframe\">\n",
              "  <thead>\n",
              "    <tr style=\"text-align: right;\">\n",
              "      <th></th>\n",
              "      <th>date</th>\n",
              "      <th>open_price</th>\n",
              "      <th>volume</th>\n",
              "    </tr>\n",
              "  </thead>\n",
              "  <tbody>\n",
              "    <tr>\n",
              "      <th>0</th>\n",
              "      <td>2010-01-04</td>\n",
              "      <td>22.070000</td>\n",
              "      <td>6675700</td>\n",
              "    </tr>\n",
              "    <tr>\n",
              "      <th>1</th>\n",
              "      <td>2010-01-05</td>\n",
              "      <td>22.910000</td>\n",
              "      <td>5317400</td>\n",
              "    </tr>\n",
              "    <tr>\n",
              "      <th>2</th>\n",
              "      <td>2010-01-06</td>\n",
              "      <td>23.459999</td>\n",
              "      <td>5367800</td>\n",
              "    </tr>\n",
              "    <tr>\n",
              "      <th>3</th>\n",
              "      <td>2010-01-07</td>\n",
              "      <td>20.010000</td>\n",
              "      <td>41190300</td>\n",
              "    </tr>\n",
              "    <tr>\n",
              "      <th>4</th>\n",
              "      <td>2010-01-08</td>\n",
              "      <td>20.639999</td>\n",
              "      <td>11968100</td>\n",
              "    </tr>\n",
              "  </tbody>\n",
              "</table>\n",
              "</div>"
            ],
            "text/plain": [
              "        date  open_price    volume\n",
              "0 2010-01-04   22.070000   6675700\n",
              "1 2010-01-05   22.910000   5317400\n",
              "2 2010-01-06   23.459999   5367800\n",
              "3 2010-01-07   20.010000  41190300\n",
              "4 2010-01-08   20.639999  11968100"
            ]
          },
          "metadata": {
            "tags": []
          },
          "execution_count": 58
        }
      ]
    },
    {
      "cell_type": "code",
      "metadata": {
        "colab": {
          "base_uri": "https://localhost:8080/",
          "height": 204
        },
        "id": "IQYpmHX3KGw5",
        "outputId": "dcb458ce-1eca-4533-ba66-5b25a7350835"
      },
      "source": [
        "df['open_price'] = np.log1p(df['open_price'])\n",
        "df.head()"
      ],
      "execution_count": 59,
      "outputs": [
        {
          "output_type": "execute_result",
          "data": {
            "text/html": [
              "<div>\n",
              "<style scoped>\n",
              "    .dataframe tbody tr th:only-of-type {\n",
              "        vertical-align: middle;\n",
              "    }\n",
              "\n",
              "    .dataframe tbody tr th {\n",
              "        vertical-align: top;\n",
              "    }\n",
              "\n",
              "    .dataframe thead th {\n",
              "        text-align: right;\n",
              "    }\n",
              "</style>\n",
              "<table border=\"1\" class=\"dataframe\">\n",
              "  <thead>\n",
              "    <tr style=\"text-align: right;\">\n",
              "      <th></th>\n",
              "      <th>date</th>\n",
              "      <th>open_price</th>\n",
              "      <th>volume</th>\n",
              "    </tr>\n",
              "  </thead>\n",
              "  <tbody>\n",
              "    <tr>\n",
              "      <th>0</th>\n",
              "      <td>2010-01-04</td>\n",
              "      <td>3.138533</td>\n",
              "      <td>6675700</td>\n",
              "    </tr>\n",
              "    <tr>\n",
              "      <th>1</th>\n",
              "      <td>2010-01-05</td>\n",
              "      <td>3.174297</td>\n",
              "      <td>5317400</td>\n",
              "    </tr>\n",
              "    <tr>\n",
              "      <th>2</th>\n",
              "      <td>2010-01-06</td>\n",
              "      <td>3.197039</td>\n",
              "      <td>5367800</td>\n",
              "    </tr>\n",
              "    <tr>\n",
              "      <th>3</th>\n",
              "      <td>2010-01-07</td>\n",
              "      <td>3.044999</td>\n",
              "      <td>41190300</td>\n",
              "    </tr>\n",
              "    <tr>\n",
              "      <th>4</th>\n",
              "      <td>2010-01-08</td>\n",
              "      <td>3.074543</td>\n",
              "      <td>11968100</td>\n",
              "    </tr>\n",
              "  </tbody>\n",
              "</table>\n",
              "</div>"
            ],
            "text/plain": [
              "        date  open_price    volume\n",
              "0 2010-01-04    3.138533   6675700\n",
              "1 2010-01-05    3.174297   5317400\n",
              "2 2010-01-06    3.197039   5367800\n",
              "3 2010-01-07    3.044999  41190300\n",
              "4 2010-01-08    3.074543  11968100"
            ]
          },
          "metadata": {
            "tags": []
          },
          "execution_count": 59
        }
      ]
    },
    {
      "cell_type": "code",
      "metadata": {
        "id": "tWxmrsgvKL9R"
      },
      "source": [
        "def RMSLE(y_true, y_pred):\n",
        "    return np.sqrt(mean_squared_error(y_true, y_pred))\n",
        "\n",
        "def model_cv(df=df, model=lgb, fold=5):\n",
        "    X = df.drop('date', axis=1)\n",
        "    y = df['open_price']\n",
        "\n",
        "    rmsle_list = []\n",
        "\n",
        "    tscv = TimeSeriesSplit(n_splits=fold) # cv\n",
        "    n_iter = 1\n",
        "    for train_index, test_index in tscv.split(df):\n",
        "        X_train, X_test = X.iloc[train_index], X.iloc[test_index]\n",
        "        y_train, y_test = y[train_index], y[test_index]\n",
        "\n",
        "        model.fit(X_train, y_train) # train\n",
        "        pred = model.predict(X_test) # predict\n",
        "\n",
        "        rmsle = RMSLE(y_test, pred) # RMSLE\n",
        "        rmsle_list.append(rmsle)\n",
        "        print(f\"====={n_iter}FOLDS=====\")\n",
        "        print(f\"RMSLE: {rmsle:.4f}\")\n",
        "        n_iter += 1\n",
        "    mean_rmsle = np.mean(rmsle_list)\n",
        "    print('='*10)\n",
        "    print('Mean RMSLE:', mean_rmsle)\n",
        "    return pred, mean_rmsle\n"
      ],
      "execution_count": 60,
      "outputs": []
    },
    {
      "cell_type": "code",
      "metadata": {
        "colab": {
          "base_uri": "https://localhost:8080/"
        },
        "id": "gASOgvo9MAgO",
        "outputId": "d78763cc-956c-4781-8c8b-05c38faa8e71"
      },
      "source": [
        "lgb = LGBMRegressor(learning_rate=0.1, max_depth=-1)\n",
        "lgb_pred, lgb_mean_rmsle = model_cv(model=lgb)"
      ],
      "execution_count": 61,
      "outputs": [
        {
          "output_type": "stream",
          "text": [
            "=====1FOLDS=====\n",
            "RMSLE: 0.2791\n",
            "=====2FOLDS=====\n",
            "RMSLE: 0.0089\n",
            "=====3FOLDS=====\n",
            "RMSLE: 0.0111\n",
            "=====4FOLDS=====\n",
            "RMSLE: 0.4665\n",
            "=====5FOLDS=====\n",
            "RMSLE: 0.5991\n",
            "==========\n",
            "Mean RMSLE: 0.2729502937671432\n"
          ],
          "name": "stdout"
        }
      ]
    },
    {
      "cell_type": "code",
      "metadata": {
        "id": "d_kV3fVwRPAT"
      },
      "source": [
        "def pred_plot(model, pred):\n",
        "    plt.figure(figsize=(12, 6))\n",
        "    plt.plot(df['date'], np.expm1(df['open_price']))\n",
        "    plt.plot(df['date'][-len(pred):], np.expm1(pred)[-len(pred):])\n",
        "    plt.legend(['original', 'predict'])\n",
        "    plt.title(f'{model} Price Predict Graph')\n",
        "    plt.xlabel('Year')\n",
        "    plt.ylabel('Price')\n",
        "    plt.show()"
      ],
      "execution_count": 70,
      "outputs": []
    },
    {
      "cell_type": "code",
      "metadata": {
        "colab": {
          "base_uri": "https://localhost:8080/",
          "height": 404
        },
        "id": "_rJMb6eURzr9",
        "outputId": "217250b6-4f2d-4dda-c437-50059e1b9001"
      },
      "source": [
        "pred_plot('LightGBM', lgb_pred)"
      ],
      "execution_count": 71,
      "outputs": [
        {
          "output_type": "display_data",
          "data": {
            "image/png": "[encoded data removed]",
            "text/plain": [
              "<Figure size 864x432 with 1 Axes>"
            ]
          },
          "metadata": {
            "tags": []
          }
        }
      ]
    }
  ]
}