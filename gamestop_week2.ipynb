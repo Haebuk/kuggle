{
  "nbformat": 4,
  "nbformat_minor": 0,
  "metadata": {
    "colab": {
      "name": "gamestop_week2.ipynb",
      "provenance": [],
      "mount_file_id": "1GyOlirMYBae55Uav2jweMp8xrjhGvq0a",
      "authorship_tag": "ABX9TyPMwqwbftTa8uvls/fIN15u",
      "include_colab_link": true
    },
    "kernelspec": {
      "name": "python3",
      "display_name": "Python 3"
    },
    "language_info": {
      "name": "python"
    },
    "accelerator": "GPU"
  },
  "cells": [
    {
      "cell_type": "markdown",
      "metadata": {
        "id": "view-in-github",
        "colab_type": "text"
      },
      "source": [
        "<a href=\"https://colab.research.google.com/github/Haebuk/kuggle/blob/main/gamestop_week2.ipynb\" target=\"_parent\"><img src=\"https://colab.research.google.com/assets/colab-badge.svg\" alt=\"Open In Colab\"/></a>"
      ]
    },
    {
      "cell_type": "markdown",
      "metadata": {
        "id": "pSky_6pooTKU"
      },
      "source": [
        "# 라이브러리 로드"
      ]
    },
    {
      "cell_type": "code",
      "metadata": {
        "id": "BUAQAHRvJAS7"
      },
      "source": [
        "import matplotlib.pyplot as plt\n",
        "import numpy as np\n",
        "import pandas as pd\n",
        "from sklearn.model_selection import TimeSeriesSplit\n",
        "from sklearn.metrics import accuracy_score, mean_squared_error\n",
        "from sklearn.preprocessing import MinMaxScaler\n",
        "from lightgbm import LGBMRegressor \n",
        "import seaborn as sns\n",
        "import tensorflow as tf\n",
        "sns.set_style('darkgrid')"
      ],
      "execution_count": 19,
      "outputs": []
    },
    {
      "cell_type": "markdown",
      "metadata": {
        "id": "0Uwg1ib9oU4a"
      },
      "source": [
        "# 데이터 로드"
      ]
    },
    {
      "cell_type": "code",
      "metadata": {
        "colab": {
          "base_uri": "https://localhost:8080/",
          "height": 222
        },
        "id": "fHzVxfYhJqQs",
        "outputId": "7f76a286-caa3-4c71-bc38-e5ae65e516db"
      },
      "source": [
        "PATH = '/content/drive/MyDrive/input/'\n",
        "df = pd.read_csv(PATH + 'GME_done.csv')\n",
        "df['date'] = pd.to_datetime(df['date'])\n",
        "scaler = MinMaxScaler()\n",
        "df['volume'] = scaler.fit_transform(df['volume'].values.reshape(-1,1))\n",
        "print(df.shape)\n",
        "df.head()"
      ],
      "execution_count": 23,
      "outputs": [
        {
          "output_type": "stream",
          "text": [
            "(2914, 3)\n"
          ],
          "name": "stdout"
        },
        {
          "output_type": "execute_result",
          "data": {
            "text/html": [
              "<div>\n",
              "<style scoped>\n",
              "    .dataframe tbody tr th:only-of-type {\n",
              "        vertical-align: middle;\n",
              "    }\n",
              "\n",
              "    .dataframe tbody tr th {\n",
              "        vertical-align: top;\n",
              "    }\n",
              "\n",
              "    .dataframe thead th {\n",
              "        text-align: right;\n",
              "    }\n",
              "</style>\n",
              "<table border=\"1\" class=\"dataframe\">\n",
              "  <thead>\n",
              "    <tr style=\"text-align: right;\">\n",
              "      <th></th>\n",
              "      <th>date</th>\n",
              "      <th>open_price</th>\n",
              "      <th>volume</th>\n",
              "    </tr>\n",
              "  </thead>\n",
              "  <tbody>\n",
              "    <tr>\n",
              "      <th>0</th>\n",
              "      <td>2010-01-04</td>\n",
              "      <td>22.070000</td>\n",
              "      <td>0.031204</td>\n",
              "    </tr>\n",
              "    <tr>\n",
              "      <th>1</th>\n",
              "      <td>2010-01-05</td>\n",
              "      <td>22.910000</td>\n",
              "      <td>0.024296</td>\n",
              "    </tr>\n",
              "    <tr>\n",
              "      <th>2</th>\n",
              "      <td>2010-01-06</td>\n",
              "      <td>23.459999</td>\n",
              "      <td>0.024552</td>\n",
              "    </tr>\n",
              "    <tr>\n",
              "      <th>3</th>\n",
              "      <td>2010-01-07</td>\n",
              "      <td>20.010000</td>\n",
              "      <td>0.206746</td>\n",
              "    </tr>\n",
              "    <tr>\n",
              "      <th>4</th>\n",
              "      <td>2010-01-08</td>\n",
              "      <td>20.639999</td>\n",
              "      <td>0.058121</td>\n",
              "    </tr>\n",
              "  </tbody>\n",
              "</table>\n",
              "</div>"
            ],
            "text/plain": [
              "        date  open_price    volume\n",
              "0 2010-01-04   22.070000  0.031204\n",
              "1 2010-01-05   22.910000  0.024296\n",
              "2 2010-01-06   23.459999  0.024552\n",
              "3 2010-01-07   20.010000  0.206746\n",
              "4 2010-01-08   20.639999  0.058121"
            ]
          },
          "metadata": {
            "tags": []
          },
          "execution_count": 23
        }
      ]
    },
    {
      "cell_type": "markdown",
      "metadata": {
        "id": "R9j6q-5xoWKt"
      },
      "source": [
        "## 로그 변환"
      ]
    },
    {
      "cell_type": "code",
      "metadata": {
        "colab": {
          "base_uri": "https://localhost:8080/",
          "height": 204
        },
        "id": "IQYpmHX3KGw5",
        "outputId": "ef851426-c3f0-4b45-dbb5-1ab5a5e53355"
      },
      "source": [
        "df['open_price'] = np.log1p(df['open_price'])\n",
        "df.head()"
      ],
      "execution_count": 24,
      "outputs": [
        {
          "output_type": "execute_result",
          "data": {
            "text/html": [
              "<div>\n",
              "<style scoped>\n",
              "    .dataframe tbody tr th:only-of-type {\n",
              "        vertical-align: middle;\n",
              "    }\n",
              "\n",
              "    .dataframe tbody tr th {\n",
              "        vertical-align: top;\n",
              "    }\n",
              "\n",
              "    .dataframe thead th {\n",
              "        text-align: right;\n",
              "    }\n",
              "</style>\n",
              "<table border=\"1\" class=\"dataframe\">\n",
              "  <thead>\n",
              "    <tr style=\"text-align: right;\">\n",
              "      <th></th>\n",
              "      <th>date</th>\n",
              "      <th>open_price</th>\n",
              "      <th>volume</th>\n",
              "    </tr>\n",
              "  </thead>\n",
              "  <tbody>\n",
              "    <tr>\n",
              "      <th>0</th>\n",
              "      <td>2010-01-04</td>\n",
              "      <td>3.138533</td>\n",
              "      <td>0.031204</td>\n",
              "    </tr>\n",
              "    <tr>\n",
              "      <th>1</th>\n",
              "      <td>2010-01-05</td>\n",
              "      <td>3.174297</td>\n",
              "      <td>0.024296</td>\n",
              "    </tr>\n",
              "    <tr>\n",
              "      <th>2</th>\n",
              "      <td>2010-01-06</td>\n",
              "      <td>3.197039</td>\n",
              "      <td>0.024552</td>\n",
              "    </tr>\n",
              "    <tr>\n",
              "      <th>3</th>\n",
              "      <td>2010-01-07</td>\n",
              "      <td>3.044999</td>\n",
              "      <td>0.206746</td>\n",
              "    </tr>\n",
              "    <tr>\n",
              "      <th>4</th>\n",
              "      <td>2010-01-08</td>\n",
              "      <td>3.074543</td>\n",
              "      <td>0.058121</td>\n",
              "    </tr>\n",
              "  </tbody>\n",
              "</table>\n",
              "</div>"
            ],
            "text/plain": [
              "        date  open_price    volume\n",
              "0 2010-01-04    3.138533  0.031204\n",
              "1 2010-01-05    3.174297  0.024296\n",
              "2 2010-01-06    3.197039  0.024552\n",
              "3 2010-01-07    3.044999  0.206746\n",
              "4 2010-01-08    3.074543  0.058121"
            ]
          },
          "metadata": {
            "tags": []
          },
          "execution_count": 24
        }
      ]
    },
    {
      "cell_type": "code",
      "metadata": {
        "colab": {
          "base_uri": "https://localhost:8080/",
          "height": 297
        },
        "id": "V9WbbNOPYsEr",
        "outputId": "7ccfa9d1-5235-4e72-8142-c2161223a50a"
      },
      "source": [
        "df.describe()"
      ],
      "execution_count": 25,
      "outputs": [
        {
          "output_type": "execute_result",
          "data": {
            "text/html": [
              "<div>\n",
              "<style scoped>\n",
              "    .dataframe tbody tr th:only-of-type {\n",
              "        vertical-align: middle;\n",
              "    }\n",
              "\n",
              "    .dataframe tbody tr th {\n",
              "        vertical-align: top;\n",
              "    }\n",
              "\n",
              "    .dataframe thead th {\n",
              "        text-align: right;\n",
              "    }\n",
              "</style>\n",
              "<table border=\"1\" class=\"dataframe\">\n",
              "  <thead>\n",
              "    <tr style=\"text-align: right;\">\n",
              "      <th></th>\n",
              "      <th>open_price</th>\n",
              "      <th>volume</th>\n",
              "    </tr>\n",
              "  </thead>\n",
              "  <tbody>\n",
              "    <tr>\n",
              "      <th>count</th>\n",
              "      <td>2914.000000</td>\n",
              "      <td>2914.000000</td>\n",
              "    </tr>\n",
              "    <tr>\n",
              "      <th>mean</th>\n",
              "      <td>3.161570</td>\n",
              "      <td>0.021700</td>\n",
              "    </tr>\n",
              "    <tr>\n",
              "      <th>std</th>\n",
              "      <td>0.733970</td>\n",
              "      <td>0.049034</td>\n",
              "    </tr>\n",
              "    <tr>\n",
              "      <th>min</th>\n",
              "      <td>1.348073</td>\n",
              "      <td>0.000000</td>\n",
              "    </tr>\n",
              "    <tr>\n",
              "      <th>25%</th>\n",
              "      <td>2.858480</td>\n",
              "      <td>0.007970</td>\n",
              "    </tr>\n",
              "    <tr>\n",
              "      <th>50%</th>\n",
              "      <td>3.187385</td>\n",
              "      <td>0.012535</td>\n",
              "    </tr>\n",
              "    <tr>\n",
              "      <th>75%</th>\n",
              "      <td>3.610580</td>\n",
              "      <td>0.019799</td>\n",
              "    </tr>\n",
              "    <tr>\n",
              "      <th>max</th>\n",
              "      <td>5.942038</td>\n",
              "      <td>1.000000</td>\n",
              "    </tr>\n",
              "  </tbody>\n",
              "</table>\n",
              "</div>"
            ],
            "text/plain": [
              "        open_price       volume\n",
              "count  2914.000000  2914.000000\n",
              "mean      3.161570     0.021700\n",
              "std       0.733970     0.049034\n",
              "min       1.348073     0.000000\n",
              "25%       2.858480     0.007970\n",
              "50%       3.187385     0.012535\n",
              "75%       3.610580     0.019799\n",
              "max       5.942038     1.000000"
            ]
          },
          "metadata": {
            "tags": []
          },
          "execution_count": 25
        }
      ]
    },
    {
      "cell_type": "markdown",
      "metadata": {
        "id": "Ua67x4DkppIC"
      },
      "source": [
        "# 평가지표 및 CV함수 정의"
      ]
    },
    {
      "cell_type": "markdown",
      "metadata": {
        "id": "e3JikHWvqC6V"
      },
      "source": [
        "![image](https://user-images.githubusercontent.com/68543150/129554900-57c7eaf8-ef33-4da0-917b-f9aa5b4831c9.png)\n"
      ]
    },
    {
      "cell_type": "code",
      "metadata": {
        "id": "tWxmrsgvKL9R"
      },
      "source": [
        "def RMSLE(y_true, y_pred):\n",
        "    # rmse를 반환(이미 로그변환이 되어있기 때문에 rmsle로 명명)\n",
        "    return np.sqrt(mean_squared_error(y_true, y_pred))\n",
        "\n",
        "def model_cv(df, model=None, fold=5, dl=False):\n",
        "    \"\"\"\n",
        "    시계열 교차검증을 통해 평균 RMSLE를 반환하는 함수\n",
        "\n",
        "    :params df: 데이터 프레임\n",
        "    :params model: 모델\n",
        "    :params fold: 폴드 수\n",
        "    :params dl: 딥러닝 모델 여부\n",
        "\n",
        "    :return pred: 예측 값\n",
        "    :return mean_rmsle: 평균 RMSLE\n",
        "    \"\"\"\n",
        "    X = df.drop('date', axis=1).values\n",
        "    y = df['open_price'].values\n",
        "    tscv = TimeSeriesSplit(n_splits=fold)\n",
        "    rmsle_list = []\n",
        "    n_iter = 1\n",
        "\n",
        "    if dl: # 딥러닝 모델인 경우\n",
        "        global time_step # window size\n",
        "        time_step = 60\n",
        "        \n",
        "        for train_index, test_index in tscv.split(X):\n",
        "\n",
        "            X_tr, y_tr = X[train_index], y[train_index]\n",
        "            X_te, y_te = X[test_index], y[test_index]\n",
        "            \n",
        "            model = LSTM_Model() # LSTM 모델 클래스. 밑에서 정의함\n",
        "            model.compile(optimizer=tf.keras.optimizers.Adam(1e-4), loss='mse')\n",
        "\n",
        "            X_train, y_train = [], []\n",
        "            X_test, y_test = [], []\n",
        "            # window size 만큼 옮겨가면서 학습/검증 셋 생성\n",
        "            for i in range(time_step,len(X_tr)): # train\n",
        "                X_train.append(X_tr[i-time_step:i,:])\n",
        "                y_train.append(y_tr[i])\n",
        "            for i in range(time_step, len(X_te)): # test\n",
        "                X_test.append(X_te[i-time_step:i,:])\n",
        "                y_test.append(y_te[i])\n",
        "            X_train, y_train = np.array(X_train), np.array(y_train)\n",
        "            X_test, y_test = np.array(X_test), np.array(y_test)\n",
        "            # LSTM input shape 조건(batch_size, timestep, feature_num)에 맞게 reshape\n",
        "            X_train = np.reshape(X_train, (-1,X_train.shape[1],2))\n",
        "            X_test = np.reshape(X_test, (-1,X_test.shape[1],2))\n",
        "\n",
        "            # 과적합 방지를 위해 조기종료 콜백 정의\n",
        "            earlystopping = tf.keras.callbacks.EarlyStopping(monitor='loss', patience=5)\n",
        "            # 모델 학습\n",
        "            model.fit(X_train, y_train, epochs=200, verbose=0, batch_size=32, callbacks=[earlystopping])\n",
        "            # MSLE\n",
        "            mse = model.evaluate(X_test, y_test, verbose=0)\n",
        "            # 예측값\n",
        "            pred = model.predict(X_test)\n",
        "            # RMSLE\n",
        "            rmsle = np.sqrt(mse)\n",
        "            rmsle_list.append(rmsle)\n",
        "            print(f\"====={n_iter}FOLDS=====\")\n",
        "            n_iter += 1\n",
        "            print(f\"RMSLE: {rmsle:.4f}\")\n",
        "    else: # 딥러닝 모델이 아닌 경우\n",
        "\n",
        "        for train_index, test_index in tscv.split(df):\n",
        "            X_train, X_test = X[train_index], X[test_index]\n",
        "            y_train, y_test = y[train_index], y[test_index]\n",
        "\n",
        "            model.fit(X_train, y_train) # train\n",
        "            pred = model.predict(X_test) # predict\n",
        "\n",
        "            rmsle = RMSLE(y_test, pred) # RMSLE\n",
        "            rmsle_list.append(rmsle)\n",
        "            print(f\"====={n_iter}FOLDS=====\")\n",
        "            print(f\"RMSLE: {rmsle:.4f}\")\n",
        "            n_iter += 1\n",
        "    mean_rmsle = np.mean(rmsle_list) # 평균 RMSLE\n",
        "    print('='*10)\n",
        "    print('Mean RMSLE:', mean_rmsle)\n",
        "    return pred, mean_rmsle\n"
      ],
      "execution_count": 38,
      "outputs": []
    },
    {
      "cell_type": "markdown",
      "metadata": {
        "id": "DwBeCXnxpnkR"
      },
      "source": [
        "# LightGBM"
      ]
    },
    {
      "cell_type": "code",
      "metadata": {
        "colab": {
          "base_uri": "https://localhost:8080/"
        },
        "id": "gASOgvo9MAgO",
        "outputId": "2b248d65-0355-4661-da78-f757aec57e46"
      },
      "source": [
        "lgb = LGBMRegressor(learning_rate=0.1, max_depth=-1)\n",
        "lgb_pred, lgb_mean_rmsle = model_cv(df=df,model=lgb)"
      ],
      "execution_count": 39,
      "outputs": [
        {
          "output_type": "stream",
          "text": [
            "=====1FOLDS=====\n",
            "RMSLE: 0.2791\n",
            "=====2FOLDS=====\n",
            "RMSLE: 0.0088\n",
            "=====3FOLDS=====\n",
            "RMSLE: 0.0111\n",
            "=====4FOLDS=====\n",
            "RMSLE: 0.4664\n",
            "=====5FOLDS=====\n",
            "RMSLE: 0.5992\n",
            "==========\n",
            "Mean RMSLE: 0.2729234071427071\n"
          ],
          "name": "stdout"
        }
      ]
    },
    {
      "cell_type": "markdown",
      "metadata": {
        "id": "fpc8P0c1pwbN"
      },
      "source": [
        "- 평균 RMSLE: 0.2729\n",
        "- 변동이 큰 뒤쪽에서 RMSLE가 크게 나옴"
      ]
    },
    {
      "cell_type": "code",
      "metadata": {
        "id": "d_kV3fVwRPAT"
      },
      "source": [
        "def pred_plot(model, pred):\n",
        "    plt.figure(figsize=(12, 6))\n",
        "    plt.plot(df['date'], np.expm1(df['open_price']))\n",
        "    plt.plot(df['date'][-len(pred):], np.expm1(pred)[-len(pred):])\n",
        "    plt.legend(['original', 'predict'])\n",
        "    plt.title(f'{model} Price Predict Graph')\n",
        "    plt.xlabel('Year')\n",
        "    plt.ylabel('Price')\n",
        "    plt.show()"
      ],
      "execution_count": 28,
      "outputs": []
    },
    {
      "cell_type": "code",
      "metadata": {
        "colab": {
          "base_uri": "https://localhost:8080/",
          "height": 404
        },
        "id": "_rJMb6eURzr9",
        "outputId": "2e43910f-9579-4e3b-c3d4-92389ac40896"
      },
      "source": [
        "pred_plot('LightGBM', lgb_pred)"
      ],
      "execution_count": 29,
      "outputs": [
        {
          "output_type": "display_data",
          "data": {
            "image/png": "[encoded data removed]",
            "text/plain": [
              "<Figure size 864x432 with 1 Axes>"
            ]
          },
          "metadata": {
            "tags": []
          }
        }
      ]
    },
    {
      "cell_type": "markdown",
      "metadata": {
        "id": "SYBepFfrqQWf"
      },
      "source": [
        "- 처음에 잘 맞다가 후반에는 전혀 경향을 못 따라가는 모습"
      ]
    },
    {
      "cell_type": "markdown",
      "metadata": {
        "id": "4oxYVgj-02AZ"
      },
      "source": [
        "# LSTM"
      ]
    },
    {
      "cell_type": "code",
      "metadata": {
        "id": "DpKY_kUE02mn"
      },
      "source": [
        "from keras.models import Sequential\n",
        "from keras.layers import LSTM, Dense, Dropout\n",
        "from sklearn.model_selection import train_test_split\n",
        "\n",
        "class LSTM_Model(tf.keras.Model):\n",
        "\n",
        "    def __init__(self):\n",
        "        super(LSTM_Model, self).__init__()\n",
        "        self.lstm1 = LSTM(50, return_sequences=True, input_shape=(time_step, 2))\n",
        "        self.lstm2 = LSTM(50, return_sequences=True)\n",
        "        self.lstm3 = LSTM(50)\n",
        "        self.dropout = Dropout(0.4)\n",
        "        self.dense = Dense(1)\n",
        "\n",
        "    def call(self, inputs):\n",
        "        x = self.lstm1(inputs)\n",
        "        x = self.dropout(x)\n",
        "        x = self.lstm2(x)\n",
        "        x = self.dropout(x)\n",
        "        x = self.lstm3(x)\n",
        "        x = self.dropout(x)\n",
        "        return self.dense(x)"
      ],
      "execution_count": 40,
      "outputs": []
    },
    {
      "cell_type": "code",
      "metadata": {
        "colab": {
          "base_uri": "https://localhost:8080/"
        },
        "id": "5v_bMtl2e5IB",
        "outputId": "b6bce845-08b1-4d54-fa0d-d9652de42d24"
      },
      "source": [
        "lstm_pred, lstm_mean_rmsle = model_cv(df=df,dl=True)"
      ],
      "execution_count": 41,
      "outputs": [
        {
          "output_type": "stream",
          "text": [
            "=====1FOLDS=====\n",
            "RMSLE: 0.1768\n",
            "=====2FOLDS=====\n",
            "RMSLE: 0.0704\n",
            "=====3FOLDS=====\n",
            "RMSLE: 0.0861\n",
            "=====4FOLDS=====\n",
            "RMSLE: 0.1110\n",
            "=====5FOLDS=====\n",
            "RMSLE: 0.3570\n",
            "==========\n",
            "Mean RMSLE: 0.1602563099011908\n"
          ],
          "name": "stdout"
        }
      ]
    },
    {
      "cell_type": "markdown",
      "metadata": {
        "id": "IdCktt0fqWJz"
      },
      "source": [
        "- 평균 RMSLE: 0.1603\n",
        "- lightGBM보다 훨씬 좋은 결과"
      ]
    },
    {
      "cell_type": "code",
      "metadata": {
        "colab": {
          "base_uri": "https://localhost:8080/",
          "height": 404
        },
        "id": "V-Ox4D8n_Qy1",
        "outputId": "eabf43fb-ff3b-4d9a-b6f4-3f5248cf517a"
      },
      "source": [
        "pred_plot('LSTM', lstm_pred)"
      ],
      "execution_count": 42,
      "outputs": [
        {
          "output_type": "display_data",
          "data": {
            "image/png": "[encoded data removed]",
            "text/plain": [
              "<Figure size 864x432 with 1 Axes>"
            ]
          },
          "metadata": {
            "tags": []
          }
        }
      ]
    },
    {
      "cell_type": "markdown",
      "metadata": {
        "id": "GaOGjLLtqcJe"
      },
      "source": [
        "- lightGBM보다 추세를 잘 반영했지만 약간 Underfit한 경향이 있음\n",
        "- 3주차에서 HPO를 통해 성능을 향상시켜볼 예정"
      ]
    },
    {
      "cell_type": "code",
      "metadata": {
        "id": "1a35XPNRqhuO"
      },
      "source": [
        ""
      ],
      "execution_count": null,
      "outputs": []
    }
  ]
}