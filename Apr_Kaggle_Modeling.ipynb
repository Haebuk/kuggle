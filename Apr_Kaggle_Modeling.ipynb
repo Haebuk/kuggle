{
  "nbformat": 4,
  "nbformat_minor": 0,
  "metadata": {
    "colab": {
      "name": "Apr_Kaggle_Modeling.ipynb",
      "provenance": [],
      "authorship_tag": "ABX9TyOMZwFBbi3/0Dizpxz1VtXW",
      "include_colab_link": true
    },
    "kernelspec": {
      "name": "python3",
      "display_name": "Python 3"
    },
    "language_info": {
      "name": "python"
    },
    "accelerator": "GPU"
  },
  "cells": [
    {
      "cell_type": "markdown",
      "metadata": {
        "id": "view-in-github",
        "colab_type": "text"
      },
      "source": [
        "<a href=\"https://colab.research.google.com/github/Haebuk/kuggle/blob/main/Apr_Kaggle_Modeling.ipynb\" target=\"_parent\"><img src=\"https://colab.research.google.com/assets/colab-badge.svg\" alt=\"Open In Colab\"/></a>"
      ]
    },
    {
      "cell_type": "markdown",
      "metadata": {
        "id": "zWNQV240FTA5"
      },
      "source": [
        "# 2021 Apr Modeling\n",
        "- [\n",
        "N3. [TPS April 21] LightAutoML starter](https://www.kaggle.com/alexryzhkov/n3-tps-april-21-lightautoml-starter)\n",
        "- [\n",
        "TPS Apr 2021 pseudo labeling/voting ensemble](https://www.kaggle.com/hiro5299834/tps-apr-2021-pseudo-labeling-voting-ensemble/notebook?select=pseudo_label.csv )\n",
        "- [Pseudolabelling - Tips and tricks](https://www.kaggle.com/c/tabular-playground-series-apr-2021/discussion/231738)\n"
      ]
    },
    {
      "cell_type": "markdown",
      "metadata": {
        "id": "IG3fMCQUJDO5"
      },
      "source": [
        "## Colab Softwrap"
      ]
    },
    {
      "cell_type": "code",
      "metadata": {
        "colab": {
          "base_uri": "https://localhost:8080/",
          "height": 17
        },
        "id": "7ovzk0GEIqKe",
        "outputId": "7c371b9b-2005-41dc-995d-b8d8fa58ecb7"
      },
      "source": [
        "# colab softwrap\n",
        "from IPython.display import HTML, display\n",
        "\n",
        "def set_css():\n",
        "  display(HTML('''\n",
        "  <style>\n",
        "    pre {\n",
        "        white-space: pre-wrap;\n",
        "    }\n",
        "  </style>\n",
        "  '''))\n",
        "get_ipython().events.register('pre_run_cell', set_css)"
      ],
      "execution_count": 38,
      "outputs": [
        {
          "output_type": "display_data",
          "data": {
            "text/html": [
              "\n",
              "  <style>\n",
              "    pre {\n",
              "        white-space: pre-wrap;\n",
              "    }\n",
              "  </style>\n",
              "  "
            ],
            "text/plain": [
              "<IPython.core.display.HTML object>"
            ]
          },
          "metadata": {
            "tags": []
          }
        }
      ]
    },
    {
      "cell_type": "markdown",
      "metadata": {
        "id": "PnLB6u12FeN-"
      },
      "source": [
        "## Libraries"
      ]
    },
    {
      "cell_type": "code",
      "metadata": {
        "colab": {
          "base_uri": "https://localhost:8080/",
          "height": 17
        },
        "id": "oGhOdt0OFuxZ",
        "outputId": "666dd06d-971f-41aa-d594-094acd3d480a"
      },
      "source": [
        "import pandas as pd\n",
        "import numpy as np\n",
        "import random\n",
        "import os\n",
        "\n",
        "from sklearn.metrics import accuracy_score\n",
        "from sklearn.preprocessing import LabelEncoder, StandardScaler\n",
        "from sklearn.model_selection import train_test_split, KFold, StratifiedKFold\n",
        "from sklearn.linear_model import LogisticRegression as lr\n",
        "!pip install -q lightgbm==3.2.1\n",
        "import lightgbm as lgb\n",
        "!pip install -q catboost\n",
        "import catboost as ctb\n",
        "from sklearn.model_selection import GridSearchCV\n",
        "from sklearn.tree import DecisionTreeClassifier, export_graphviz\n",
        "\n",
        "import graphviz\n",
        "import matplotlib.pyplot as plt\n",
        "import seaborn as sns\n",
        "\n",
        "import warnings\n",
        "warnings.simplefilter('ignore')\n"
      ],
      "execution_count": 37,
      "outputs": [
        {
          "output_type": "display_data",
          "data": {
            "text/html": [
              "\n",
              "  <style>\n",
              "    pre {\n",
              "        white-space: pre-wrap;\n",
              "    }\n",
              "  </style>\n",
              "  "
            ],
            "text/plain": [
              "<IPython.core.display.HTML object>"
            ]
          },
          "metadata": {
            "tags": []
          }
        }
      ]
    },
    {
      "cell_type": "code",
      "metadata": {
        "colab": {
          "base_uri": "https://localhost:8080/",
          "height": 17
        },
        "id": "mmMjfKbfGN0e",
        "outputId": "678acc42-05c6-41e9-9bd7-328ac7aec0ed"
      },
      "source": [
        "TARGET = 'Survived'\n",
        "\n",
        "N_ESTIMATORS = 1000\n",
        "N_SPLIT = 10\n",
        "SEED = 2021\n",
        "EARLY_STOPPING_ROUNDS = 100 \n",
        "VERBOSE = 100"
      ],
      "execution_count": 39,
      "outputs": [
        {
          "output_type": "display_data",
          "data": {
            "text/html": [
              "\n",
              "  <style>\n",
              "    pre {\n",
              "        white-space: pre-wrap;\n",
              "    }\n",
              "  </style>\n",
              "  "
            ],
            "text/plain": [
              "<IPython.core.display.HTML object>"
            ]
          },
          "metadata": {
            "tags": []
          }
        },
        {
          "output_type": "display_data",
          "data": {
            "text/html": [
              "\n",
              "  <style>\n",
              "    pre {\n",
              "        white-space: pre-wrap;\n",
              "    }\n",
              "  </style>\n",
              "  "
            ],
            "text/plain": [
              "<IPython.core.display.HTML object>"
            ]
          },
          "metadata": {
            "tags": []
          }
        }
      ]
    },
    {
      "cell_type": "code",
      "metadata": {
        "colab": {
          "base_uri": "https://localhost:8080/",
          "height": 17
        },
        "id": "0VyEnSRGGx_E",
        "outputId": "544861aa-04f3-486a-9c40-921b575165b5"
      },
      "source": [
        "def set_seed(seed=42):\n",
        "    random.seed(seed)\n",
        "    os.environ['PYTHONHASHEED'] = str(seed)\n",
        "    np.random.seed(seed)\n",
        "\n",
        "set_seed(SEED)"
      ],
      "execution_count": 40,
      "outputs": [
        {
          "output_type": "display_data",
          "data": {
            "text/html": [
              "\n",
              "  <style>\n",
              "    pre {\n",
              "        white-space: pre-wrap;\n",
              "    }\n",
              "  </style>\n",
              "  "
            ],
            "text/plain": [
              "<IPython.core.display.HTML object>"
            ]
          },
          "metadata": {
            "tags": []
          }
        },
        {
          "output_type": "display_data",
          "data": {
            "text/html": [
              "\n",
              "  <style>\n",
              "    pre {\n",
              "        white-space: pre-wrap;\n",
              "    }\n",
              "  </style>\n",
              "  "
            ],
            "text/plain": [
              "<IPython.core.display.HTML object>"
            ]
          },
          "metadata": {
            "tags": []
          }
        }
      ]
    },
    {
      "cell_type": "markdown",
      "metadata": {
        "id": "WWxKGbd9HKpR"
      },
      "source": [
        "## Git Clone & Load Data"
      ]
    },
    {
      "cell_type": "code",
      "metadata": {
        "id": "wuYQFujBG7AF",
        "colab": {
          "base_uri": "https://localhost:8080/",
          "height": 35
        },
        "outputId": "4ff06038-42ce-48cb-cf2a-fcb8aed9ebf2"
      },
      "source": [
        "!git clone https://github.com/Haebuk/kuggle.git\n",
        "PATH = '/content/kuggle/9,10주차/input/'\n",
        "train_df = pd.read_csv(PATH+'train.csv')\n",
        "test_df = pd.read_csv(PATH+'test.csv')\n",
        "submission_df = pd.read_csv(PATH+'sample_submission.csv')\n",
        "\n",
        "all_df = pd.concat([train_df, test_df]).reset_index(drop=True)"
      ],
      "execution_count": 41,
      "outputs": [
        {
          "output_type": "display_data",
          "data": {
            "text/html": [
              "\n",
              "  <style>\n",
              "    pre {\n",
              "        white-space: pre-wrap;\n",
              "    }\n",
              "  </style>\n",
              "  "
            ],
            "text/plain": [
              "<IPython.core.display.HTML object>"
            ]
          },
          "metadata": {
            "tags": []
          }
        },
        {
          "output_type": "display_data",
          "data": {
            "text/html": [
              "\n",
              "  <style>\n",
              "    pre {\n",
              "        white-space: pre-wrap;\n",
              "    }\n",
              "  </style>\n",
              "  "
            ],
            "text/plain": [
              "<IPython.core.display.HTML object>"
            ]
          },
          "metadata": {
            "tags": []
          }
        },
        {
          "output_type": "stream",
          "text": [
            "fatal: destination path 'kuggle' already exists and is not an empty directory.\n"
          ],
          "name": "stdout"
        }
      ]
    },
    {
      "cell_type": "markdown",
      "metadata": {
        "id": "dYvlQw_ZHn_Z"
      },
      "source": [
        "## Filling Missing Values"
      ]
    },
    {
      "cell_type": "code",
      "metadata": {
        "colab": {
          "base_uri": "https://localhost:8080/",
          "height": 300
        },
        "id": "sWMTxsxvMfVD",
        "outputId": "ed6b67ea-a506-44fe-f33d-d85667233252"
      },
      "source": [
        "all_df.tail()"
      ],
      "execution_count": 42,
      "outputs": [
        {
          "output_type": "display_data",
          "data": {
            "text/html": [
              "\n",
              "  <style>\n",
              "    pre {\n",
              "        white-space: pre-wrap;\n",
              "    }\n",
              "  </style>\n",
              "  "
            ],
            "text/plain": [
              "<IPython.core.display.HTML object>"
            ]
          },
          "metadata": {
            "tags": []
          }
        },
        {
          "output_type": "display_data",
          "data": {
            "text/html": [
              "\n",
              "  <style>\n",
              "    pre {\n",
              "        white-space: pre-wrap;\n",
              "    }\n",
              "  </style>\n",
              "  "
            ],
            "text/plain": [
              "<IPython.core.display.HTML object>"
            ]
          },
          "metadata": {
            "tags": []
          }
        },
        {
          "output_type": "execute_result",
          "data": {
            "text/html": [
              "<div>\n",
              "<style scoped>\n",
              "    .dataframe tbody tr th:only-of-type {\n",
              "        vertical-align: middle;\n",
              "    }\n",
              "\n",
              "    .dataframe tbody tr th {\n",
              "        vertical-align: top;\n",
              "    }\n",
              "\n",
              "    .dataframe thead th {\n",
              "        text-align: right;\n",
              "    }\n",
              "</style>\n",
              "<table border=\"1\" class=\"dataframe\">\n",
              "  <thead>\n",
              "    <tr style=\"text-align: right;\">\n",
              "      <th></th>\n",
              "      <th>PassengerId</th>\n",
              "      <th>Survived</th>\n",
              "      <th>Pclass</th>\n",
              "      <th>Name</th>\n",
              "      <th>Sex</th>\n",
              "      <th>Age</th>\n",
              "      <th>SibSp</th>\n",
              "      <th>Parch</th>\n",
              "      <th>Ticket</th>\n",
              "      <th>Fare</th>\n",
              "      <th>Cabin</th>\n",
              "      <th>Embarked</th>\n",
              "    </tr>\n",
              "  </thead>\n",
              "  <tbody>\n",
              "    <tr>\n",
              "      <th>199995</th>\n",
              "      <td>199995</td>\n",
              "      <td>NaN</td>\n",
              "      <td>3</td>\n",
              "      <td>Cash, Cheryle</td>\n",
              "      <td>female</td>\n",
              "      <td>27.0</td>\n",
              "      <td>0</td>\n",
              "      <td>0</td>\n",
              "      <td>7686</td>\n",
              "      <td>10.12</td>\n",
              "      <td>NaN</td>\n",
              "      <td>Q</td>\n",
              "    </tr>\n",
              "    <tr>\n",
              "      <th>199996</th>\n",
              "      <td>199996</td>\n",
              "      <td>NaN</td>\n",
              "      <td>1</td>\n",
              "      <td>Brown, Howard</td>\n",
              "      <td>male</td>\n",
              "      <td>59.0</td>\n",
              "      <td>1</td>\n",
              "      <td>0</td>\n",
              "      <td>13004</td>\n",
              "      <td>68.31</td>\n",
              "      <td>NaN</td>\n",
              "      <td>S</td>\n",
              "    </tr>\n",
              "    <tr>\n",
              "      <th>199997</th>\n",
              "      <td>199997</td>\n",
              "      <td>NaN</td>\n",
              "      <td>3</td>\n",
              "      <td>Lightfoot, Cameron</td>\n",
              "      <td>male</td>\n",
              "      <td>47.0</td>\n",
              "      <td>0</td>\n",
              "      <td>0</td>\n",
              "      <td>4383317</td>\n",
              "      <td>10.87</td>\n",
              "      <td>NaN</td>\n",
              "      <td>S</td>\n",
              "    </tr>\n",
              "    <tr>\n",
              "      <th>199998</th>\n",
              "      <td>199998</td>\n",
              "      <td>NaN</td>\n",
              "      <td>1</td>\n",
              "      <td>Jacobsen, Margaret</td>\n",
              "      <td>female</td>\n",
              "      <td>49.0</td>\n",
              "      <td>1</td>\n",
              "      <td>2</td>\n",
              "      <td>PC 26988</td>\n",
              "      <td>29.68</td>\n",
              "      <td>B20828</td>\n",
              "      <td>C</td>\n",
              "    </tr>\n",
              "    <tr>\n",
              "      <th>199999</th>\n",
              "      <td>199999</td>\n",
              "      <td>NaN</td>\n",
              "      <td>1</td>\n",
              "      <td>Fishback, Joanna</td>\n",
              "      <td>female</td>\n",
              "      <td>41.0</td>\n",
              "      <td>0</td>\n",
              "      <td>2</td>\n",
              "      <td>PC 41824</td>\n",
              "      <td>195.41</td>\n",
              "      <td>E13345</td>\n",
              "      <td>C</td>\n",
              "    </tr>\n",
              "  </tbody>\n",
              "</table>\n",
              "</div>"
            ],
            "text/plain": [
              "        PassengerId  Survived  Pclass  ...    Fare   Cabin  Embarked\n",
              "199995       199995       NaN       3  ...   10.12     NaN         Q\n",
              "199996       199996       NaN       1  ...   68.31     NaN         S\n",
              "199997       199997       NaN       3  ...   10.87     NaN         S\n",
              "199998       199998       NaN       1  ...   29.68  B20828         C\n",
              "199999       199999       NaN       1  ...  195.41  E13345         C\n",
              "\n",
              "[5 rows x 12 columns]"
            ]
          },
          "metadata": {
            "tags": []
          },
          "execution_count": 42
        }
      ]
    },
    {
      "cell_type": "code",
      "metadata": {
        "colab": {
          "base_uri": "https://localhost:8080/",
          "height": 235
        },
        "id": "6o8MDiEsKfSX",
        "outputId": "e5f5cba2-90ab-4886-a7cc-336b60d28435"
      },
      "source": [
        "for col in all_df.columns:\n",
        "    print(col, all_df[col].isnull().sum())"
      ],
      "execution_count": 43,
      "outputs": [
        {
          "output_type": "display_data",
          "data": {
            "text/html": [
              "\n",
              "  <style>\n",
              "    pre {\n",
              "        white-space: pre-wrap;\n",
              "    }\n",
              "  </style>\n",
              "  "
            ],
            "text/plain": [
              "<IPython.core.display.HTML object>"
            ]
          },
          "metadata": {
            "tags": []
          }
        },
        {
          "output_type": "display_data",
          "data": {
            "text/html": [
              "\n",
              "  <style>\n",
              "    pre {\n",
              "        white-space: pre-wrap;\n",
              "    }\n",
              "  </style>\n",
              "  "
            ],
            "text/plain": [
              "<IPython.core.display.HTML object>"
            ]
          },
          "metadata": {
            "tags": []
          }
        },
        {
          "output_type": "stream",
          "text": [
            "PassengerId 0\n",
            "Survived 100000\n",
            "Pclass 0\n",
            "Name 0\n",
            "Sex 0\n",
            "Age 6779\n",
            "SibSp 0\n",
            "Parch 0\n",
            "Ticket 9804\n",
            "Fare 267\n",
            "Cabin 138697\n",
            "Embarked 527\n"
          ],
          "name": "stdout"
        }
      ]
    },
    {
      "cell_type": "code",
      "metadata": {
        "colab": {
          "base_uri": "https://localhost:8080/",
          "height": 17
        },
        "id": "GKNoJbNuH4kU",
        "outputId": "fac7cd04-097c-4615-c3d1-7158a80c17df"
      },
      "source": [
        "# 연령 결측값 -> 평균으로 대체\n",
        "all_df['Age'] = all_df['Age'].fillna(all_df['Age'].mean())\n",
        "\n",
        "# 선실 결측값 -> X로 대체 및 나머지는 첫글자로 대체\n",
        "all_df['Cabin'] = all_df['Cabin'].fillna('X').map(lambda x: x[0].strip())\n",
        "\n",
        "# 티켓 결측값 -> X로 대체 및 나머지는 첫 어절로 대체\n",
        "all_df['Ticket'] = all_df['Ticket'].fillna('X').\\\n",
        "map(lambda x:str(x).split()[0] if len(str(x).split()) > 1 else 'X')\n",
        "\n",
        "# 요금 결측값 -> Pclass의 중위수로 대체 후 로그변환(정규화)\n",
        "fare_map = all_df[['Fare', 'Pclass']].dropna().groupby('Pclass').median().to_dict()\n",
        "all_df['Fare'] = all_df['Fare'].fillna(all_df['Pclass'].map(fare_map['Fare']))\n",
        "all_df['Fare'] = np.log1p(all_df['Fare'])\n",
        "\n",
        "# 탑승항구 결측값 -> X로 대체\n",
        "all_df['Embarked'] = all_df['Embarked'].fillna('X')\n",
        "\n",
        "# 성을 제외한 이름만 추출\n",
        "all_df['Name'] = all_df['Name'].map(lambda x: x.split(',')[0])"
      ],
      "execution_count": 44,
      "outputs": [
        {
          "output_type": "display_data",
          "data": {
            "text/html": [
              "\n",
              "  <style>\n",
              "    pre {\n",
              "        white-space: pre-wrap;\n",
              "    }\n",
              "  </style>\n",
              "  "
            ],
            "text/plain": [
              "<IPython.core.display.HTML object>"
            ]
          },
          "metadata": {
            "tags": []
          }
        },
        {
          "output_type": "display_data",
          "data": {
            "text/html": [
              "\n",
              "  <style>\n",
              "    pre {\n",
              "        white-space: pre-wrap;\n",
              "    }\n",
              "  </style>\n",
              "  "
            ],
            "text/plain": [
              "<IPython.core.display.HTML object>"
            ]
          },
          "metadata": {
            "tags": []
          }
        }
      ]
    },
    {
      "cell_type": "markdown",
      "metadata": {
        "id": "1cO8x1GCNCfk"
      },
      "source": [
        "## Encoding"
      ]
    },
    {
      "cell_type": "code",
      "metadata": {
        "colab": {
          "base_uri": "https://localhost:8080/",
          "height": 17
        },
        "id": "tzQyUa0VHwbG",
        "outputId": "697a06e5-8ee5-4ec2-c925-b8c915337cad"
      },
      "source": [
        "label_cols = ['Name', 'Ticket', 'Sex']\n",
        "onehot_cols = ['Cabin', 'Embarked']\n",
        "numerical_cols = ['Pclass', 'Age', 'SibSp', 'Parch', 'Fare']"
      ],
      "execution_count": 45,
      "outputs": [
        {
          "output_type": "display_data",
          "data": {
            "text/html": [
              "\n",
              "  <style>\n",
              "    pre {\n",
              "        white-space: pre-wrap;\n",
              "    }\n",
              "  </style>\n",
              "  "
            ],
            "text/plain": [
              "<IPython.core.display.HTML object>"
            ]
          },
          "metadata": {
            "tags": []
          }
        },
        {
          "output_type": "display_data",
          "data": {
            "text/html": [
              "\n",
              "  <style>\n",
              "    pre {\n",
              "        white-space: pre-wrap;\n",
              "    }\n",
              "  </style>\n",
              "  "
            ],
            "text/plain": [
              "<IPython.core.display.HTML object>"
            ]
          },
          "metadata": {
            "tags": []
          }
        }
      ]
    },
    {
      "cell_type": "code",
      "metadata": {
        "colab": {
          "base_uri": "https://localhost:8080/",
          "height": 17
        },
        "id": "COtcNVoJNhuD",
        "outputId": "9e0a420f-2947-47c4-fc71-852cd662f0de"
      },
      "source": [
        "def label_encoder(c):\n",
        "    le = LabelEncoder()\n",
        "    return le.fit_transform(c)\n",
        "\n",
        "scaler = StandardScaler()\n",
        "\n",
        "onehot_encoded_df = pd.get_dummies(all_df[onehot_cols])\n",
        "label_encoded_df = all_df[label_cols].apply(label_encoder)\n",
        "numerical_df = pd.DataFrame(scaler.fit_transform(all_df[numerical_cols]), \n",
        "                            columns=numerical_cols)\n",
        "target_df = all_df[TARGET]\n",
        "\n",
        "all_df = pd.concat([numerical_df, label_encoded_df, onehot_encoded_df, target_df],\\\n",
        "                   axis=1)"
      ],
      "execution_count": 46,
      "outputs": [
        {
          "output_type": "display_data",
          "data": {
            "text/html": [
              "\n",
              "  <style>\n",
              "    pre {\n",
              "        white-space: pre-wrap;\n",
              "    }\n",
              "  </style>\n",
              "  "
            ],
            "text/plain": [
              "<IPython.core.display.HTML object>"
            ]
          },
          "metadata": {
            "tags": []
          }
        },
        {
          "output_type": "display_data",
          "data": {
            "text/html": [
              "\n",
              "  <style>\n",
              "    pre {\n",
              "        white-space: pre-wrap;\n",
              "    }\n",
              "  </style>\n",
              "  "
            ],
            "text/plain": [
              "<IPython.core.display.HTML object>"
            ]
          },
          "metadata": {
            "tags": []
          }
        }
      ]
    },
    {
      "cell_type": "code",
      "metadata": {
        "colab": {
          "base_uri": "https://localhost:8080/",
          "height": 17
        },
        "id": "a7V7ocBtduDc",
        "outputId": "b9b79918-652a-4fc4-f2d4-725063967a81"
      },
      "source": [
        "train_df2 = all_df[:train_df.shape[0]]\n",
        "test_df2 = all_df[train_df.shape[0]:]"
      ],
      "execution_count": 47,
      "outputs": [
        {
          "output_type": "display_data",
          "data": {
            "text/html": [
              "\n",
              "  <style>\n",
              "    pre {\n",
              "        white-space: pre-wrap;\n",
              "    }\n",
              "  </style>\n",
              "  "
            ],
            "text/plain": [
              "<IPython.core.display.HTML object>"
            ]
          },
          "metadata": {
            "tags": []
          }
        },
        {
          "output_type": "display_data",
          "data": {
            "text/html": [
              "\n",
              "  <style>\n",
              "    pre {\n",
              "        white-space: pre-wrap;\n",
              "    }\n",
              "  </style>\n",
              "  "
            ],
            "text/plain": [
              "<IPython.core.display.HTML object>"
            ]
          },
          "metadata": {
            "tags": []
          }
        }
      ]
    },
    {
      "cell_type": "markdown",
      "metadata": {
        "id": "dKbDMU4SFEKG"
      },
      "source": [
        "## Logistic Regression\n"
      ]
    },
    {
      "cell_type": "code",
      "metadata": {
        "colab": {
          "base_uri": "https://localhost:8080/",
          "height": 1000
        },
        "id": "jNn83Q_VFHAF",
        "outputId": "577c13ec-ad94-460c-da8f-1c824681750f"
      },
      "source": [
        "feature_importances = pd.DataFrame()\n",
        "X_test = test_df2.drop(TARGET, axis=1)\n",
        "skf = StratifiedKFold(n_splits=N_SPLIT, shuffle=True, random_state=SEED)\n",
        "\n",
        "for fold, (train_idx, valid_idx) in enumerate(skf.split(train_df2, train_df2[TARGET])):\n",
        "    print(f'===== FOLD {fold} =====')\n",
        "\n",
        "    X_train, y_train = train_df2.iloc[train_idx].drop(TARGET, axis=1),\\\n",
        "    train_df.iloc[train_idx][TARGET]\n",
        "    X_valid, y_valid = train_df2.iloc[valid_idx].drop(TARGET, axis=1),\\\n",
        "    train_df.iloc[valid_idx][TARGET]\n",
        "\n",
        "    model = lr(max_iter=300, verbose=VERBOSE)\n",
        "    model.fit(X_train, y_train)\n",
        "    \n",
        "    lr_val = model.predict(X_valid)\n",
        "    lr_val = [1 if v >= 0.5 else 0 for v in lr_val]\n",
        "    lr_preds = model.predict(X_test)\n",
        "\n",
        "    \n",
        "    # 확률이 0.5보다 크면 1, 작으면 0으로 분류\n",
        "    acc_score = accuracy_score(y_valid, lr_val)\n",
        "    print(f\"===== ACCURACY SCORE {acc_score:.6f} =====\\n\")"
      ],
      "execution_count": 50,
      "outputs": [
        {
          "output_type": "display_data",
          "data": {
            "text/html": [
              "\n",
              "  <style>\n",
              "    pre {\n",
              "        white-space: pre-wrap;\n",
              "    }\n",
              "  </style>\n",
              "  "
            ],
            "text/plain": [
              "<IPython.core.display.HTML object>"
            ]
          },
          "metadata": {
            "tags": []
          }
        },
        {
          "output_type": "display_data",
          "data": {
            "text/html": [
              "\n",
              "  <style>\n",
              "    pre {\n",
              "        white-space: pre-wrap;\n",
              "    }\n",
              "  </style>\n",
              "  "
            ],
            "text/plain": [
              "<IPython.core.display.HTML object>"
            ]
          },
          "metadata": {
            "tags": []
          }
        },
        {
          "output_type": "stream",
          "text": [
            "===== FOLD 0 =====\n",
            "[Parallel(n_jobs=1)]: Using backend SequentialBackend with 1 concurrent workers.\n",
            "[Parallel(n_jobs=1)]: Done   1 out of   1 | elapsed:    1.5s remaining:    0.0s\n",
            "[Parallel(n_jobs=1)]: Done   1 out of   1 | elapsed:    1.5s finished\n",
            "===== ACCURACY SCORE 0.761900 =====\n",
            "\n",
            "===== FOLD 1 =====\n",
            "[Parallel(n_jobs=1)]: Using backend SequentialBackend with 1 concurrent workers.\n",
            "[Parallel(n_jobs=1)]: Done   1 out of   1 | elapsed:    2.0s remaining:    0.0s\n",
            "[Parallel(n_jobs=1)]: Done   1 out of   1 | elapsed:    2.0s finished\n",
            "===== ACCURACY SCORE 0.773500 =====\n",
            "\n",
            "===== FOLD 2 =====\n",
            "[Parallel(n_jobs=1)]: Using backend SequentialBackend with 1 concurrent workers.\n",
            "[Parallel(n_jobs=1)]: Done   1 out of   1 | elapsed:    1.6s remaining:    0.0s\n",
            "[Parallel(n_jobs=1)]: Done   1 out of   1 | elapsed:    1.6s finished\n",
            "===== ACCURACY SCORE 0.769900 =====\n",
            "\n",
            "===== FOLD 3 =====\n",
            "[Parallel(n_jobs=1)]: Using backend SequentialBackend with 1 concurrent workers.\n",
            "[Parallel(n_jobs=1)]: Done   1 out of   1 | elapsed:    1.7s remaining:    0.0s\n",
            "[Parallel(n_jobs=1)]: Done   1 out of   1 | elapsed:    1.7s finished\n",
            "===== ACCURACY SCORE 0.768700 =====\n",
            "\n",
            "===== FOLD 4 =====\n",
            "[Parallel(n_jobs=1)]: Using backend SequentialBackend with 1 concurrent workers.\n",
            "[Parallel(n_jobs=1)]: Done   1 out of   1 | elapsed:    1.5s remaining:    0.0s\n",
            "[Parallel(n_jobs=1)]: Done   1 out of   1 | elapsed:    1.5s finished\n",
            "===== ACCURACY SCORE 0.758300 =====\n",
            "\n",
            "===== FOLD 5 =====\n",
            "[Parallel(n_jobs=1)]: Using backend SequentialBackend with 1 concurrent workers.\n",
            "[Parallel(n_jobs=1)]: Done   1 out of   1 | elapsed:    0.7s remaining:    0.0s\n",
            "[Parallel(n_jobs=1)]: Done   1 out of   1 | elapsed:    0.7s finished\n",
            "===== ACCURACY SCORE 0.685500 =====\n",
            "\n",
            "===== FOLD 6 =====\n",
            "[Parallel(n_jobs=1)]: Using backend SequentialBackend with 1 concurrent workers.\n",
            "[Parallel(n_jobs=1)]: Done   1 out of   1 | elapsed:    0.7s remaining:    0.0s\n",
            "[Parallel(n_jobs=1)]: Done   1 out of   1 | elapsed:    0.7s finished\n",
            "===== ACCURACY SCORE 0.688800 =====\n",
            "\n",
            "===== FOLD 7 =====\n",
            "[Parallel(n_jobs=1)]: Using backend SequentialBackend with 1 concurrent workers.\n",
            "[Parallel(n_jobs=1)]: Done   1 out of   1 | elapsed:    1.7s remaining:    0.0s\n",
            "[Parallel(n_jobs=1)]: Done   1 out of   1 | elapsed:    1.7s finished\n",
            "===== ACCURACY SCORE 0.772600 =====\n",
            "\n",
            "===== FOLD 8 =====\n",
            "[Parallel(n_jobs=1)]: Using backend SequentialBackend with 1 concurrent workers.\n",
            "[Parallel(n_jobs=1)]: Done   1 out of   1 | elapsed:    2.3s remaining:    0.0s\n",
            "[Parallel(n_jobs=1)]: Done   1 out of   1 | elapsed:    2.3s finished\n",
            "===== ACCURACY SCORE 0.767800 =====\n",
            "\n",
            "===== FOLD 9 =====\n",
            "[Parallel(n_jobs=1)]: Using backend SequentialBackend with 1 concurrent workers.\n",
            "[Parallel(n_jobs=1)]: Done   1 out of   1 | elapsed:    1.7s remaining:    0.0s\n",
            "[Parallel(n_jobs=1)]: Done   1 out of   1 | elapsed:    1.7s finished\n",
            "===== ACCURACY SCORE 0.765200 =====\n",
            "\n"
          ],
          "name": "stdout"
        }
      ]
    },
    {
      "cell_type": "markdown",
      "metadata": {
        "id": "ee42ZGlRPOhA"
      },
      "source": [
        "## LightGBM"
      ]
    },
    {
      "cell_type": "code",
      "metadata": {
        "colab": {
          "base_uri": "https://localhost:8080/",
          "height": 17
        },
        "id": "ipvauXRYPSRP",
        "outputId": "55ad3641-4bf7-44fe-e55c-ead4d1e90479"
      },
      "source": [
        "params = {\n",
        "    'metric': 'binary_logloss',\n",
        "    'n_estimators': N_ESTIMATORS,\n",
        "    'objective': 'binary',\n",
        "    'random_state': SEED,\n",
        "    'learning_rate': 0.01,\n",
        "    'min_child_samples': 150,\n",
        "    'reg_alpha': 3e-5,\n",
        "    'reg_lambda': 9e-2,\n",
        "    'num_leaves': 20,\n",
        "    'max_depth': 16,\n",
        "    'colsample_bytree': 0.8,\n",
        "    'subsample': 0.8,\n",
        "    'subsample_freq': 2,\n",
        "    'max_bin': 240,\n",
        "}"
      ],
      "execution_count": 12,
      "outputs": [
        {
          "output_type": "display_data",
          "data": {
            "text/html": [
              "\n",
              "  <style>\n",
              "    pre {\n",
              "        white-space: pre-wrap;\n",
              "    }\n",
              "  </style>\n",
              "  "
            ],
            "text/plain": [
              "<IPython.core.display.HTML object>"
            ]
          },
          "metadata": {
            "tags": []
          }
        }
      ]
    },
    {
      "cell_type": "code",
      "metadata": {
        "colab": {
          "base_uri": "https://localhost:8080/",
          "height": 1000
        },
        "id": "EYvD38FQPYkl",
        "outputId": "d8f949e0-d7f8-43fc-f6a0-fddcd6d683f3"
      },
      "source": [
        "feature_importances = pd.DataFrame()\n",
        "X_test = test_df2.drop(TARGET, axis=1)\n",
        "skf = StratifiedKFold(n_splits=N_SPLIT, shuffle=True, random_state=SEED)\n",
        "\n",
        "for fold, (train_idx, valid_idx) in enumerate(skf.split(train_df2, train_df2[TARGET])):\n",
        "    print(f'===== FOLD {fold} =====')\n",
        "\n",
        "    X_train, y_train = train_df2.iloc[train_idx].drop(TARGET, axis=1),\\\n",
        "    train_df.iloc[train_idx][TARGET]\n",
        "    X_valid, y_valid = train_df2.iloc[valid_idx].drop(TARGET, axis=1),\\\n",
        "    train_df.iloc[valid_idx][TARGET]\n",
        "\n",
        "    pre_model = lgb.LGBMRegressor(**params)\n",
        "    pre_model.fit(\n",
        "        X_train, y_train,\n",
        "        eval_set = [(X_train, y_train), (X_valid, y_valid)],\n",
        "        early_stopping_rounds = EARLY_STOPPING_ROUNDS,\n",
        "        verbose = VERBOSE\n",
        "    )\n",
        "\n",
        "    params2 = params.copy()\n",
        "    params2['learning_rate'] = params['learning_rate'] * 0.1\n",
        "    model = lgb.LGBMRegressor(**params2)\n",
        "    model.fit(\n",
        "        X_train, y_train,\n",
        "        eval_set=[(X_train, y_train),(X_valid, y_valid)],\n",
        "        early_stopping_rounds=EARLY_STOPPING_ROUNDS,\n",
        "        verbose=VERBOSE,\n",
        "        init_model=pre_model\n",
        "    )\n",
        "\n",
        "    # feature importance\n",
        "    fi_tmp = pd.DataFrame()\n",
        "    fi_tmp['feature'] = model.feature_name_\n",
        "    fi_tmp['importance'] = model.feature_importances_\n",
        "    fi_tmp['fold'] = fold\n",
        "    fi_tmp['seed'] = SEED\n",
        "    feature_importances = feature_importances.append(fi_tmp)\n",
        "    \n",
        "    lgb_val = model.predict(X_valid)\n",
        "    lgb_val = [1 if v >= 0.5 else 0 for v in lgb_val]\n",
        "    lgb_preds = model.predict(X_test)\n",
        "\n",
        "    \n",
        "    # 확률이 0.5보다 크면 1, 작으면 0으로 분류\n",
        "    acc_score = accuracy_score(y_valid, lgb_val)\n",
        "    print(f\"===== ACCURACY SCORE {acc_score:.6f} =====\\n\")"
      ],
      "execution_count": 13,
      "outputs": [
        {
          "output_type": "display_data",
          "data": {
            "text/html": [
              "\n",
              "  <style>\n",
              "    pre {\n",
              "        white-space: pre-wrap;\n",
              "    }\n",
              "  </style>\n",
              "  "
            ],
            "text/plain": [
              "<IPython.core.display.HTML object>"
            ]
          },
          "metadata": {
            "tags": []
          }
        },
        {
          "output_type": "stream",
          "text": [
            "===== FOLD 0 =====\n",
            "Training until validation scores don't improve for 100 rounds\n",
            "[100]\ttraining's binary_logloss: 0.52195\tvalid_1's binary_logloss: 0.523998\n",
            "[200]\ttraining's binary_logloss: 0.484826\tvalid_1's binary_logloss: 0.488637\n",
            "[300]\ttraining's binary_logloss: 0.473859\tvalid_1's binary_logloss: 0.479154\n",
            "[400]\ttraining's binary_logloss: 0.469461\tvalid_1's binary_logloss: 0.475771\n",
            "[500]\ttraining's binary_logloss: 0.467025\tvalid_1's binary_logloss: 0.474104\n",
            "[600]\ttraining's binary_logloss: 0.465386\tvalid_1's binary_logloss: 0.473314\n",
            "[700]\ttraining's binary_logloss: 0.464096\tvalid_1's binary_logloss: 0.472792\n",
            "[800]\ttraining's binary_logloss: 0.463023\tvalid_1's binary_logloss: 0.472523\n",
            "[900]\ttraining's binary_logloss: 0.462084\tvalid_1's binary_logloss: 0.47237\n",
            "[1000]\ttraining's binary_logloss: 0.461183\tvalid_1's binary_logloss: 0.472227\n",
            "Did not meet early stopping. Best iteration is:\n",
            "[1000]\ttraining's binary_logloss: 0.461183\tvalid_1's binary_logloss: 0.472227\n",
            "Training until validation scores don't improve for 100 rounds\n",
            "[1100]\ttraining's binary_logloss: 0.461094\tvalid_1's binary_logloss: 0.472222\n",
            "[1200]\ttraining's binary_logloss: 0.461009\tvalid_1's binary_logloss: 0.472211\n",
            "[1300]\ttraining's binary_logloss: 0.460925\tvalid_1's binary_logloss: 0.472204\n",
            "[1400]\ttraining's binary_logloss: 0.460844\tvalid_1's binary_logloss: 0.472201\n",
            "Early stopping, best iteration is:\n",
            "[1390]\ttraining's binary_logloss: 0.460852\tvalid_1's binary_logloss: 0.4722\n",
            "===== ACCURACY SCORE 0.779000 =====\n",
            "\n",
            "===== FOLD 1 =====\n",
            "Training until validation scores don't improve for 100 rounds\n",
            "[100]\ttraining's binary_logloss: 0.522704\tvalid_1's binary_logloss: 0.51918\n",
            "[200]\ttraining's binary_logloss: 0.485975\tvalid_1's binary_logloss: 0.481349\n",
            "[300]\ttraining's binary_logloss: 0.475115\tvalid_1's binary_logloss: 0.470225\n",
            "[400]\ttraining's binary_logloss: 0.47075\tvalid_1's binary_logloss: 0.466134\n",
            "[500]\ttraining's binary_logloss: 0.468332\tvalid_1's binary_logloss: 0.464304\n",
            "[600]\ttraining's binary_logloss: 0.466676\tvalid_1's binary_logloss: 0.4633\n",
            "[700]\ttraining's binary_logloss: 0.465409\tvalid_1's binary_logloss: 0.462813\n",
            "[800]\ttraining's binary_logloss: 0.464352\tvalid_1's binary_logloss: 0.46249\n",
            "[900]\ttraining's binary_logloss: 0.463402\tvalid_1's binary_logloss: 0.462298\n",
            "[1000]\ttraining's binary_logloss: 0.462511\tvalid_1's binary_logloss: 0.462152\n",
            "Did not meet early stopping. Best iteration is:\n",
            "[1000]\ttraining's binary_logloss: 0.462511\tvalid_1's binary_logloss: 0.462152\n",
            "Training until validation scores don't improve for 100 rounds\n",
            "[1100]\ttraining's binary_logloss: 0.462424\tvalid_1's binary_logloss: 0.462135\n",
            "[1200]\ttraining's binary_logloss: 0.462342\tvalid_1's binary_logloss: 0.462124\n",
            "[1300]\ttraining's binary_logloss: 0.462258\tvalid_1's binary_logloss: 0.462108\n",
            "[1400]\ttraining's binary_logloss: 0.462174\tvalid_1's binary_logloss: 0.462093\n",
            "[1500]\ttraining's binary_logloss: 0.462089\tvalid_1's binary_logloss: 0.462085\n",
            "[1600]\ttraining's binary_logloss: 0.462005\tvalid_1's binary_logloss: 0.462073\n",
            "[1700]\ttraining's binary_logloss: 0.461922\tvalid_1's binary_logloss: 0.462058\n",
            "[1800]\ttraining's binary_logloss: 0.461837\tvalid_1's binary_logloss: 0.462044\n",
            "[1900]\ttraining's binary_logloss: 0.461756\tvalid_1's binary_logloss: 0.462034\n",
            "[2000]\ttraining's binary_logloss: 0.461675\tvalid_1's binary_logloss: 0.462022\n",
            "Did not meet early stopping. Best iteration is:\n",
            "[2000]\ttraining's binary_logloss: 0.461675\tvalid_1's binary_logloss: 0.462022\n",
            "===== ACCURACY SCORE 0.788600 =====\n",
            "\n",
            "===== FOLD 2 =====\n",
            "Training until validation scores don't improve for 100 rounds\n",
            "[100]\ttraining's binary_logloss: 0.522037\tvalid_1's binary_logloss: 0.52336\n",
            "[200]\ttraining's binary_logloss: 0.485134\tvalid_1's binary_logloss: 0.487293\n",
            "[300]\ttraining's binary_logloss: 0.474239\tvalid_1's binary_logloss: 0.476999\n",
            "[400]\ttraining's binary_logloss: 0.469852\tvalid_1's binary_logloss: 0.473221\n",
            "[500]\ttraining's binary_logloss: 0.467434\tvalid_1's binary_logloss: 0.471488\n",
            "[600]\ttraining's binary_logloss: 0.465755\tvalid_1's binary_logloss: 0.470694\n",
            "[700]\ttraining's binary_logloss: 0.46447\tvalid_1's binary_logloss: 0.470194\n",
            "[800]\ttraining's binary_logloss: 0.463379\tvalid_1's binary_logloss: 0.469959\n",
            "[900]\ttraining's binary_logloss: 0.46241\tvalid_1's binary_logloss: 0.469866\n",
            "Early stopping, best iteration is:\n",
            "[868]\ttraining's binary_logloss: 0.46272\tvalid_1's binary_logloss: 0.46985\n",
            "Training until validation scores don't improve for 100 rounds\n",
            "[900]\ttraining's binary_logloss: 0.46269\tvalid_1's binary_logloss: 0.469848\n",
            "[1000]\ttraining's binary_logloss: 0.462597\tvalid_1's binary_logloss: 0.469837\n",
            "[1100]\ttraining's binary_logloss: 0.462507\tvalid_1's binary_logloss: 0.469835\n",
            "[1200]\ttraining's binary_logloss: 0.462418\tvalid_1's binary_logloss: 0.469825\n",
            "[1300]\ttraining's binary_logloss: 0.462328\tvalid_1's binary_logloss: 0.469814\n",
            "[1400]\ttraining's binary_logloss: 0.462236\tvalid_1's binary_logloss: 0.469806\n",
            "[1500]\ttraining's binary_logloss: 0.462147\tvalid_1's binary_logloss: 0.469804\n",
            "[1600]\ttraining's binary_logloss: 0.462055\tvalid_1's binary_logloss: 0.469788\n",
            "[1700]\ttraining's binary_logloss: 0.461964\tvalid_1's binary_logloss: 0.469778\n",
            "[1800]\ttraining's binary_logloss: 0.461877\tvalid_1's binary_logloss: 0.469778\n",
            "Early stopping, best iteration is:\n",
            "[1722]\ttraining's binary_logloss: 0.461944\tvalid_1's binary_logloss: 0.469776\n",
            "===== ACCURACY SCORE 0.783600 =====\n",
            "\n",
            "===== FOLD 3 =====\n",
            "Training until validation scores don't improve for 100 rounds\n",
            "[100]\ttraining's binary_logloss: 0.521861\tvalid_1's binary_logloss: 0.525059\n",
            "[200]\ttraining's binary_logloss: 0.484797\tvalid_1's binary_logloss: 0.489376\n",
            "[300]\ttraining's binary_logloss: 0.473825\tvalid_1's binary_logloss: 0.479643\n",
            "[400]\ttraining's binary_logloss: 0.469374\tvalid_1's binary_logloss: 0.476104\n",
            "[500]\ttraining's binary_logloss: 0.466966\tvalid_1's binary_logloss: 0.474579\n",
            "[600]\ttraining's binary_logloss: 0.465295\tvalid_1's binary_logloss: 0.473908\n",
            "[700]\ttraining's binary_logloss: 0.464016\tvalid_1's binary_logloss: 0.473556\n",
            "[800]\ttraining's binary_logloss: 0.462937\tvalid_1's binary_logloss: 0.473298\n",
            "[900]\ttraining's binary_logloss: 0.462013\tvalid_1's binary_logloss: 0.473216\n",
            "[1000]\ttraining's binary_logloss: 0.461104\tvalid_1's binary_logloss: 0.473122\n",
            "Did not meet early stopping. Best iteration is:\n",
            "[1000]\ttraining's binary_logloss: 0.461104\tvalid_1's binary_logloss: 0.473122\n",
            "Training until validation scores don't improve for 100 rounds\n",
            "[1100]\ttraining's binary_logloss: 0.461017\tvalid_1's binary_logloss: 0.473129\n",
            "Early stopping, best iteration is:\n",
            "[1021]\ttraining's binary_logloss: 0.461086\tvalid_1's binary_logloss: 0.473122\n",
            "===== ACCURACY SCORE 0.782800 =====\n",
            "\n",
            "===== FOLD 4 =====\n",
            "Training until validation scores don't improve for 100 rounds\n",
            "[100]\ttraining's binary_logloss: 0.52201\tvalid_1's binary_logloss: 0.524383\n",
            "[200]\ttraining's binary_logloss: 0.485011\tvalid_1's binary_logloss: 0.48873\n",
            "[300]\ttraining's binary_logloss: 0.474128\tvalid_1's binary_logloss: 0.47843\n",
            "[400]\ttraining's binary_logloss: 0.469787\tvalid_1's binary_logloss: 0.474651\n",
            "[500]\ttraining's binary_logloss: 0.467342\tvalid_1's binary_logloss: 0.472865\n",
            "[600]\ttraining's binary_logloss: 0.465677\tvalid_1's binary_logloss: 0.471931\n",
            "[700]\ttraining's binary_logloss: 0.46442\tvalid_1's binary_logloss: 0.471467\n",
            "[800]\ttraining's binary_logloss: 0.463335\tvalid_1's binary_logloss: 0.471189\n",
            "[900]\ttraining's binary_logloss: 0.462388\tvalid_1's binary_logloss: 0.471068\n",
            "[1000]\ttraining's binary_logloss: 0.461492\tvalid_1's binary_logloss: 0.471036\n",
            "Did not meet early stopping. Best iteration is:\n",
            "[1000]\ttraining's binary_logloss: 0.461492\tvalid_1's binary_logloss: 0.471036\n",
            "Training until validation scores don't improve for 100 rounds\n",
            "[1100]\ttraining's binary_logloss: 0.461405\tvalid_1's binary_logloss: 0.471027\n",
            "[1200]\ttraining's binary_logloss: 0.461318\tvalid_1's binary_logloss: 0.471022\n",
            "[1300]\ttraining's binary_logloss: 0.461231\tvalid_1's binary_logloss: 0.471011\n",
            "[1400]\ttraining's binary_logloss: 0.461146\tvalid_1's binary_logloss: 0.471005\n",
            "[1500]\ttraining's binary_logloss: 0.461061\tvalid_1's binary_logloss: 0.471002\n",
            "[1600]\ttraining's binary_logloss: 0.46098\tvalid_1's binary_logloss: 0.470992\n",
            "[1700]\ttraining's binary_logloss: 0.460895\tvalid_1's binary_logloss: 0.470987\n",
            "[1800]\ttraining's binary_logloss: 0.46081\tvalid_1's binary_logloss: 0.470985\n",
            "[1900]\ttraining's binary_logloss: 0.460732\tvalid_1's binary_logloss: 0.47098\n",
            "[2000]\ttraining's binary_logloss: 0.46065\tvalid_1's binary_logloss: 0.470982\n",
            "Did not meet early stopping. Best iteration is:\n",
            "[2000]\ttraining's binary_logloss: 0.46065\tvalid_1's binary_logloss: 0.470982\n",
            "===== ACCURACY SCORE 0.780400 =====\n",
            "\n",
            "===== FOLD 5 =====\n",
            "Training until validation scores don't improve for 100 rounds\n",
            "[100]\ttraining's binary_logloss: 0.522394\tvalid_1's binary_logloss: 0.522067\n",
            "[200]\ttraining's binary_logloss: 0.485488\tvalid_1's binary_logloss: 0.485128\n",
            "[300]\ttraining's binary_logloss: 0.474652\tvalid_1's binary_logloss: 0.47446\n",
            "[400]\ttraining's binary_logloss: 0.470278\tvalid_1's binary_logloss: 0.470521\n",
            "[500]\ttraining's binary_logloss: 0.467829\tvalid_1's binary_logloss: 0.468664\n",
            "[600]\ttraining's binary_logloss: 0.466182\tvalid_1's binary_logloss: 0.467694\n",
            "[700]\ttraining's binary_logloss: 0.464921\tvalid_1's binary_logloss: 0.467171\n",
            "[800]\ttraining's binary_logloss: 0.463883\tvalid_1's binary_logloss: 0.466879\n",
            "[900]\ttraining's binary_logloss: 0.462916\tvalid_1's binary_logloss: 0.466704\n",
            "[1000]\ttraining's binary_logloss: 0.462041\tvalid_1's binary_logloss: 0.466565\n",
            "Did not meet early stopping. Best iteration is:\n",
            "[1000]\ttraining's binary_logloss: 0.462041\tvalid_1's binary_logloss: 0.466565\n",
            "Training until validation scores don't improve for 100 rounds\n",
            "[1100]\ttraining's binary_logloss: 0.461953\tvalid_1's binary_logloss: 0.466547\n",
            "[1200]\ttraining's binary_logloss: 0.461867\tvalid_1's binary_logloss: 0.466533\n",
            "[1300]\ttraining's binary_logloss: 0.461782\tvalid_1's binary_logloss: 0.466529\n",
            "[1400]\ttraining's binary_logloss: 0.461697\tvalid_1's binary_logloss: 0.466509\n",
            "[1500]\ttraining's binary_logloss: 0.461613\tvalid_1's binary_logloss: 0.466499\n",
            "[1600]\ttraining's binary_logloss: 0.461526\tvalid_1's binary_logloss: 0.466485\n",
            "[1700]\ttraining's binary_logloss: 0.461442\tvalid_1's binary_logloss: 0.466475\n",
            "[1800]\ttraining's binary_logloss: 0.46136\tvalid_1's binary_logloss: 0.466469\n",
            "[1900]\ttraining's binary_logloss: 0.461277\tvalid_1's binary_logloss: 0.46646\n",
            "[2000]\ttraining's binary_logloss: 0.461195\tvalid_1's binary_logloss: 0.466455\n",
            "Did not meet early stopping. Best iteration is:\n",
            "[2000]\ttraining's binary_logloss: 0.461195\tvalid_1's binary_logloss: 0.466455\n",
            "===== ACCURACY SCORE 0.785000 =====\n",
            "\n",
            "===== FOLD 6 =====\n",
            "Training until validation scores don't improve for 100 rounds\n",
            "[100]\ttraining's binary_logloss: 0.52284\tvalid_1's binary_logloss: 0.518276\n",
            "[200]\ttraining's binary_logloss: 0.486072\tvalid_1's binary_logloss: 0.479885\n",
            "[300]\ttraining's binary_logloss: 0.475282\tvalid_1's binary_logloss: 0.468872\n",
            "[400]\ttraining's binary_logloss: 0.47092\tvalid_1's binary_logloss: 0.46473\n",
            "[500]\ttraining's binary_logloss: 0.468545\tvalid_1's binary_logloss: 0.462797\n",
            "[600]\ttraining's binary_logloss: 0.466879\tvalid_1's binary_logloss: 0.461706\n",
            "[700]\ttraining's binary_logloss: 0.465663\tvalid_1's binary_logloss: 0.461122\n",
            "[800]\ttraining's binary_logloss: 0.464624\tvalid_1's binary_logloss: 0.460814\n",
            "[900]\ttraining's binary_logloss: 0.463697\tvalid_1's binary_logloss: 0.460658\n",
            "[1000]\ttraining's binary_logloss: 0.462815\tvalid_1's binary_logloss: 0.460485\n",
            "Did not meet early stopping. Best iteration is:\n",
            "[1000]\ttraining's binary_logloss: 0.462815\tvalid_1's binary_logloss: 0.460485\n",
            "Training until validation scores don't improve for 100 rounds\n",
            "[1100]\ttraining's binary_logloss: 0.462729\tvalid_1's binary_logloss: 0.460469\n",
            "[1200]\ttraining's binary_logloss: 0.462641\tvalid_1's binary_logloss: 0.460455\n",
            "[1300]\ttraining's binary_logloss: 0.462555\tvalid_1's binary_logloss: 0.460446\n",
            "[1400]\ttraining's binary_logloss: 0.462475\tvalid_1's binary_logloss: 0.460429\n",
            "[1500]\ttraining's binary_logloss: 0.462392\tvalid_1's binary_logloss: 0.460407\n",
            "[1600]\ttraining's binary_logloss: 0.46231\tvalid_1's binary_logloss: 0.460397\n",
            "[1700]\ttraining's binary_logloss: 0.462228\tvalid_1's binary_logloss: 0.460383\n",
            "[1800]\ttraining's binary_logloss: 0.462146\tvalid_1's binary_logloss: 0.460371\n",
            "[1900]\ttraining's binary_logloss: 0.462069\tvalid_1's binary_logloss: 0.46036\n",
            "[2000]\ttraining's binary_logloss: 0.461988\tvalid_1's binary_logloss: 0.460348\n",
            "Did not meet early stopping. Best iteration is:\n",
            "[2000]\ttraining's binary_logloss: 0.461988\tvalid_1's binary_logloss: 0.460348\n",
            "===== ACCURACY SCORE 0.785900 =====\n",
            "\n",
            "===== FOLD 7 =====\n",
            "Training until validation scores don't improve for 100 rounds\n",
            "[100]\ttraining's binary_logloss: 0.522559\tvalid_1's binary_logloss: 0.519849\n",
            "[200]\ttraining's binary_logloss: 0.485761\tvalid_1's binary_logloss: 0.482267\n",
            "[300]\ttraining's binary_logloss: 0.47484\tvalid_1's binary_logloss: 0.471547\n",
            "[400]\ttraining's binary_logloss: 0.470435\tvalid_1's binary_logloss: 0.467685\n",
            "[500]\ttraining's binary_logloss: 0.468023\tvalid_1's binary_logloss: 0.465999\n",
            "[600]\ttraining's binary_logloss: 0.466297\tvalid_1's binary_logloss: 0.465284\n",
            "[700]\ttraining's binary_logloss: 0.465021\tvalid_1's binary_logloss: 0.465012\n",
            "[800]\ttraining's binary_logloss: 0.463949\tvalid_1's binary_logloss: 0.464953\n",
            "Early stopping, best iteration is:\n",
            "[731]\ttraining's binary_logloss: 0.464674\tvalid_1's binary_logloss: 0.464943\n",
            "Training until validation scores don't improve for 100 rounds\n",
            "[800]\ttraining's binary_logloss: 0.464598\tvalid_1's binary_logloss: 0.464942\n",
            "Early stopping, best iteration is:\n",
            "[743]\ttraining's binary_logloss: 0.464661\tvalid_1's binary_logloss: 0.46494\n",
            "===== ACCURACY SCORE 0.788800 =====\n",
            "\n",
            "===== FOLD 8 =====\n",
            "Training until validation scores don't improve for 100 rounds\n",
            "[100]\ttraining's binary_logloss: 0.521548\tvalid_1's binary_logloss: 0.526133\n",
            "[200]\ttraining's binary_logloss: 0.484561\tvalid_1's binary_logloss: 0.491406\n",
            "[300]\ttraining's binary_logloss: 0.473623\tvalid_1's binary_logloss: 0.481902\n",
            "[400]\ttraining's binary_logloss: 0.469182\tvalid_1's binary_logloss: 0.478545\n",
            "[500]\ttraining's binary_logloss: 0.466746\tvalid_1's binary_logloss: 0.477057\n",
            "[600]\ttraining's binary_logloss: 0.46508\tvalid_1's binary_logloss: 0.47628\n",
            "[700]\ttraining's binary_logloss: 0.463803\tvalid_1's binary_logloss: 0.475882\n",
            "[800]\ttraining's binary_logloss: 0.462753\tvalid_1's binary_logloss: 0.475661\n",
            "[900]\ttraining's binary_logloss: 0.46183\tvalid_1's binary_logloss: 0.475518\n",
            "[1000]\ttraining's binary_logloss: 0.460941\tvalid_1's binary_logloss: 0.47539\n",
            "Did not meet early stopping. Best iteration is:\n",
            "[1000]\ttraining's binary_logloss: 0.460941\tvalid_1's binary_logloss: 0.47539\n",
            "Training until validation scores don't improve for 100 rounds\n",
            "[1100]\ttraining's binary_logloss: 0.460853\tvalid_1's binary_logloss: 0.475376\n",
            "[1200]\ttraining's binary_logloss: 0.460767\tvalid_1's binary_logloss: 0.475366\n",
            "[1300]\ttraining's binary_logloss: 0.460682\tvalid_1's binary_logloss: 0.475361\n",
            "[1400]\ttraining's binary_logloss: 0.460595\tvalid_1's binary_logloss: 0.475355\n",
            "[1500]\ttraining's binary_logloss: 0.46051\tvalid_1's binary_logloss: 0.475339\n",
            "[1600]\ttraining's binary_logloss: 0.460426\tvalid_1's binary_logloss: 0.475333\n",
            "[1700]\ttraining's binary_logloss: 0.460339\tvalid_1's binary_logloss: 0.475328\n",
            "[1800]\ttraining's binary_logloss: 0.460256\tvalid_1's binary_logloss: 0.475324\n",
            "[1900]\ttraining's binary_logloss: 0.460176\tvalid_1's binary_logloss: 0.475321\n",
            "[2000]\ttraining's binary_logloss: 0.460095\tvalid_1's binary_logloss: 0.475308\n",
            "Did not meet early stopping. Best iteration is:\n",
            "[2000]\ttraining's binary_logloss: 0.460095\tvalid_1's binary_logloss: 0.475308\n",
            "===== ACCURACY SCORE 0.777400 =====\n",
            "\n",
            "===== FOLD 9 =====\n",
            "Training until validation scores don't improve for 100 rounds\n",
            "[100]\ttraining's binary_logloss: 0.522051\tvalid_1's binary_logloss: 0.524528\n",
            "[200]\ttraining's binary_logloss: 0.485098\tvalid_1's binary_logloss: 0.488465\n",
            "[300]\ttraining's binary_logloss: 0.474082\tvalid_1's binary_logloss: 0.478293\n",
            "[400]\ttraining's binary_logloss: 0.469621\tvalid_1's binary_logloss: 0.474788\n",
            "[500]\ttraining's binary_logloss: 0.467216\tvalid_1's binary_logloss: 0.473346\n",
            "[600]\ttraining's binary_logloss: 0.465546\tvalid_1's binary_logloss: 0.472598\n",
            "[700]\ttraining's binary_logloss: 0.464263\tvalid_1's binary_logloss: 0.472206\n",
            "[800]\ttraining's binary_logloss: 0.463152\tvalid_1's binary_logloss: 0.472047\n",
            "[900]\ttraining's binary_logloss: 0.462188\tvalid_1's binary_logloss: 0.472021\n",
            "[1000]\ttraining's binary_logloss: 0.46129\tvalid_1's binary_logloss: 0.471981\n",
            "Did not meet early stopping. Best iteration is:\n",
            "[1000]\ttraining's binary_logloss: 0.46129\tvalid_1's binary_logloss: 0.471981\n",
            "Training until validation scores don't improve for 100 rounds\n",
            "[1100]\ttraining's binary_logloss: 0.461201\tvalid_1's binary_logloss: 0.471992\n",
            "Early stopping, best iteration is:\n",
            "[1002]\ttraining's binary_logloss: 0.461288\tvalid_1's binary_logloss: 0.471981\n",
            "===== ACCURACY SCORE 0.777600 =====\n",
            "\n"
          ],
          "name": "stdout"
        }
      ]
    },
    {
      "cell_type": "markdown",
      "metadata": {
        "id": "8w-pt51lqvji"
      },
      "source": [
        "### Feature Importance"
      ]
    },
    {
      "cell_type": "code",
      "metadata": {
        "colab": {
          "base_uri": "https://localhost:8080/",
          "height": 646
        },
        "id": "x7v8OE6HqvRB",
        "outputId": "60f2b152-6756-4b8d-a783-7bc37af9b4ec"
      },
      "source": [
        "order = list(feature_importances.groupby('feature').mean().\\\n",
        "             sort_values('importance', ascending=False).index)\n",
        "plt.figure(figsize=(10, 10))\n",
        "sns.barplot(x='importance', y='feature', data=feature_importances, order=order)\n",
        "plt.title('{} importance'.format('LGBMRegressor'))\n",
        "plt.tight_layout()"
      ],
      "execution_count": 14,
      "outputs": [
        {
          "output_type": "display_data",
          "data": {
            "text/html": [
              "\n",
              "  <style>\n",
              "    pre {\n",
              "        white-space: pre-wrap;\n",
              "    }\n",
              "  </style>\n",
              "  "
            ],
            "text/plain": [
              "<IPython.core.display.HTML object>"
            ]
          },
          "metadata": {
            "tags": []
          }
        },
        {
          "output_type": "display_data",
          "data": {
            "image/png": "[encoded data removed]",
            "text/plain": [
              "<Figure size 720x720 with 1 Axes>"
            ]
          },
          "metadata": {
            "tags": [],
            "needs_background": "light"
          }
        }
      ]
    },
    {
      "cell_type": "markdown",
      "metadata": {
        "id": "gEGugBkPrNyk"
      },
      "source": [
        "## CatBoost"
      ]
    },
    {
      "cell_type": "code",
      "metadata": {
        "colab": {
          "base_uri": "https://localhost:8080/",
          "height": 17
        },
        "id": "4Pe28sfHrRwq",
        "outputId": "079774a9-1ab3-4eca-9d8a-2015e732bb42"
      },
      "source": [
        "params = {\n",
        "    'bootstrap_type': 'Poisson',\n",
        "    'loss_function': 'Logloss',\n",
        "    'eval_metric': 'Logloss',\n",
        "    'random_seed': SEED,\n",
        "    'task_type': 'GPU',\n",
        "    'max_depth': 8,\n",
        "    'learning_rate': 0.01,\n",
        "    'n_estimators': N_ESTIMATORS,\n",
        "    'max_bin': 280,\n",
        "    'min_data_in_leaf': 64,\n",
        "    'l2_leaf_reg': 0.01,\n",
        "    'subsample': 0.8\n",
        "}"
      ],
      "execution_count": 15,
      "outputs": [
        {
          "output_type": "display_data",
          "data": {
            "text/html": [
              "\n",
              "  <style>\n",
              "    pre {\n",
              "        white-space: pre-wrap;\n",
              "    }\n",
              "  </style>\n",
              "  "
            ],
            "text/plain": [
              "<IPython.core.display.HTML object>"
            ]
          },
          "metadata": {
            "tags": []
          }
        }
      ]
    },
    {
      "cell_type": "code",
      "metadata": {
        "colab": {
          "base_uri": "https://localhost:8080/",
          "height": 1000
        },
        "id": "FB3NWFJ3rTGC",
        "outputId": "6d17b397-4e33-4eaa-fb00-cdcda71ee667"
      },
      "source": [
        "feature_importances = pd.DataFrame()\n",
        "\n",
        "skf = StratifiedKFold(n_splits=N_SPLIT, shuffle=True, random_state=SEED)\n",
        "\n",
        "for fold, (train_idx, valid_idx) in enumerate(skf.split(train_df2, train_df2[TARGET])):\n",
        "    print(f'===== FOLD {fold} =====')\n",
        "\n",
        "    X_train, y_train = train_df2.iloc[train_idx].drop(TARGET, axis=1),\\\n",
        "    train_df.iloc[train_idx][TARGET]\n",
        "    X_valid, y_valid = train_df2.iloc[valid_idx].drop(TARGET, axis=1),\\\n",
        "    train_df.iloc[valid_idx][TARGET]\n",
        "\n",
        "    model = ctb.CatBoostClassifier(**params)\n",
        "    model.fit(\n",
        "        X_train, y_train,\n",
        "        eval_set=[(X_valid, y_valid)],\n",
        "        use_best_model = True,\n",
        "        early_stopping_rounds=EARLY_STOPPING_ROUNDS,\n",
        "        verbose=VERBOSE,\n",
        "    )\n",
        "\n",
        "    # feature importance\n",
        "    fi_tmp = pd.DataFrame()\n",
        "    fi_tmp['feature'] = X_test.columns.to_list()\n",
        "    fi_tmp['importance'] = model.get_feature_importance()\n",
        "    fi_tmp['fold'] = fold\n",
        "    fi_tmp['seed'] = SEED\n",
        "    feature_importances = feature_importances.append(fi_tmp)\n",
        "    \n",
        "    ctb_val = model.predict(X_valid)\n",
        "    ctb_val = [1 if v >= 0.5 else 0 for v in ctb_val]\n",
        "    ctb_preds = model.predict(X_test)\n",
        "    \n",
        "    # 확률이 0.5보다 크면 1, 작으면 0으로 분류\n",
        "    acc_score = accuracy_score(y_valid, ctb_val)\n",
        "    print(f\"===== ACCURACY SCORE {acc_score:.6f} =====\\n\")"
      ],
      "execution_count": 16,
      "outputs": [
        {
          "output_type": "display_data",
          "data": {
            "text/html": [
              "\n",
              "  <style>\n",
              "    pre {\n",
              "        white-space: pre-wrap;\n",
              "    }\n",
              "  </style>\n",
              "  "
            ],
            "text/plain": [
              "<IPython.core.display.HTML object>"
            ]
          },
          "metadata": {
            "tags": []
          }
        },
        {
          "output_type": "stream",
          "text": [
            "===== FOLD 0 =====\n",
            "0:\tlearn: 0.6880902\ttest: 0.6881691\tbest: 0.6881691 (0)\ttotal: 20.9ms\tremaining: 20.9s\n",
            "100:\tlearn: 0.4980864\ttest: 0.5026096\tbest: 0.5026096 (100)\ttotal: 2s\tremaining: 17.8s\n",
            "200:\tlearn: 0.4738206\ttest: 0.4815487\tbest: 0.4815487 (200)\ttotal: 3.92s\tremaining: 15.6s\n",
            "300:\tlearn: 0.4671748\ttest: 0.4773983\tbest: 0.4773983 (300)\ttotal: 5.79s\tremaining: 13.4s\n",
            "400:\tlearn: 0.4635072\ttest: 0.4757634\tbest: 0.4757634 (400)\ttotal: 7.6s\tremaining: 11.4s\n",
            "500:\tlearn: 0.4606957\ttest: 0.4749810\tbest: 0.4749810 (500)\ttotal: 9.37s\tremaining: 9.34s\n",
            "600:\tlearn: 0.4582118\ttest: 0.4745424\tbest: 0.4745424 (600)\ttotal: 11.2s\tremaining: 7.43s\n",
            "700:\tlearn: 0.4560348\ttest: 0.4743112\tbest: 0.4743036 (699)\ttotal: 13s\tremaining: 5.54s\n",
            "800:\tlearn: 0.4538536\ttest: 0.4741119\tbest: 0.4741119 (800)\ttotal: 14.8s\tremaining: 3.68s\n",
            "900:\tlearn: 0.4517912\ttest: 0.4740388\tbest: 0.4740388 (900)\ttotal: 16.6s\tremaining: 1.82s\n",
            "999:\tlearn: 0.4498273\ttest: 0.4740169\tbest: 0.4740007 (988)\ttotal: 18.4s\tremaining: 0us\n",
            "bestTest = 0.4740006836\n",
            "bestIteration = 988\n",
            "Shrink model to first 989 iterations.\n",
            "===== ACCURACY SCORE 0.777800 =====\n",
            "\n",
            "===== FOLD 1 =====\n",
            "0:\tlearn: 0.6881300\ttest: 0.6880576\tbest: 0.6880576 (0)\ttotal: 16ms\tremaining: 16s\n",
            "100:\tlearn: 0.4989163\ttest: 0.4959821\tbest: 0.4959821 (100)\ttotal: 1.59s\tremaining: 14.1s\n",
            "200:\tlearn: 0.4749076\ttest: 0.4724405\tbest: 0.4724405 (200)\ttotal: 3.14s\tremaining: 12.5s\n",
            "300:\tlearn: 0.4683574\ttest: 0.4675409\tbest: 0.4675409 (300)\ttotal: 4.79s\tremaining: 11.1s\n",
            "400:\tlearn: 0.4645832\ttest: 0.4656611\tbest: 0.4656611 (400)\ttotal: 6.4s\tremaining: 9.56s\n",
            "500:\tlearn: 0.4619176\ttest: 0.4649286\tbest: 0.4649257 (499)\ttotal: 8.03s\tremaining: 8s\n",
            "600:\tlearn: 0.4594914\ttest: 0.4644926\tbest: 0.4644926 (600)\ttotal: 9.7s\tremaining: 6.44s\n",
            "700:\tlearn: 0.4571511\ttest: 0.4641528\tbest: 0.4641524 (698)\ttotal: 11.4s\tremaining: 4.85s\n",
            "800:\tlearn: 0.4550386\ttest: 0.4637994\tbest: 0.4637994 (800)\ttotal: 13.1s\tremaining: 3.25s\n",
            "900:\tlearn: 0.4530399\ttest: 0.4636459\tbest: 0.4636180 (872)\ttotal: 14.7s\tremaining: 1.62s\n",
            "999:\tlearn: 0.4510975\ttest: 0.4633528\tbest: 0.4633345 (994)\ttotal: 16.4s\tremaining: 0us\n",
            "bestTest = 0.4633344727\n",
            "bestIteration = 994\n",
            "Shrink model to first 995 iterations.\n",
            "===== ACCURACY SCORE 0.789400 =====\n",
            "\n",
            "===== FOLD 2 =====\n",
            "0:\tlearn: 0.6881059\ttest: 0.6881238\tbest: 0.6881238 (0)\ttotal: 23.7ms\tremaining: 23.7s\n",
            "100:\tlearn: 0.4981544\ttest: 0.5012896\tbest: 0.5012896 (100)\ttotal: 1.58s\tremaining: 14.1s\n",
            "200:\tlearn: 0.4742738\ttest: 0.4797444\tbest: 0.4797444 (200)\ttotal: 3.13s\tremaining: 12.5s\n",
            "300:\tlearn: 0.4676937\ttest: 0.4750119\tbest: 0.4750119 (300)\ttotal: 4.69s\tremaining: 10.9s\n",
            "400:\tlearn: 0.4639237\ttest: 0.4733896\tbest: 0.4733896 (400)\ttotal: 6.28s\tremaining: 9.38s\n",
            "500:\tlearn: 0.4611892\ttest: 0.4725551\tbest: 0.4725537 (499)\ttotal: 7.85s\tremaining: 7.81s\n",
            "600:\tlearn: 0.4586559\ttest: 0.4720804\tbest: 0.4720804 (600)\ttotal: 9.41s\tremaining: 6.25s\n",
            "700:\tlearn: 0.4563816\ttest: 0.4716680\tbest: 0.4716680 (700)\ttotal: 11s\tremaining: 4.68s\n",
            "800:\tlearn: 0.4542226\ttest: 0.4713257\tbest: 0.4713257 (800)\ttotal: 12.5s\tremaining: 3.11s\n",
            "900:\tlearn: 0.4521395\ttest: 0.4710861\tbest: 0.4710659 (895)\ttotal: 14.1s\tremaining: 1.54s\n",
            "999:\tlearn: 0.4500953\ttest: 0.4709599\tbest: 0.4709588 (995)\ttotal: 15.6s\tremaining: 0us\n",
            "bestTest = 0.4709588379\n",
            "bestIteration = 995\n",
            "Shrink model to first 996 iterations.\n",
            "===== ACCURACY SCORE 0.782200 =====\n",
            "\n",
            "===== FOLD 3 =====\n",
            "0:\tlearn: 0.6882078\ttest: 0.6883021\tbest: 0.6883021 (0)\ttotal: 16.9ms\tremaining: 16.9s\n",
            "100:\tlearn: 0.4979871\ttest: 0.5028308\tbest: 0.5028308 (100)\ttotal: 1.62s\tremaining: 14.4s\n",
            "200:\tlearn: 0.4735658\ttest: 0.4813346\tbest: 0.4813346 (200)\ttotal: 3.24s\tremaining: 12.9s\n",
            "300:\tlearn: 0.4670189\ttest: 0.4775058\tbest: 0.4775058 (300)\ttotal: 4.84s\tremaining: 11.2s\n",
            "400:\tlearn: 0.4633845\ttest: 0.4759800\tbest: 0.4759800 (400)\ttotal: 6.45s\tremaining: 9.63s\n",
            "500:\tlearn: 0.4605947\ttest: 0.4752760\tbest: 0.4752503 (497)\ttotal: 8.03s\tremaining: 8s\n",
            "600:\tlearn: 0.4582125\ttest: 0.4748088\tbest: 0.4748039 (598)\ttotal: 9.61s\tremaining: 6.38s\n",
            "700:\tlearn: 0.4559171\ttest: 0.4744564\tbest: 0.4744564 (700)\ttotal: 11.2s\tremaining: 4.78s\n",
            "800:\tlearn: 0.4538520\ttest: 0.4742826\tbest: 0.4742826 (800)\ttotal: 12.8s\tremaining: 3.18s\n",
            "900:\tlearn: 0.4517743\ttest: 0.4741363\tbest: 0.4741323 (898)\ttotal: 14.3s\tremaining: 1.57s\n",
            "999:\tlearn: 0.4498289\ttest: 0.4741123\tbest: 0.4740611 (940)\ttotal: 15.9s\tremaining: 0us\n",
            "bestTest = 0.4740611328\n",
            "bestIteration = 940\n",
            "Shrink model to first 941 iterations.\n",
            "===== ACCURACY SCORE 0.784000 =====\n",
            "\n",
            "===== FOLD 4 =====\n",
            "0:\tlearn: 0.6880971\ttest: 0.6881527\tbest: 0.6881527 (0)\ttotal: 16.5ms\tremaining: 16.5s\n",
            "100:\tlearn: 0.4981149\ttest: 0.5015989\tbest: 0.5015989 (100)\ttotal: 1.56s\tremaining: 13.9s\n",
            "200:\tlearn: 0.4741430\ttest: 0.4799518\tbest: 0.4799518 (200)\ttotal: 3.21s\tremaining: 12.7s\n",
            "300:\tlearn: 0.4675249\ttest: 0.4756741\tbest: 0.4756741 (300)\ttotal: 4.86s\tremaining: 11.3s\n",
            "400:\tlearn: 0.4639340\ttest: 0.4740664\tbest: 0.4740644 (399)\ttotal: 6.46s\tremaining: 9.64s\n",
            "500:\tlearn: 0.4612419\ttest: 0.4733748\tbest: 0.4733748 (500)\ttotal: 8.03s\tremaining: 8s\n",
            "600:\tlearn: 0.4586678\ttest: 0.4727742\tbest: 0.4727742 (600)\ttotal: 9.65s\tremaining: 6.41s\n",
            "700:\tlearn: 0.4564275\ttest: 0.4724875\tbest: 0.4724713 (684)\ttotal: 11.2s\tremaining: 4.79s\n",
            "800:\tlearn: 0.4541346\ttest: 0.4721015\tbest: 0.4720914 (798)\ttotal: 12.8s\tremaining: 3.18s\n",
            "900:\tlearn: 0.4521999\ttest: 0.4719964\tbest: 0.4719722 (841)\ttotal: 14.5s\tremaining: 1.59s\n",
            "999:\tlearn: 0.4502276\ttest: 0.4720346\tbest: 0.4719583 (907)\ttotal: 16.1s\tremaining: 0us\n",
            "bestTest = 0.4719583008\n",
            "bestIteration = 907\n",
            "Shrink model to first 908 iterations.\n",
            "===== ACCURACY SCORE 0.781900 =====\n",
            "\n",
            "===== FOLD 5 =====\n",
            "0:\tlearn: 0.6881096\ttest: 0.6881271\tbest: 0.6881271 (0)\ttotal: 16.3ms\tremaining: 16.3s\n",
            "100:\tlearn: 0.4986176\ttest: 0.4994778\tbest: 0.4994778 (100)\ttotal: 1.58s\tremaining: 14s\n",
            "200:\tlearn: 0.4746106\ttest: 0.4769361\tbest: 0.4769361 (200)\ttotal: 3.18s\tremaining: 12.6s\n",
            "300:\tlearn: 0.4679592\ttest: 0.4723332\tbest: 0.4723332 (300)\ttotal: 4.74s\tremaining: 11s\n",
            "400:\tlearn: 0.4642214\ttest: 0.4702781\tbest: 0.4702781 (400)\ttotal: 6.3s\tremaining: 9.42s\n",
            "500:\tlearn: 0.4614493\ttest: 0.4692066\tbest: 0.4692066 (500)\ttotal: 7.86s\tremaining: 7.83s\n",
            "600:\tlearn: 0.4589703\ttest: 0.4685321\tbest: 0.4685321 (600)\ttotal: 9.44s\tremaining: 6.27s\n",
            "700:\tlearn: 0.4566529\ttest: 0.4681446\tbest: 0.4681446 (700)\ttotal: 11s\tremaining: 4.7s\n",
            "800:\tlearn: 0.4545557\ttest: 0.4677990\tbest: 0.4677836 (797)\ttotal: 12.6s\tremaining: 3.12s\n",
            "900:\tlearn: 0.4524201\ttest: 0.4675636\tbest: 0.4675622 (886)\ttotal: 14.1s\tremaining: 1.55s\n",
            "999:\tlearn: 0.4505199\ttest: 0.4674582\tbest: 0.4674534 (995)\ttotal: 15.7s\tremaining: 0us\n",
            "bestTest = 0.467453418\n",
            "bestIteration = 995\n",
            "Shrink model to first 996 iterations.\n",
            "===== ACCURACY SCORE 0.783000 =====\n",
            "\n",
            "===== FOLD 6 =====\n",
            "0:\tlearn: 0.6881331\ttest: 0.6880648\tbest: 0.6880648 (0)\ttotal: 24.1ms\tremaining: 24.1s\n",
            "100:\tlearn: 0.4990969\ttest: 0.4952566\tbest: 0.4952566 (100)\ttotal: 1.57s\tremaining: 14s\n",
            "200:\tlearn: 0.4750982\ttest: 0.4717889\tbest: 0.4717889 (200)\ttotal: 3.15s\tremaining: 12.5s\n",
            "300:\tlearn: 0.4683937\ttest: 0.4668112\tbest: 0.4668112 (300)\ttotal: 4.78s\tremaining: 11.1s\n",
            "400:\tlearn: 0.4647999\ttest: 0.4649636\tbest: 0.4649636 (400)\ttotal: 6.42s\tremaining: 9.59s\n",
            "500:\tlearn: 0.4621077\ttest: 0.4640250\tbest: 0.4640250 (500)\ttotal: 7.93s\tremaining: 7.89s\n",
            "600:\tlearn: 0.4597560\ttest: 0.4634685\tbest: 0.4634632 (598)\ttotal: 9.46s\tremaining: 6.28s\n",
            "700:\tlearn: 0.4574554\ttest: 0.4631834\tbest: 0.4631834 (700)\ttotal: 11s\tremaining: 4.68s\n",
            "800:\tlearn: 0.4552867\ttest: 0.4630369\tbest: 0.4630340 (794)\ttotal: 12.5s\tremaining: 3.1s\n",
            "900:\tlearn: 0.4532141\ttest: 0.4629471\tbest: 0.4629141 (884)\ttotal: 14s\tremaining: 1.54s\n",
            "999:\tlearn: 0.4513721\ttest: 0.4628353\tbest: 0.4628353 (999)\ttotal: 15.5s\tremaining: 0us\n",
            "bestTest = 0.4628352539\n",
            "bestIteration = 999\n",
            "===== ACCURACY SCORE 0.785500 =====\n",
            "\n",
            "===== FOLD 7 =====\n",
            "0:\tlearn: 0.6882170\ttest: 0.6881963\tbest: 0.6881963 (0)\ttotal: 15.8ms\tremaining: 15.8s\n",
            "100:\tlearn: 0.4988684\ttest: 0.4960583\tbest: 0.4960583 (100)\ttotal: 1.54s\tremaining: 13.7s\n",
            "200:\tlearn: 0.4749194\ttest: 0.4729896\tbest: 0.4729896 (200)\ttotal: 3.14s\tremaining: 12.5s\n",
            "300:\tlearn: 0.4682145\ttest: 0.4681887\tbest: 0.4681887 (300)\ttotal: 4.71s\tremaining: 10.9s\n",
            "400:\tlearn: 0.4646228\ttest: 0.4666570\tbest: 0.4666570 (400)\ttotal: 6.3s\tremaining: 9.41s\n",
            "500:\tlearn: 0.4618722\ttest: 0.4659749\tbest: 0.4659749 (500)\ttotal: 7.92s\tremaining: 7.89s\n",
            "600:\tlearn: 0.4593883\ttest: 0.4656352\tbest: 0.4656352 (600)\ttotal: 9.5s\tremaining: 6.3s\n",
            "700:\tlearn: 0.4570076\ttest: 0.4654781\tbest: 0.4654730 (694)\ttotal: 11.1s\tremaining: 4.72s\n",
            "800:\tlearn: 0.4548742\ttest: 0.4652956\tbest: 0.4652519 (789)\ttotal: 12.7s\tremaining: 3.16s\n",
            "900:\tlearn: 0.4527868\ttest: 0.4652253\tbest: 0.4651877 (891)\ttotal: 14.3s\tremaining: 1.57s\n",
            "bestTest = 0.4651876953\n",
            "bestIteration = 891\n",
            "Shrink model to first 892 iterations.\n",
            "===== ACCURACY SCORE 0.789000 =====\n",
            "\n",
            "===== FOLD 8 =====\n",
            "0:\tlearn: 0.6880837\ttest: 0.6882283\tbest: 0.6882283 (0)\ttotal: 24.7ms\tremaining: 24.6s\n",
            "100:\tlearn: 0.4975289\ttest: 0.5050906\tbest: 0.5050906 (100)\ttotal: 1.59s\tremaining: 14.1s\n",
            "200:\tlearn: 0.4734300\ttest: 0.4846668\tbest: 0.4846668 (200)\ttotal: 3.15s\tremaining: 12.5s\n",
            "300:\tlearn: 0.4668859\ttest: 0.4806457\tbest: 0.4806457 (300)\ttotal: 4.69s\tremaining: 10.9s\n",
            "400:\tlearn: 0.4631597\ttest: 0.4790337\tbest: 0.4790337 (400)\ttotal: 6.24s\tremaining: 9.32s\n",
            "500:\tlearn: 0.4603869\ttest: 0.4781687\tbest: 0.4781687 (500)\ttotal: 7.82s\tremaining: 7.78s\n",
            "600:\tlearn: 0.4579437\ttest: 0.4777573\tbest: 0.4777552 (599)\ttotal: 9.33s\tremaining: 6.19s\n",
            "700:\tlearn: 0.4556929\ttest: 0.4773979\tbest: 0.4773874 (698)\ttotal: 10.9s\tremaining: 4.64s\n",
            "800:\tlearn: 0.4534393\ttest: 0.4771108\tbest: 0.4770986 (789)\ttotal: 12.4s\tremaining: 3.08s\n",
            "900:\tlearn: 0.4513535\ttest: 0.4768384\tbest: 0.4768347 (898)\ttotal: 13.9s\tremaining: 1.53s\n",
            "999:\tlearn: 0.4493935\ttest: 0.4767284\tbest: 0.4767228 (998)\ttotal: 15.4s\tremaining: 0us\n",
            "bestTest = 0.4767227539\n",
            "bestIteration = 998\n",
            "Shrink model to first 999 iterations.\n",
            "===== ACCURACY SCORE 0.776900 =====\n",
            "\n",
            "===== FOLD 9 =====\n",
            "0:\tlearn: 0.6881102\ttest: 0.6881753\tbest: 0.6881753 (0)\ttotal: 23.4ms\tremaining: 23.4s\n",
            "100:\tlearn: 0.4979105\ttest: 0.5021139\tbest: 0.5021139 (100)\ttotal: 1.6s\tremaining: 14.2s\n",
            "200:\tlearn: 0.4737674\ttest: 0.4806308\tbest: 0.4806308 (200)\ttotal: 3.17s\tremaining: 12.6s\n",
            "300:\tlearn: 0.4672159\ttest: 0.4764905\tbest: 0.4764905 (300)\ttotal: 4.72s\tremaining: 11s\n",
            "400:\tlearn: 0.4634322\ttest: 0.4748731\tbest: 0.4748731 (400)\ttotal: 6.23s\tremaining: 9.3s\n",
            "500:\tlearn: 0.4606546\ttest: 0.4741420\tbest: 0.4741420 (500)\ttotal: 7.77s\tremaining: 7.74s\n",
            "600:\tlearn: 0.4582562\ttest: 0.4736163\tbest: 0.4736079 (586)\ttotal: 9.32s\tremaining: 6.18s\n",
            "700:\tlearn: 0.4560577\ttest: 0.4733832\tbest: 0.4733832 (700)\ttotal: 10.9s\tremaining: 4.64s\n",
            "800:\tlearn: 0.4539784\ttest: 0.4731133\tbest: 0.4731133 (800)\ttotal: 12.4s\tremaining: 3.09s\n",
            "900:\tlearn: 0.4519223\ttest: 0.4729028\tbest: 0.4728967 (888)\ttotal: 14.1s\tremaining: 1.55s\n",
            "999:\tlearn: 0.4499837\ttest: 0.4728704\tbest: 0.4728670 (990)\ttotal: 15.7s\tremaining: 0us\n",
            "bestTest = 0.4728669922\n",
            "bestIteration = 990\n",
            "Shrink model to first 991 iterations.\n",
            "===== ACCURACY SCORE 0.779400 =====\n",
            "\n"
          ],
          "name": "stdout"
        }
      ]
    },
    {
      "cell_type": "markdown",
      "metadata": {
        "id": "_UyyFnD8s9P8"
      },
      "source": [
        "### Feature Importance"
      ]
    },
    {
      "cell_type": "code",
      "metadata": {
        "colab": {
          "base_uri": "https://localhost:8080/",
          "height": 646
        },
        "id": "9_R_e7H4s9lH",
        "outputId": "7507f362-6364-4ebc-f3ba-0555288c3724"
      },
      "source": [
        "order = list(feature_importances.groupby(\"feature\").mean()\\\n",
        "             .sort_values(\"importance\", ascending=False).index)\n",
        "plt.figure(figsize=(10, 10))\n",
        "sns.barplot(x=\"importance\", y=\"feature\", data=feature_importances, order=order)\n",
        "plt.title(\"{} importance\".format(\"CatBoostClassifier\"))\n",
        "plt.tight_layout()"
      ],
      "execution_count": 17,
      "outputs": [
        {
          "output_type": "display_data",
          "data": {
            "text/html": [
              "\n",
              "  <style>\n",
              "    pre {\n",
              "        white-space: pre-wrap;\n",
              "    }\n",
              "  </style>\n",
              "  "
            ],
            "text/plain": [
              "<IPython.core.display.HTML object>"
            ]
          },
          "metadata": {
            "tags": []
          }
        },
        {
          "output_type": "display_data",
          "data": {
            "image/png": "[encoded data removed]",
            "text/plain": [
              "<Figure size 720x720 with 1 Axes>"
            ]
          },
          "metadata": {
            "tags": [],
            "needs_background": "light"
          }
        }
      ]
    },
    {
      "cell_type": "markdown",
      "metadata": {
        "id": "u7jkH3O9tO4o"
      },
      "source": [
        "## DecisionTreeModel"
      ]
    },
    {
      "cell_type": "code",
      "metadata": {
        "colab": {
          "base_uri": "https://localhost:8080/",
          "height": 35
        },
        "id": "4rAzUtf3tQew",
        "outputId": "86276072-652c-4c5b-c7a9-d862d0eb1383"
      },
      "source": [
        "parameters = {\n",
        "    'max_depth': np.arange(2, 5, dtype=int),\n",
        "    'min_samples_leaf': np.arange(2, 5, dtype=int)\n",
        "}\n",
        "\n",
        "classifier = DecisionTreeClassifier(random_state=2021)\n",
        "\n",
        "model = GridSearchCV(\n",
        "    estimator = classifier,\n",
        "    param_grid = parameters,\n",
        "    scoring = 'accuracy',\n",
        "    cv = 10,\n",
        "    n_jobs = -1\n",
        ")\n",
        "model.fit(X_train, y_train)\n",
        "\n",
        "best_parameters = model.best_params_\n",
        "print(best_parameters)"
      ],
      "execution_count": 18,
      "outputs": [
        {
          "output_type": "display_data",
          "data": {
            "text/html": [
              "\n",
              "  <style>\n",
              "    pre {\n",
              "        white-space: pre-wrap;\n",
              "    }\n",
              "  </style>\n",
              "  "
            ],
            "text/plain": [
              "<IPython.core.display.HTML object>"
            ]
          },
          "metadata": {
            "tags": []
          }
        },
        {
          "output_type": "stream",
          "text": [
            "{'max_depth': 4, 'min_samples_leaf': 2}\n"
          ],
          "name": "stdout"
        }
      ]
    },
    {
      "cell_type": "code",
      "metadata": {
        "colab": {
          "base_uri": "https://localhost:8080/",
          "height": 562
        },
        "id": "_DoHHeoStuRZ",
        "outputId": "d2d8cf96-da49-4313-dd9b-ad9e940fbf82"
      },
      "source": [
        "feature_importances = pd.DataFrame()\n",
        "\n",
        "skf = StratifiedKFold(n_splits=N_SPLIT, shuffle=True, random_state=SEED)\n",
        "\n",
        "for fold, (train_idx, valid_idx) in enumerate(skf.split(train_df2, train_df2[TARGET])):\n",
        "    print(f'===== FOLD {fold} =====')\n",
        "\n",
        "    X_train, y_train = train_df2.iloc[train_idx].drop(TARGET, axis=1),\\\n",
        "    train_df.iloc[train_idx][TARGET]\n",
        "    X_valid, y_valid = train_df2.iloc[valid_idx].drop(TARGET, axis=1),\\\n",
        "    train_df.iloc[valid_idx][TARGET]\n",
        "\n",
        "    model = DecisionTreeClassifier(\n",
        "        max_depth = best_parameters['max_depth'],\n",
        "        min_samples_leaf = best_parameters['min_samples_leaf'],\n",
        "        random_state = SEED\n",
        "    )\n",
        "    model.fit(X_train, y_train)\n",
        "    \n",
        "    dtm_val = model.predict(X_valid)\n",
        "    dtm_val = [1 if v >= 0.5 else 0 for v in dtm_val]\n",
        "    dtm_preds = model.predict(X_test)\n",
        "\n",
        "    \n",
        "    # 확률이 0.5보다 크면 1, 작으면 0으로 분류\n",
        "    acc_score = accuracy_score(y_valid, dtm_val)\n",
        "    print(f\"===== ACCURACY SCORE {acc_score:.6f} =====\\n\")"
      ],
      "execution_count": 19,
      "outputs": [
        {
          "output_type": "display_data",
          "data": {
            "text/html": [
              "\n",
              "  <style>\n",
              "    pre {\n",
              "        white-space: pre-wrap;\n",
              "    }\n",
              "  </style>\n",
              "  "
            ],
            "text/plain": [
              "<IPython.core.display.HTML object>"
            ]
          },
          "metadata": {
            "tags": []
          }
        },
        {
          "output_type": "stream",
          "text": [
            "===== FOLD 0 =====\n",
            "===== ACCURACY SCORE 0.766600 =====\n",
            "\n",
            "===== FOLD 1 =====\n",
            "===== ACCURACY SCORE 0.783400 =====\n",
            "\n",
            "===== FOLD 2 =====\n",
            "===== ACCURACY SCORE 0.771000 =====\n",
            "\n",
            "===== FOLD 3 =====\n",
            "===== ACCURACY SCORE 0.770500 =====\n",
            "\n",
            "===== FOLD 4 =====\n",
            "===== ACCURACY SCORE 0.771200 =====\n",
            "\n",
            "===== FOLD 5 =====\n",
            "===== ACCURACY SCORE 0.772100 =====\n",
            "\n",
            "===== FOLD 6 =====\n",
            "===== ACCURACY SCORE 0.777900 =====\n",
            "\n",
            "===== FOLD 7 =====\n",
            "===== ACCURACY SCORE 0.781300 =====\n",
            "\n",
            "===== FOLD 8 =====\n",
            "===== ACCURACY SCORE 0.771300 =====\n",
            "\n",
            "===== FOLD 9 =====\n",
            "===== ACCURACY SCORE 0.772900 =====\n",
            "\n"
          ],
          "name": "stdout"
        }
      ]
    },
    {
      "cell_type": "markdown",
      "metadata": {
        "id": "YnDlaa-0wYkA"
      },
      "source": [
        "### Plot Tree"
      ]
    },
    {
      "cell_type": "code",
      "metadata": {
        "colab": {
          "base_uri": "https://localhost:8080/",
          "height": 776
        },
        "id": "pQjfAYW4wYA-",
        "outputId": "3b184393-46e7-4a28-b121-e018a835ca82"
      },
      "source": [
        "dot_data = export_graphviz(\n",
        "    model,\n",
        "    out_file = None,\n",
        "    feature_names = X_train.columns,\n",
        "    class_names = ['0', '1'],\n",
        "    filled = True,\n",
        "    rounded = False,\n",
        "    special_characters = True,\n",
        "    precision = 3\n",
        ")\n",
        "graph = graphviz.Source(dot_data)\n",
        "graph"
      ],
      "execution_count": 20,
      "outputs": [
        {
          "output_type": "display_data",
          "data": {
            "text/html": [
              "\n",
              "  <style>\n",
              "    pre {\n",
              "        white-space: pre-wrap;\n",
              "    }\n",
              "  </style>\n",
              "  "
            ],
            "text/plain": [
              "<IPython.core.display.HTML object>"
            ]
          },
          "metadata": {
            "tags": []
          }
        },
        {
          "output_type": "execute_result",
          "data": {
            "text/plain": [
              "<graphviz.files.Source at 0x7fe7f1bb8e90>"
            ],
            "image/svg+xml": "<?xml version=\"1.0\" encoding=\"UTF-8\" standalone=\"no\"?>\n<!DOCTYPE svg PUBLIC \"-//W3C//DTD SVG 1.1//EN\"\n \"http://www.w3.org/Graphics/SVG/1.1/DTD/svg11.dtd\">\n<!-- Generated by graphviz version 2.40.1 (20161225.0304)\n -->\n<!-- Title: Tree Pages: 1 -->\n<svg width=\"2373pt\" height=\"552pt\"\n viewBox=\"0.00 0.00 2373.00 552.00\" xmlns=\"http://www.w3.org/2000/svg\" xmlns:xlink=\"http://www.w3.org/1999/xlink\">\n<g id=\"graph0\" class=\"graph\" transform=\"scale(1 1) rotate(0) translate(4 548)\">\n<title>Tree</title>\n<polygon fill=\"#ffffff\" stroke=\"transparent\" points=\"-4,4 -4,-548 2369,-548 2369,4 -4,4\"/>\n<!-- 0 -->\n<g id=\"node1\" class=\"node\">\n<title>0</title>\n<polygon fill=\"#f8dfcd\" stroke=\"#000000\" points=\"1261.5,-544 1106.5,-544 1106.5,-461 1261.5,-461 1261.5,-544\"/>\n<text text-anchor=\"start\" x=\"1156\" y=\"-528.8\" font-family=\"Times,serif\" font-size=\"14.00\" fill=\"#000000\">Sex ≤ 0.5</text>\n<text text-anchor=\"start\" x=\"1151.5\" y=\"-513.8\" font-family=\"Times,serif\" font-size=\"14.00\" fill=\"#000000\">gini = 0.49</text>\n<text text-anchor=\"start\" x=\"1134.5\" y=\"-498.8\" font-family=\"Times,serif\" font-size=\"14.00\" fill=\"#000000\">samples = 90000</text>\n<text text-anchor=\"start\" x=\"1114.5\" y=\"-483.8\" font-family=\"Times,serif\" font-size=\"14.00\" fill=\"#000000\">value = [51503, 38497]</text>\n<text text-anchor=\"start\" x=\"1159\" y=\"-468.8\" font-family=\"Times,serif\" font-size=\"14.00\" fill=\"#000000\">class = 0</text>\n</g>\n<!-- 1 -->\n<g id=\"node2\" class=\"node\">\n<title>1</title>\n<polygon fill=\"#89c5f0\" stroke=\"#000000\" points=\"984,-425 830,-425 830,-342 984,-342 984,-425\"/>\n<text text-anchor=\"start\" x=\"851.5\" y=\"-409.8\" font-family=\"Times,serif\" font-size=\"14.00\" fill=\"#000000\">Embarked_C ≤ 0.5</text>\n<text text-anchor=\"start\" x=\"874.5\" y=\"-394.8\" font-family=\"Times,serif\" font-size=\"14.00\" fill=\"#000000\">gini = 0.41</text>\n<text text-anchor=\"start\" x=\"857.5\" y=\"-379.8\" font-family=\"Times,serif\" font-size=\"14.00\" fill=\"#000000\">samples = 39527</text>\n<text text-anchor=\"start\" x=\"838\" y=\"-364.8\" font-family=\"Times,serif\" font-size=\"14.00\" fill=\"#000000\">value = [11394, 28133]</text>\n<text text-anchor=\"start\" x=\"882\" y=\"-349.8\" font-family=\"Times,serif\" font-size=\"14.00\" fill=\"#000000\">class = 1</text>\n</g>\n<!-- 0&#45;&gt;1 -->\n<g id=\"edge1\" class=\"edge\">\n<title>0&#45;&gt;1</title>\n<path fill=\"none\" stroke=\"#000000\" d=\"M1106.4717,-469.1936C1071.3573,-454.1084 1029.71,-436.2166 993.5761,-420.6934\"/>\n<polygon fill=\"#000000\" stroke=\"#000000\" points=\"994.5994,-417.3237 984.0298,-416.5922 991.8363,-423.7553 994.5994,-417.3237\"/>\n<text text-anchor=\"middle\" x=\"993.2944\" y=\"-436.1122\" font-family=\"Times,serif\" font-size=\"14.00\" fill=\"#000000\">True</text>\n</g>\n<!-- 16 -->\n<g id=\"node17\" class=\"node\">\n<title>16</title>\n<polygon fill=\"#eca26c\" stroke=\"#000000\" points=\"1548.5,-425 1393.5,-425 1393.5,-342 1548.5,-342 1548.5,-425\"/>\n<text text-anchor=\"start\" x=\"1416.5\" y=\"-409.8\" font-family=\"Times,serif\" font-size=\"14.00\" fill=\"#000000\">Embarked_S ≤ 0.5</text>\n<text text-anchor=\"start\" x=\"1434.5\" y=\"-394.8\" font-family=\"Times,serif\" font-size=\"14.00\" fill=\"#000000\">gini = 0.326</text>\n<text text-anchor=\"start\" x=\"1421.5\" y=\"-379.8\" font-family=\"Times,serif\" font-size=\"14.00\" fill=\"#000000\">samples = 50473</text>\n<text text-anchor=\"start\" x=\"1401.5\" y=\"-364.8\" font-family=\"Times,serif\" font-size=\"14.00\" fill=\"#000000\">value = [40109, 10364]</text>\n<text text-anchor=\"start\" x=\"1446\" y=\"-349.8\" font-family=\"Times,serif\" font-size=\"14.00\" fill=\"#000000\">class = 0</text>\n</g>\n<!-- 0&#45;&gt;16 -->\n<g id=\"edge16\" class=\"edge\">\n<title>0&#45;&gt;16</title>\n<path fill=\"none\" stroke=\"#000000\" d=\"M1261.6663,-470.2969C1299.3139,-454.6869 1344.6798,-435.8767 1383.5405,-419.7637\"/>\n<polygon fill=\"#000000\" stroke=\"#000000\" points=\"1385.3747,-422.7922 1393.2716,-415.7289 1382.6936,-416.326 1385.3747,-422.7922\"/>\n<text text-anchor=\"middle\" x=\"1383.7128\" y=\"-435.1293\" font-family=\"Times,serif\" font-size=\"14.00\" fill=\"#000000\">False</text>\n</g>\n<!-- 2 -->\n<g id=\"node3\" class=\"node\">\n<title>2</title>\n<polygon fill=\"#abd5f4\" stroke=\"#000000\" points=\"528.5,-306 381.5,-306 381.5,-223 528.5,-223 528.5,-306\"/>\n<text text-anchor=\"start\" x=\"413\" y=\"-290.8\" font-family=\"Times,serif\" font-size=\"14.00\" fill=\"#000000\">Pclass ≤ 0.302</text>\n<text text-anchor=\"start\" x=\"418.5\" y=\"-275.8\" font-family=\"Times,serif\" font-size=\"14.00\" fill=\"#000000\">gini = 0.464</text>\n<text text-anchor=\"start\" x=\"406\" y=\"-260.8\" font-family=\"Times,serif\" font-size=\"14.00\" fill=\"#000000\">samples = 25311</text>\n<text text-anchor=\"start\" x=\"389.5\" y=\"-245.8\" font-family=\"Times,serif\" font-size=\"14.00\" fill=\"#000000\">value = [9240, 16071]</text>\n<text text-anchor=\"start\" x=\"430\" y=\"-230.8\" font-family=\"Times,serif\" font-size=\"14.00\" fill=\"#000000\">class = 1</text>\n</g>\n<!-- 1&#45;&gt;2 -->\n<g id=\"edge2\" class=\"edge\">\n<title>1&#45;&gt;2</title>\n<path fill=\"none\" stroke=\"#000000\" d=\"M829.812,-363.1784C748.8041,-341.8511 621.877,-308.4344 538.5563,-286.4982\"/>\n<polygon fill=\"#000000\" stroke=\"#000000\" points=\"539.4316,-283.1095 528.87,-283.9481 537.6494,-289.8788 539.4316,-283.1095\"/>\n</g>\n<!-- 9 -->\n<g id=\"node10\" class=\"node\">\n<title>9</title>\n<polygon fill=\"#5cafea\" stroke=\"#000000\" points=\"980.5,-306 833.5,-306 833.5,-223 980.5,-223 980.5,-306\"/>\n<text text-anchor=\"start\" x=\"864\" y=\"-290.8\" font-family=\"Times,serif\" font-size=\"14.00\" fill=\"#000000\">Cabin_A ≤ 0.5</text>\n<text text-anchor=\"start\" x=\"870.5\" y=\"-275.8\" font-family=\"Times,serif\" font-size=\"14.00\" fill=\"#000000\">gini = 0.257</text>\n<text text-anchor=\"start\" x=\"857.5\" y=\"-260.8\" font-family=\"Times,serif\" font-size=\"14.00\" fill=\"#000000\">samples = 14216</text>\n<text text-anchor=\"start\" x=\"841.5\" y=\"-245.8\" font-family=\"Times,serif\" font-size=\"14.00\" fill=\"#000000\">value = [2154, 12062]</text>\n<text text-anchor=\"start\" x=\"882\" y=\"-230.8\" font-family=\"Times,serif\" font-size=\"14.00\" fill=\"#000000\">class = 1</text>\n</g>\n<!-- 1&#45;&gt;9 -->\n<g id=\"edge9\" class=\"edge\">\n<title>1&#45;&gt;9</title>\n<path fill=\"none\" stroke=\"#000000\" d=\"M907,-341.8796C907,-333.6838 907,-324.9891 907,-316.5013\"/>\n<polygon fill=\"#000000\" stroke=\"#000000\" points=\"910.5001,-316.298 907,-306.2981 903.5001,-316.2981 910.5001,-316.298\"/>\n</g>\n<!-- 3 -->\n<g id=\"node4\" class=\"node\">\n<title>3</title>\n<polygon fill=\"#8fc8f0\" stroke=\"#000000\" points=\"300,-187 154,-187 154,-104 300,-104 300,-187\"/>\n<text text-anchor=\"start\" x=\"184\" y=\"-171.8\" font-family=\"Times,serif\" font-size=\"14.00\" fill=\"#000000\">Cabin_A ≤ 0.5</text>\n<text text-anchor=\"start\" x=\"190.5\" y=\"-156.8\" font-family=\"Times,serif\" font-size=\"14.00\" fill=\"#000000\">gini = 0.422</text>\n<text text-anchor=\"start\" x=\"177.5\" y=\"-141.8\" font-family=\"Times,serif\" font-size=\"14.00\" fill=\"#000000\">samples = 16481</text>\n<text text-anchor=\"start\" x=\"162\" y=\"-126.8\" font-family=\"Times,serif\" font-size=\"14.00\" fill=\"#000000\">value = [4987, 11494]</text>\n<text text-anchor=\"start\" x=\"202\" y=\"-111.8\" font-family=\"Times,serif\" font-size=\"14.00\" fill=\"#000000\">class = 1</text>\n</g>\n<!-- 2&#45;&gt;3 -->\n<g id=\"edge3\" class=\"edge\">\n<title>2&#45;&gt;3</title>\n<path fill=\"none\" stroke=\"#000000\" d=\"M381.2898,-226.0284C358.2166,-213.9859 332.6164,-200.6243 309.0079,-188.3024\"/>\n<polygon fill=\"#000000\" stroke=\"#000000\" points=\"310.5513,-185.1599 300.0667,-183.6357 307.3124,-191.3655 310.5513,-185.1599\"/>\n</g>\n<!-- 6 -->\n<g id=\"node7\" class=\"node\">\n<title>6</title>\n<polygon fill=\"#f1f8fd\" stroke=\"#000000\" points=\"525,-187 385,-187 385,-104 525,-104 525,-187\"/>\n<text text-anchor=\"start\" x=\"420\" y=\"-171.8\" font-family=\"Times,serif\" font-size=\"14.00\" fill=\"#000000\">Ticket ≤ 0.5</text>\n<text text-anchor=\"start\" x=\"418.5\" y=\"-156.8\" font-family=\"Times,serif\" font-size=\"14.00\" fill=\"#000000\">gini = 0.499</text>\n<text text-anchor=\"start\" x=\"409.5\" y=\"-141.8\" font-family=\"Times,serif\" font-size=\"14.00\" fill=\"#000000\">samples = 8830</text>\n<text text-anchor=\"start\" x=\"393\" y=\"-126.8\" font-family=\"Times,serif\" font-size=\"14.00\" fill=\"#000000\">value = [4253, 4577]</text>\n<text text-anchor=\"start\" x=\"430\" y=\"-111.8\" font-family=\"Times,serif\" font-size=\"14.00\" fill=\"#000000\">class = 1</text>\n</g>\n<!-- 2&#45;&gt;6 -->\n<g id=\"edge6\" class=\"edge\">\n<title>2&#45;&gt;6</title>\n<path fill=\"none\" stroke=\"#000000\" d=\"M455,-222.8796C455,-214.6838 455,-205.9891 455,-197.5013\"/>\n<polygon fill=\"#000000\" stroke=\"#000000\" points=\"458.5001,-197.298 455,-187.2981 451.5001,-197.2981 458.5001,-197.298\"/>\n</g>\n<!-- 4 -->\n<g id=\"node5\" class=\"node\">\n<title>4</title>\n<polygon fill=\"#84c2ef\" stroke=\"#000000\" points=\"146,-68 0,-68 0,0 146,0 146,-68\"/>\n<text text-anchor=\"start\" x=\"36.5\" y=\"-52.8\" font-family=\"Times,serif\" font-size=\"14.00\" fill=\"#000000\">gini = 0.399</text>\n<text text-anchor=\"start\" x=\"23.5\" y=\"-37.8\" font-family=\"Times,serif\" font-size=\"14.00\" fill=\"#000000\">samples = 15216</text>\n<text text-anchor=\"start\" x=\"8\" y=\"-22.8\" font-family=\"Times,serif\" font-size=\"14.00\" fill=\"#000000\">value = [4185, 11031]</text>\n<text text-anchor=\"start\" x=\"48\" y=\"-7.8\" font-family=\"Times,serif\" font-size=\"14.00\" fill=\"#000000\">class = 1</text>\n</g>\n<!-- 3&#45;&gt;4 -->\n<g id=\"edge4\" class=\"edge\">\n<title>3&#45;&gt;4</title>\n<path fill=\"none\" stroke=\"#000000\" d=\"M169.6561,-103.9815C156.2006,-94.2394 141.8869,-83.8759 128.5133,-74.193\"/>\n<polygon fill=\"#000000\" stroke=\"#000000\" points=\"130.4763,-71.2933 120.3238,-68.2637 126.3711,-76.9632 130.4763,-71.2933\"/>\n</g>\n<!-- 5 -->\n<g id=\"node6\" class=\"node\">\n<title>5</title>\n<polygon fill=\"#f4caab\" stroke=\"#000000\" points=\"289.5,-68 164.5,-68 164.5,0 289.5,0 289.5,-68\"/>\n<text text-anchor=\"start\" x=\"190.5\" y=\"-52.8\" font-family=\"Times,serif\" font-size=\"14.00\" fill=\"#000000\">gini = 0.464</text>\n<text text-anchor=\"start\" x=\"181.5\" y=\"-37.8\" font-family=\"Times,serif\" font-size=\"14.00\" fill=\"#000000\">samples = 1265</text>\n<text text-anchor=\"start\" x=\"172.5\" y=\"-22.8\" font-family=\"Times,serif\" font-size=\"14.00\" fill=\"#000000\">value = [802, 463]</text>\n<text text-anchor=\"start\" x=\"202\" y=\"-7.8\" font-family=\"Times,serif\" font-size=\"14.00\" fill=\"#000000\">class = 0</text>\n</g>\n<!-- 3&#45;&gt;5 -->\n<g id=\"edge5\" class=\"edge\">\n<title>3&#45;&gt;5</title>\n<path fill=\"none\" stroke=\"#000000\" d=\"M227,-103.9815C227,-95.618 227,-86.7965 227,-78.3409\"/>\n<polygon fill=\"#000000\" stroke=\"#000000\" points=\"230.5001,-78.2636 227,-68.2637 223.5001,-78.2637 230.5001,-78.2636\"/>\n</g>\n<!-- 7 -->\n<g id=\"node8\" class=\"node\">\n<title>7</title>\n<polygon fill=\"#eeab7b\" stroke=\"#000000\" points=\"432.5,-68 307.5,-68 307.5,0 432.5,0 432.5,-68\"/>\n<text text-anchor=\"start\" x=\"333.5\" y=\"-52.8\" font-family=\"Times,serif\" font-size=\"14.00\" fill=\"#000000\">gini = 0.375</text>\n<text text-anchor=\"start\" x=\"328\" y=\"-37.8\" font-family=\"Times,serif\" font-size=\"14.00\" fill=\"#000000\">samples = 555</text>\n<text text-anchor=\"start\" x=\"315.5\" y=\"-22.8\" font-family=\"Times,serif\" font-size=\"14.00\" fill=\"#000000\">value = [416, 139]</text>\n<text text-anchor=\"start\" x=\"345\" y=\"-7.8\" font-family=\"Times,serif\" font-size=\"14.00\" fill=\"#000000\">class = 0</text>\n</g>\n<!-- 6&#45;&gt;7 -->\n<g id=\"edge7\" class=\"edge\">\n<title>6&#45;&gt;7</title>\n<path fill=\"none\" stroke=\"#000000\" d=\"M423.3491,-103.9815C416.4829,-94.9747 409.2118,-85.4367 402.3202,-76.3965\"/>\n<polygon fill=\"#000000\" stroke=\"#000000\" points=\"404.9664,-74.0945 396.1203,-68.2637 399.3995,-78.3383 404.9664,-74.0945\"/>\n</g>\n<!-- 8 -->\n<g id=\"node9\" class=\"node\">\n<title>8</title>\n<polygon fill=\"#e4f2fb\" stroke=\"#000000\" points=\"591,-68 451,-68 451,0 591,0 591,-68\"/>\n<text text-anchor=\"start\" x=\"484.5\" y=\"-52.8\" font-family=\"Times,serif\" font-size=\"14.00\" fill=\"#000000\">gini = 0.497</text>\n<text text-anchor=\"start\" x=\"475.5\" y=\"-37.8\" font-family=\"Times,serif\" font-size=\"14.00\" fill=\"#000000\">samples = 8275</text>\n<text text-anchor=\"start\" x=\"459\" y=\"-22.8\" font-family=\"Times,serif\" font-size=\"14.00\" fill=\"#000000\">value = [3837, 4438]</text>\n<text text-anchor=\"start\" x=\"496\" y=\"-7.8\" font-family=\"Times,serif\" font-size=\"14.00\" fill=\"#000000\">class = 1</text>\n</g>\n<!-- 6&#45;&gt;8 -->\n<g id=\"edge8\" class=\"edge\">\n<title>6&#45;&gt;8</title>\n<path fill=\"none\" stroke=\"#000000\" d=\"M479.576,-103.9815C484.7986,-95.1585 490.3229,-85.8258 495.5763,-76.9506\"/>\n<polygon fill=\"#000000\" stroke=\"#000000\" points=\"498.6364,-78.652 500.7184,-68.2637 492.6126,-75.0863 498.6364,-78.652\"/>\n</g>\n<!-- 10 -->\n<g id=\"node11\" class=\"node\">\n<title>10</title>\n<polygon fill=\"#58ade9\" stroke=\"#000000\" points=\"903,-187 757,-187 757,-104 903,-104 903,-187\"/>\n<text text-anchor=\"start\" x=\"788\" y=\"-171.8\" font-family=\"Times,serif\" font-size=\"14.00\" fill=\"#000000\">Pclass ≤ 0.302</text>\n<text text-anchor=\"start\" x=\"793.5\" y=\"-156.8\" font-family=\"Times,serif\" font-size=\"14.00\" fill=\"#000000\">gini = 0.236</text>\n<text text-anchor=\"start\" x=\"780.5\" y=\"-141.8\" font-family=\"Times,serif\" font-size=\"14.00\" fill=\"#000000\">samples = 13663</text>\n<text text-anchor=\"start\" x=\"765\" y=\"-126.8\" font-family=\"Times,serif\" font-size=\"14.00\" fill=\"#000000\">value = [1872, 11791]</text>\n<text text-anchor=\"start\" x=\"805\" y=\"-111.8\" font-family=\"Times,serif\" font-size=\"14.00\" fill=\"#000000\">class = 1</text>\n</g>\n<!-- 9&#45;&gt;10 -->\n<g id=\"edge10\" class=\"edge\">\n<title>9&#45;&gt;10</title>\n<path fill=\"none\" stroke=\"#000000\" d=\"M880.0691,-222.8796C874.4163,-214.1434 868.3967,-204.8404 862.5634,-195.8253\"/>\n<polygon fill=\"#000000\" stroke=\"#000000\" points=\"865.4169,-193.7924 857.0458,-187.2981 859.5399,-197.5952 865.4169,-193.7924\"/>\n</g>\n<!-- 13 -->\n<g id=\"node14\" class=\"node\">\n<title>13</title>\n<polygon fill=\"#fefaf7\" stroke=\"#000000\" points=\"1046.5,-187 921.5,-187 921.5,-104 1046.5,-104 1046.5,-187\"/>\n<text text-anchor=\"start\" x=\"935\" y=\"-171.8\" font-family=\"Times,serif\" font-size=\"14.00\" fill=\"#000000\">Name ≤ 25810.0</text>\n<text text-anchor=\"start\" x=\"955\" y=\"-156.8\" font-family=\"Times,serif\" font-size=\"14.00\" fill=\"#000000\">gini = 0.5</text>\n<text text-anchor=\"start\" x=\"942\" y=\"-141.8\" font-family=\"Times,serif\" font-size=\"14.00\" fill=\"#000000\">samples = 553</text>\n<text text-anchor=\"start\" x=\"929.5\" y=\"-126.8\" font-family=\"Times,serif\" font-size=\"14.00\" fill=\"#000000\">value = [282, 271]</text>\n<text text-anchor=\"start\" x=\"959\" y=\"-111.8\" font-family=\"Times,serif\" font-size=\"14.00\" fill=\"#000000\">class = 0</text>\n</g>\n<!-- 9&#45;&gt;13 -->\n<g id=\"edge13\" class=\"edge\">\n<title>9&#45;&gt;13</title>\n<path fill=\"none\" stroke=\"#000000\" d=\"M933.9309,-222.8796C939.5837,-214.1434 945.6033,-204.8404 951.4366,-195.8253\"/>\n<polygon fill=\"#000000\" stroke=\"#000000\" points=\"954.4601,-197.5952 956.9542,-187.2981 948.5831,-193.7924 954.4601,-197.5952\"/>\n</g>\n<!-- 11 -->\n<g id=\"node12\" class=\"node\">\n<title>11</title>\n<polygon fill=\"#52aae8\" stroke=\"#000000\" points=\"749,-68 609,-68 609,0 749,0 749,-68\"/>\n<text text-anchor=\"start\" x=\"642.5\" y=\"-52.8\" font-family=\"Times,serif\" font-size=\"14.00\" fill=\"#000000\">gini = 0.201</text>\n<text text-anchor=\"start\" x=\"630\" y=\"-37.8\" font-family=\"Times,serif\" font-size=\"14.00\" fill=\"#000000\">samples = 11235</text>\n<text text-anchor=\"start\" x=\"617\" y=\"-22.8\" font-family=\"Times,serif\" font-size=\"14.00\" fill=\"#000000\">value = [1271, 9964]</text>\n<text text-anchor=\"start\" x=\"654\" y=\"-7.8\" font-family=\"Times,serif\" font-size=\"14.00\" fill=\"#000000\">class = 1</text>\n</g>\n<!-- 10&#45;&gt;11 -->\n<g id=\"edge11\" class=\"edge\">\n<title>10&#45;&gt;11</title>\n<path fill=\"none\" stroke=\"#000000\" d=\"M773.7732,-103.9815C760.7043,-94.3313 746.8097,-84.0714 733.8032,-74.4673\"/>\n<polygon fill=\"#000000\" stroke=\"#000000\" points=\"735.5255,-71.3883 725.4019,-68.2637 731.3674,-77.0195 735.5255,-71.3883\"/>\n</g>\n<!-- 12 -->\n<g id=\"node13\" class=\"node\">\n<title>12</title>\n<polygon fill=\"#7abdee\" stroke=\"#000000\" points=\"899,-68 767,-68 767,0 899,0 899,-68\"/>\n<text text-anchor=\"start\" x=\"796.5\" y=\"-52.8\" font-family=\"Times,serif\" font-size=\"14.00\" fill=\"#000000\">gini = 0.373</text>\n<text text-anchor=\"start\" x=\"787.5\" y=\"-37.8\" font-family=\"Times,serif\" font-size=\"14.00\" fill=\"#000000\">samples = 2428</text>\n<text text-anchor=\"start\" x=\"775\" y=\"-22.8\" font-family=\"Times,serif\" font-size=\"14.00\" fill=\"#000000\">value = [601, 1827]</text>\n<text text-anchor=\"start\" x=\"808\" y=\"-7.8\" font-family=\"Times,serif\" font-size=\"14.00\" fill=\"#000000\">class = 1</text>\n</g>\n<!-- 10&#45;&gt;12 -->\n<g id=\"edge12\" class=\"edge\">\n<title>10&#45;&gt;12</title>\n<path fill=\"none\" stroke=\"#000000\" d=\"M831.1171,-103.9815C831.3421,-95.618 831.5795,-86.7965 831.807,-78.3409\"/>\n<polygon fill=\"#000000\" stroke=\"#000000\" points=\"835.3078,-78.3542 832.0781,-68.2637 828.3103,-78.1659 835.3078,-78.3542\"/>\n</g>\n<!-- 14 -->\n<g id=\"node15\" class=\"node\">\n<title>14</title>\n<polygon fill=\"#fdf5ef\" stroke=\"#000000\" points=\"1042.5,-68 917.5,-68 917.5,0 1042.5,0 1042.5,-68\"/>\n<text text-anchor=\"start\" x=\"943.5\" y=\"-52.8\" font-family=\"Times,serif\" font-size=\"14.00\" fill=\"#000000\">gini = 0.499</text>\n<text text-anchor=\"start\" x=\"938\" y=\"-37.8\" font-family=\"Times,serif\" font-size=\"14.00\" fill=\"#000000\">samples = 538</text>\n<text text-anchor=\"start\" x=\"925.5\" y=\"-22.8\" font-family=\"Times,serif\" font-size=\"14.00\" fill=\"#000000\">value = [280, 258]</text>\n<text text-anchor=\"start\" x=\"955\" y=\"-7.8\" font-family=\"Times,serif\" font-size=\"14.00\" fill=\"#000000\">class = 0</text>\n</g>\n<!-- 13&#45;&gt;14 -->\n<g id=\"edge14\" class=\"edge\">\n<title>13&#45;&gt;14</title>\n<path fill=\"none\" stroke=\"#000000\" d=\"M982.5105,-103.9815C982.2105,-95.618 981.894,-86.7965 981.5907,-78.3409\"/>\n<polygon fill=\"#000000\" stroke=\"#000000\" points=\"985.0855,-78.1317 981.2292,-68.2637 978.09,-78.3828 985.0855,-78.1317\"/>\n</g>\n<!-- 15 -->\n<g id=\"node16\" class=\"node\">\n<title>15</title>\n<polygon fill=\"#57ace9\" stroke=\"#000000\" points=\"1163,-68 1061,-68 1061,0 1163,0 1163,-68\"/>\n<text text-anchor=\"start\" x=\"1075.5\" y=\"-52.8\" font-family=\"Times,serif\" font-size=\"14.00\" fill=\"#000000\">gini = 0.231</text>\n<text text-anchor=\"start\" x=\"1074\" y=\"-37.8\" font-family=\"Times,serif\" font-size=\"14.00\" fill=\"#000000\">samples = 15</text>\n<text text-anchor=\"start\" x=\"1069\" y=\"-22.8\" font-family=\"Times,serif\" font-size=\"14.00\" fill=\"#000000\">value = [2, 13]</text>\n<text text-anchor=\"start\" x=\"1087\" y=\"-7.8\" font-family=\"Times,serif\" font-size=\"14.00\" fill=\"#000000\">class = 1</text>\n</g>\n<!-- 13&#45;&gt;15 -->\n<g id=\"edge15\" class=\"edge\">\n<title>13&#45;&gt;15</title>\n<path fill=\"none\" stroke=\"#000000\" d=\"M1031.6625,-103.9815C1042.5297,-94.5151 1054.0705,-84.462 1064.9135,-75.0168\"/>\n<polygon fill=\"#000000\" stroke=\"#000000\" points=\"1067.4245,-77.4712 1072.6659,-68.2637 1062.8266,-72.1929 1067.4245,-77.4712\"/>\n</g>\n<!-- 17 -->\n<g id=\"node18\" class=\"node\">\n<title>17</title>\n<polygon fill=\"#fdf5ef\" stroke=\"#000000\" points=\"1541,-306 1401,-306 1401,-223 1541,-223 1541,-306\"/>\n<text text-anchor=\"start\" x=\"1429\" y=\"-290.8\" font-family=\"Times,serif\" font-size=\"14.00\" fill=\"#000000\">Pclass ≤ 0.302</text>\n<text text-anchor=\"start\" x=\"1434.5\" y=\"-275.8\" font-family=\"Times,serif\" font-size=\"14.00\" fill=\"#000000\">gini = 0.499</text>\n<text text-anchor=\"start\" x=\"1425.5\" y=\"-260.8\" font-family=\"Times,serif\" font-size=\"14.00\" fill=\"#000000\">samples = 7251</text>\n<text text-anchor=\"start\" x=\"1409\" y=\"-245.8\" font-family=\"Times,serif\" font-size=\"14.00\" fill=\"#000000\">value = [3778, 3473]</text>\n<text text-anchor=\"start\" x=\"1446\" y=\"-230.8\" font-family=\"Times,serif\" font-size=\"14.00\" fill=\"#000000\">class = 0</text>\n</g>\n<!-- 16&#45;&gt;17 -->\n<g id=\"edge17\" class=\"edge\">\n<title>16&#45;&gt;17</title>\n<path fill=\"none\" stroke=\"#000000\" d=\"M1471,-341.8796C1471,-333.6838 1471,-324.9891 1471,-316.5013\"/>\n<polygon fill=\"#000000\" stroke=\"#000000\" points=\"1474.5001,-316.298 1471,-306.2981 1467.5001,-316.2981 1474.5001,-316.298\"/>\n</g>\n<!-- 24 -->\n<g id=\"node25\" class=\"node\">\n<title>24</title>\n<polygon fill=\"#ea995f\" stroke=\"#000000\" points=\"1975.5,-306 1828.5,-306 1828.5,-223 1975.5,-223 1975.5,-306\"/>\n<text text-anchor=\"start\" x=\"1860\" y=\"-290.8\" font-family=\"Times,serif\" font-size=\"14.00\" fill=\"#000000\">Pclass ≤ 0.302</text>\n<text text-anchor=\"start\" x=\"1865.5\" y=\"-275.8\" font-family=\"Times,serif\" font-size=\"14.00\" fill=\"#000000\">gini = 0.268</text>\n<text text-anchor=\"start\" x=\"1852.5\" y=\"-260.8\" font-family=\"Times,serif\" font-size=\"14.00\" fill=\"#000000\">samples = 43222</text>\n<text text-anchor=\"start\" x=\"1836.5\" y=\"-245.8\" font-family=\"Times,serif\" font-size=\"14.00\" fill=\"#000000\">value = [36331, 6891]</text>\n<text text-anchor=\"start\" x=\"1877\" y=\"-230.8\" font-family=\"Times,serif\" font-size=\"14.00\" fill=\"#000000\">class = 0</text>\n</g>\n<!-- 16&#45;&gt;24 -->\n<g id=\"edge24\" class=\"edge\">\n<title>16&#45;&gt;24</title>\n<path fill=\"none\" stroke=\"#000000\" d=\"M1548.5519,-362.0877C1624.6689,-341.0717 1740.3974,-309.1188 1818.5,-287.5545\"/>\n<polygon fill=\"#000000\" stroke=\"#000000\" points=\"1819.601,-290.8816 1828.3088,-284.8463 1817.738,-284.134 1819.601,-290.8816\"/>\n</g>\n<!-- 18 -->\n<g id=\"node19\" class=\"node\">\n<title>18</title>\n<polygon fill=\"#dfeffb\" stroke=\"#000000\" points=\"1464,-187 1324,-187 1324,-104 1464,-104 1464,-187\"/>\n<text text-anchor=\"start\" x=\"1351\" y=\"-171.8\" font-family=\"Times,serif\" font-size=\"14.00\" fill=\"#000000\">Cabin_A ≤ 0.5</text>\n<text text-anchor=\"start\" x=\"1357.5\" y=\"-156.8\" font-family=\"Times,serif\" font-size=\"14.00\" fill=\"#000000\">gini = 0.496</text>\n<text text-anchor=\"start\" x=\"1348.5\" y=\"-141.8\" font-family=\"Times,serif\" font-size=\"14.00\" fill=\"#000000\">samples = 5550</text>\n<text text-anchor=\"start\" x=\"1332\" y=\"-126.8\" font-family=\"Times,serif\" font-size=\"14.00\" fill=\"#000000\">value = [2529, 3021]</text>\n<text text-anchor=\"start\" x=\"1369\" y=\"-111.8\" font-family=\"Times,serif\" font-size=\"14.00\" fill=\"#000000\">class = 1</text>\n</g>\n<!-- 17&#45;&gt;18 -->\n<g id=\"edge18\" class=\"edge\">\n<title>17&#45;&gt;18</title>\n<path fill=\"none\" stroke=\"#000000\" d=\"M1444.0691,-222.8796C1438.4163,-214.1434 1432.3967,-204.8404 1426.5634,-195.8253\"/>\n<polygon fill=\"#000000\" stroke=\"#000000\" points=\"1429.4169,-193.7924 1421.0458,-187.2981 1423.5399,-197.5952 1429.4169,-193.7924\"/>\n</g>\n<!-- 21 -->\n<g id=\"node22\" class=\"node\">\n<title>21</title>\n<polygon fill=\"#eeaf81\" stroke=\"#000000\" points=\"1614,-187 1482,-187 1482,-104 1614,-104 1614,-187\"/>\n<text text-anchor=\"start\" x=\"1492.5\" y=\"-171.8\" font-family=\"Times,serif\" font-size=\"14.00\" fill=\"#000000\">Embarked_C ≤ 0.5</text>\n<text text-anchor=\"start\" x=\"1515.5\" y=\"-156.8\" font-family=\"Times,serif\" font-size=\"14.00\" fill=\"#000000\">gini = 0.39</text>\n<text text-anchor=\"start\" x=\"1502.5\" y=\"-141.8\" font-family=\"Times,serif\" font-size=\"14.00\" fill=\"#000000\">samples = 1701</text>\n<text text-anchor=\"start\" x=\"1490\" y=\"-126.8\" font-family=\"Times,serif\" font-size=\"14.00\" fill=\"#000000\">value = [1249, 452]</text>\n<text text-anchor=\"start\" x=\"1523\" y=\"-111.8\" font-family=\"Times,serif\" font-size=\"14.00\" fill=\"#000000\">class = 0</text>\n</g>\n<!-- 17&#45;&gt;21 -->\n<g id=\"edge21\" class=\"edge\">\n<title>17&#45;&gt;21</title>\n<path fill=\"none\" stroke=\"#000000\" d=\"M1497.9309,-222.8796C1503.5837,-214.1434 1509.6033,-204.8404 1515.4366,-195.8253\"/>\n<polygon fill=\"#000000\" stroke=\"#000000\" points=\"1518.4601,-197.5952 1520.9542,-187.2981 1512.5831,-193.7924 1518.4601,-197.5952\"/>\n</g>\n<!-- 19 -->\n<g id=\"node20\" class=\"node\">\n<title>19</title>\n<polygon fill=\"#c6e3f7\" stroke=\"#000000\" points=\"1321,-68 1181,-68 1181,0 1321,0 1321,-68\"/>\n<text text-anchor=\"start\" x=\"1214.5\" y=\"-52.8\" font-family=\"Times,serif\" font-size=\"14.00\" fill=\"#000000\">gini = 0.486</text>\n<text text-anchor=\"start\" x=\"1205.5\" y=\"-37.8\" font-family=\"Times,serif\" font-size=\"14.00\" fill=\"#000000\">samples = 4754</text>\n<text text-anchor=\"start\" x=\"1189\" y=\"-22.8\" font-family=\"Times,serif\" font-size=\"14.00\" fill=\"#000000\">value = [1976, 2778]</text>\n<text text-anchor=\"start\" x=\"1226\" y=\"-7.8\" font-family=\"Times,serif\" font-size=\"14.00\" fill=\"#000000\">class = 1</text>\n</g>\n<!-- 18&#45;&gt;19 -->\n<g id=\"edge19\" class=\"edge\">\n<title>18&#45;&gt;19</title>\n<path fill=\"none\" stroke=\"#000000\" d=\"M1340.7521,-103.9815C1328.3756,-94.3313 1315.2172,-84.0714 1302.8997,-74.4673\"/>\n<polygon fill=\"#000000\" stroke=\"#000000\" points=\"1304.9818,-71.6525 1294.9435,-68.2637 1300.6775,-77.1728 1304.9818,-71.6525\"/>\n</g>\n<!-- 20 -->\n<g id=\"node21\" class=\"node\">\n<title>20</title>\n<polygon fill=\"#f0b890\" stroke=\"#000000\" points=\"1464.5,-68 1339.5,-68 1339.5,0 1464.5,0 1464.5,-68\"/>\n<text text-anchor=\"start\" x=\"1365.5\" y=\"-52.8\" font-family=\"Times,serif\" font-size=\"14.00\" fill=\"#000000\">gini = 0.424</text>\n<text text-anchor=\"start\" x=\"1360\" y=\"-37.8\" font-family=\"Times,serif\" font-size=\"14.00\" fill=\"#000000\">samples = 796</text>\n<text text-anchor=\"start\" x=\"1347.5\" y=\"-22.8\" font-family=\"Times,serif\" font-size=\"14.00\" fill=\"#000000\">value = [553, 243]</text>\n<text text-anchor=\"start\" x=\"1377\" y=\"-7.8\" font-family=\"Times,serif\" font-size=\"14.00\" fill=\"#000000\">class = 0</text>\n</g>\n<!-- 18&#45;&gt;20 -->\n<g id=\"edge20\" class=\"edge\">\n<title>18&#45;&gt;20</title>\n<path fill=\"none\" stroke=\"#000000\" d=\"M1396.9789,-103.9815C1397.579,-95.618 1398.2119,-86.7965 1398.8186,-78.3409\"/>\n<polygon fill=\"#000000\" stroke=\"#000000\" points=\"1402.3169,-78.4885 1399.5416,-68.2637 1395.3349,-77.9875 1402.3169,-78.4885\"/>\n</g>\n<!-- 22 -->\n<g id=\"node23\" class=\"node\">\n<title>22</title>\n<polygon fill=\"#e99457\" stroke=\"#000000\" points=\"1599.5,-68 1482.5,-68 1482.5,0 1599.5,0 1599.5,-68\"/>\n<text text-anchor=\"start\" x=\"1504.5\" y=\"-52.8\" font-family=\"Times,serif\" font-size=\"14.00\" fill=\"#000000\">gini = 0.227</text>\n<text text-anchor=\"start\" x=\"1499\" y=\"-37.8\" font-family=\"Times,serif\" font-size=\"14.00\" fill=\"#000000\">samples = 405</text>\n<text text-anchor=\"start\" x=\"1490.5\" y=\"-22.8\" font-family=\"Times,serif\" font-size=\"14.00\" fill=\"#000000\">value = [352, 53]</text>\n<text text-anchor=\"start\" x=\"1516\" y=\"-7.8\" font-family=\"Times,serif\" font-size=\"14.00\" fill=\"#000000\">class = 0</text>\n</g>\n<!-- 21&#45;&gt;22 -->\n<g id=\"edge22\" class=\"edge\">\n<title>21&#45;&gt;22</title>\n<path fill=\"none\" stroke=\"#000000\" d=\"M1545.3935,-103.9815C1544.8684,-95.618 1544.3146,-86.7965 1543.7837,-78.3409\"/>\n<polygon fill=\"#000000\" stroke=\"#000000\" points=\"1547.2709,-78.0247 1543.1511,-68.2637 1540.2846,-78.4634 1547.2709,-78.0247\"/>\n</g>\n<!-- 23 -->\n<g id=\"node24\" class=\"node\">\n<title>23</title>\n<polygon fill=\"#f1b991\" stroke=\"#000000\" points=\"1742.5,-68 1617.5,-68 1617.5,0 1742.5,0 1742.5,-68\"/>\n<text text-anchor=\"start\" x=\"1643.5\" y=\"-52.8\" font-family=\"Times,serif\" font-size=\"14.00\" fill=\"#000000\">gini = 0.426</text>\n<text text-anchor=\"start\" x=\"1634.5\" y=\"-37.8\" font-family=\"Times,serif\" font-size=\"14.00\" fill=\"#000000\">samples = 1296</text>\n<text text-anchor=\"start\" x=\"1625.5\" y=\"-22.8\" font-family=\"Times,serif\" font-size=\"14.00\" fill=\"#000000\">value = [897, 399]</text>\n<text text-anchor=\"start\" x=\"1655\" y=\"-7.8\" font-family=\"Times,serif\" font-size=\"14.00\" fill=\"#000000\">class = 0</text>\n</g>\n<!-- 21&#45;&gt;23 -->\n<g id=\"edge23\" class=\"edge\">\n<title>21&#45;&gt;23</title>\n<path fill=\"none\" stroke=\"#000000\" d=\"M1597.1519,-103.9815C1608.4676,-94.4232 1620.4913,-84.2668 1631.7675,-74.7419\"/>\n<polygon fill=\"#000000\" stroke=\"#000000\" points=\"1634.0559,-77.3904 1639.4367,-68.2637 1629.5388,-72.0429 1634.0559,-77.3904\"/>\n</g>\n<!-- 25 -->\n<g id=\"node26\" class=\"node\">\n<title>25</title>\n<polygon fill=\"#eda978\" stroke=\"#000000\" points=\"1975.5,-187 1828.5,-187 1828.5,-104 1975.5,-104 1975.5,-187\"/>\n<text text-anchor=\"start\" x=\"1862.5\" y=\"-171.8\" font-family=\"Times,serif\" font-size=\"14.00\" fill=\"#000000\">Fare ≤ &#45;0.591</text>\n<text text-anchor=\"start\" x=\"1865.5\" y=\"-156.8\" font-family=\"Times,serif\" font-size=\"14.00\" fill=\"#000000\">gini = 0.365</text>\n<text text-anchor=\"start\" x=\"1852.5\" y=\"-141.8\" font-family=\"Times,serif\" font-size=\"14.00\" fill=\"#000000\">samples = 19316</text>\n<text text-anchor=\"start\" x=\"1836.5\" y=\"-126.8\" font-family=\"Times,serif\" font-size=\"14.00\" fill=\"#000000\">value = [14678, 4638]</text>\n<text text-anchor=\"start\" x=\"1877\" y=\"-111.8\" font-family=\"Times,serif\" font-size=\"14.00\" fill=\"#000000\">class = 0</text>\n</g>\n<!-- 24&#45;&gt;25 -->\n<g id=\"edge25\" class=\"edge\">\n<title>24&#45;&gt;25</title>\n<path fill=\"none\" stroke=\"#000000\" d=\"M1902,-222.8796C1902,-214.6838 1902,-205.9891 1902,-197.5013\"/>\n<polygon fill=\"#000000\" stroke=\"#000000\" points=\"1905.5001,-197.298 1902,-187.2981 1898.5001,-197.2981 1905.5001,-197.298\"/>\n</g>\n<!-- 28 -->\n<g id=\"node29\" class=\"node\">\n<title>28</title>\n<polygon fill=\"#e88e4e\" stroke=\"#000000\" points=\"2215.5,-187 2068.5,-187 2068.5,-104 2215.5,-104 2215.5,-187\"/>\n<text text-anchor=\"start\" x=\"2101\" y=\"-171.8\" font-family=\"Times,serif\" font-size=\"14.00\" fill=\"#000000\">Parch ≤ 0.028</text>\n<text text-anchor=\"start\" x=\"2105.5\" y=\"-156.8\" font-family=\"Times,serif\" font-size=\"14.00\" fill=\"#000000\">gini = 0.171</text>\n<text text-anchor=\"start\" x=\"2092.5\" y=\"-141.8\" font-family=\"Times,serif\" font-size=\"14.00\" fill=\"#000000\">samples = 23906</text>\n<text text-anchor=\"start\" x=\"2076.5\" y=\"-126.8\" font-family=\"Times,serif\" font-size=\"14.00\" fill=\"#000000\">value = [21653, 2253]</text>\n<text text-anchor=\"start\" x=\"2117\" y=\"-111.8\" font-family=\"Times,serif\" font-size=\"14.00\" fill=\"#000000\">class = 0</text>\n</g>\n<!-- 24&#45;&gt;28 -->\n<g id=\"edge28\" class=\"edge\">\n<title>24&#45;&gt;28</title>\n<path fill=\"none\" stroke=\"#000000\" d=\"M1975.6389,-227.9874C2002.0076,-214.9129 2031.9056,-200.0885 2059.0108,-186.6488\"/>\n<polygon fill=\"#000000\" stroke=\"#000000\" points=\"2060.6825,-189.7266 2068.0868,-182.1486 2057.5729,-183.4552 2060.6825,-189.7266\"/>\n</g>\n<!-- 26 -->\n<g id=\"node27\" class=\"node\">\n<title>26</title>\n<polygon fill=\"#ea985c\" stroke=\"#000000\" points=\"1893,-68 1761,-68 1761,0 1893,0 1893,-68\"/>\n<text text-anchor=\"start\" x=\"1790.5\" y=\"-52.8\" font-family=\"Times,serif\" font-size=\"14.00\" fill=\"#000000\">gini = 0.257</text>\n<text text-anchor=\"start\" x=\"1781.5\" y=\"-37.8\" font-family=\"Times,serif\" font-size=\"14.00\" fill=\"#000000\">samples = 6465</text>\n<text text-anchor=\"start\" x=\"1769\" y=\"-22.8\" font-family=\"Times,serif\" font-size=\"14.00\" fill=\"#000000\">value = [5484, 981]</text>\n<text text-anchor=\"start\" x=\"1802\" y=\"-7.8\" font-family=\"Times,serif\" font-size=\"14.00\" fill=\"#000000\">class = 0</text>\n</g>\n<!-- 25&#45;&gt;26 -->\n<g id=\"edge26\" class=\"edge\">\n<title>25&#45;&gt;26</title>\n<path fill=\"none\" stroke=\"#000000\" d=\"M1874.0728,-103.9815C1868.0762,-95.0666 1861.7296,-85.6313 1855.7041,-76.6734\"/>\n<polygon fill=\"#000000\" stroke=\"#000000\" points=\"1858.5328,-74.6078 1850.0473,-68.2637 1852.7245,-78.5147 1858.5328,-74.6078\"/>\n</g>\n<!-- 27 -->\n<g id=\"node28\" class=\"node\">\n<title>27</title>\n<polygon fill=\"#efb388\" stroke=\"#000000\" points=\"2051,-68 1911,-68 1911,0 2051,0 2051,-68\"/>\n<text text-anchor=\"start\" x=\"1944.5\" y=\"-52.8\" font-family=\"Times,serif\" font-size=\"14.00\" fill=\"#000000\">gini = 0.407</text>\n<text text-anchor=\"start\" x=\"1931.5\" y=\"-37.8\" font-family=\"Times,serif\" font-size=\"14.00\" fill=\"#000000\">samples = 12851</text>\n<text text-anchor=\"start\" x=\"1919\" y=\"-22.8\" font-family=\"Times,serif\" font-size=\"14.00\" fill=\"#000000\">value = [9194, 3657]</text>\n<text text-anchor=\"start\" x=\"1956\" y=\"-7.8\" font-family=\"Times,serif\" font-size=\"14.00\" fill=\"#000000\">class = 0</text>\n</g>\n<!-- 25&#45;&gt;27 -->\n<g id=\"edge27\" class=\"edge\">\n<title>25&#45;&gt;27</title>\n<path fill=\"none\" stroke=\"#000000\" d=\"M1931.4167,-103.9815C1937.7331,-95.0666 1944.4182,-85.6313 1950.7651,-76.6734\"/>\n<polygon fill=\"#000000\" stroke=\"#000000\" points=\"1953.7981,-78.4466 1956.7235,-68.2637 1948.0864,-74.3998 1953.7981,-78.4466\"/>\n</g>\n<!-- 29 -->\n<g id=\"node30\" class=\"node\">\n<title>29</title>\n<polygon fill=\"#e78c4b\" stroke=\"#000000\" points=\"2215,-68 2069,-68 2069,0 2215,0 2215,-68\"/>\n<text text-anchor=\"start\" x=\"2105.5\" y=\"-52.8\" font-family=\"Times,serif\" font-size=\"14.00\" fill=\"#000000\">gini = 0.152</text>\n<text text-anchor=\"start\" x=\"2092.5\" y=\"-37.8\" font-family=\"Times,serif\" font-size=\"14.00\" fill=\"#000000\">samples = 19972</text>\n<text text-anchor=\"start\" x=\"2077\" y=\"-22.8\" font-family=\"Times,serif\" font-size=\"14.00\" fill=\"#000000\">value = [18311, 1661]</text>\n<text text-anchor=\"start\" x=\"2117\" y=\"-7.8\" font-family=\"Times,serif\" font-size=\"14.00\" fill=\"#000000\">class = 0</text>\n</g>\n<!-- 28&#45;&gt;29 -->\n<g id=\"edge29\" class=\"edge\">\n<title>28&#45;&gt;29</title>\n<path fill=\"none\" stroke=\"#000000\" d=\"M2142,-103.9815C2142,-95.618 2142,-86.7965 2142,-78.3409\"/>\n<polygon fill=\"#000000\" stroke=\"#000000\" points=\"2145.5001,-78.2636 2142,-68.2637 2138.5001,-78.2637 2145.5001,-78.2636\"/>\n</g>\n<!-- 30 -->\n<g id=\"node31\" class=\"node\">\n<title>30</title>\n<polygon fill=\"#ea975c\" stroke=\"#000000\" points=\"2365,-68 2233,-68 2233,0 2365,0 2365,-68\"/>\n<text text-anchor=\"start\" x=\"2262.5\" y=\"-52.8\" font-family=\"Times,serif\" font-size=\"14.00\" fill=\"#000000\">gini = 0.256</text>\n<text text-anchor=\"start\" x=\"2253.5\" y=\"-37.8\" font-family=\"Times,serif\" font-size=\"14.00\" fill=\"#000000\">samples = 3934</text>\n<text text-anchor=\"start\" x=\"2241\" y=\"-22.8\" font-family=\"Times,serif\" font-size=\"14.00\" fill=\"#000000\">value = [3342, 592]</text>\n<text text-anchor=\"start\" x=\"2274\" y=\"-7.8\" font-family=\"Times,serif\" font-size=\"14.00\" fill=\"#000000\">class = 0</text>\n</g>\n<!-- 28&#45;&gt;30 -->\n<g id=\"edge30\" class=\"edge\">\n<title>28&#45;&gt;30</title>\n<path fill=\"none\" stroke=\"#000000\" d=\"M2200.461,-103.9815C2214.2508,-94.1881 2228.9247,-83.7668 2242.6205,-74.0402\"/>\n<polygon fill=\"#000000\" stroke=\"#000000\" points=\"2244.8785,-76.7295 2251.005,-68.0856 2240.8253,-71.0223 2244.8785,-76.7295\"/>\n</g>\n</g>\n</svg>\n"
          },
          "metadata": {
            "tags": []
          },
          "execution_count": 20
        }
      ]
    },
    {
      "cell_type": "markdown",
      "metadata": {
        "id": "eXEQ8Acwwp39"
      },
      "source": [
        "## Ensemble"
      ]
    },
    {
      "cell_type": "code",
      "metadata": {
        "colab": {
          "base_uri": "https://localhost:8080/",
          "height": 17
        },
        "id": "o1oteBFmwqKS",
        "outputId": "9875b098-fe1a-4a1f-9ed1-78e9f6f893b1"
      },
      "source": [
        "submission_df['submit_lgb'] = [1 if pred >= 0.5 else 0 for pred in lgb_preds]\n",
        "submission_df['submit_ctb'] = [1 if pred >= 0.5 else 0 for pred in ctb_preds]\n",
        "submission_df['submit_dtm'] = [1 if pred >= 0.5 else 0 for pred in dtm_preds]"
      ],
      "execution_count": 27,
      "outputs": [
        {
          "output_type": "display_data",
          "data": {
            "text/html": [
              "\n",
              "  <style>\n",
              "    pre {\n",
              "        white-space: pre-wrap;\n",
              "    }\n",
              "  </style>\n",
              "  "
            ],
            "text/plain": [
              "<IPython.core.display.HTML object>"
            ]
          },
          "metadata": {
            "tags": []
          }
        }
      ]
    },
    {
      "cell_type": "code",
      "metadata": {
        "colab": {
          "base_uri": "https://localhost:8080/",
          "height": 404
        },
        "id": "jywozOfj1RTh",
        "outputId": "1eb35c19-cccc-4426-e2ab-d3bd9ded0dee"
      },
      "source": [
        "submission_df"
      ],
      "execution_count": 28,
      "outputs": [
        {
          "output_type": "display_data",
          "data": {
            "text/html": [
              "\n",
              "  <style>\n",
              "    pre {\n",
              "        white-space: pre-wrap;\n",
              "    }\n",
              "  </style>\n",
              "  "
            ],
            "text/plain": [
              "<IPython.core.display.HTML object>"
            ]
          },
          "metadata": {
            "tags": []
          }
        },
        {
          "output_type": "execute_result",
          "data": {
            "text/html": [
              "<div>\n",
              "<style scoped>\n",
              "    .dataframe tbody tr th:only-of-type {\n",
              "        vertical-align: middle;\n",
              "    }\n",
              "\n",
              "    .dataframe tbody tr th {\n",
              "        vertical-align: top;\n",
              "    }\n",
              "\n",
              "    .dataframe thead th {\n",
              "        text-align: right;\n",
              "    }\n",
              "</style>\n",
              "<table border=\"1\" class=\"dataframe\">\n",
              "  <thead>\n",
              "    <tr style=\"text-align: right;\">\n",
              "      <th></th>\n",
              "      <th>PassengerId</th>\n",
              "      <th>Survived</th>\n",
              "      <th>submit_lgb</th>\n",
              "      <th>submit_ctb</th>\n",
              "      <th>submit_dtm</th>\n",
              "    </tr>\n",
              "  </thead>\n",
              "  <tbody>\n",
              "    <tr>\n",
              "      <th>0</th>\n",
              "      <td>100000</td>\n",
              "      <td>0</td>\n",
              "      <td>0</td>\n",
              "      <td>0</td>\n",
              "      <td>0</td>\n",
              "    </tr>\n",
              "    <tr>\n",
              "      <th>1</th>\n",
              "      <td>100001</td>\n",
              "      <td>1</td>\n",
              "      <td>1</td>\n",
              "      <td>1</td>\n",
              "      <td>1</td>\n",
              "    </tr>\n",
              "    <tr>\n",
              "      <th>2</th>\n",
              "      <td>100002</td>\n",
              "      <td>1</td>\n",
              "      <td>1</td>\n",
              "      <td>1</td>\n",
              "      <td>1</td>\n",
              "    </tr>\n",
              "    <tr>\n",
              "      <th>3</th>\n",
              "      <td>100003</td>\n",
              "      <td>0</td>\n",
              "      <td>0</td>\n",
              "      <td>0</td>\n",
              "      <td>0</td>\n",
              "    </tr>\n",
              "    <tr>\n",
              "      <th>4</th>\n",
              "      <td>100004</td>\n",
              "      <td>1</td>\n",
              "      <td>1</td>\n",
              "      <td>1</td>\n",
              "      <td>1</td>\n",
              "    </tr>\n",
              "    <tr>\n",
              "      <th>...</th>\n",
              "      <td>...</td>\n",
              "      <td>...</td>\n",
              "      <td>...</td>\n",
              "      <td>...</td>\n",
              "      <td>...</td>\n",
              "    </tr>\n",
              "    <tr>\n",
              "      <th>99995</th>\n",
              "      <td>199995</td>\n",
              "      <td>1</td>\n",
              "      <td>1</td>\n",
              "      <td>1</td>\n",
              "      <td>1</td>\n",
              "    </tr>\n",
              "    <tr>\n",
              "      <th>99996</th>\n",
              "      <td>199996</td>\n",
              "      <td>0</td>\n",
              "      <td>0</td>\n",
              "      <td>0</td>\n",
              "      <td>0</td>\n",
              "    </tr>\n",
              "    <tr>\n",
              "      <th>99997</th>\n",
              "      <td>199997</td>\n",
              "      <td>0</td>\n",
              "      <td>0</td>\n",
              "      <td>0</td>\n",
              "      <td>0</td>\n",
              "    </tr>\n",
              "    <tr>\n",
              "      <th>99998</th>\n",
              "      <td>199998</td>\n",
              "      <td>1</td>\n",
              "      <td>1</td>\n",
              "      <td>1</td>\n",
              "      <td>1</td>\n",
              "    </tr>\n",
              "    <tr>\n",
              "      <th>99999</th>\n",
              "      <td>199999</td>\n",
              "      <td>1</td>\n",
              "      <td>1</td>\n",
              "      <td>1</td>\n",
              "      <td>1</td>\n",
              "    </tr>\n",
              "  </tbody>\n",
              "</table>\n",
              "<p>100000 rows × 5 columns</p>\n",
              "</div>"
            ],
            "text/plain": [
              "       PassengerId  Survived  submit_lgb  submit_ctb  submit_dtm\n",
              "0           100000         0           0           0           0\n",
              "1           100001         1           1           1           1\n",
              "2           100002         1           1           1           1\n",
              "3           100003         0           0           0           0\n",
              "4           100004         1           1           1           1\n",
              "...            ...       ...         ...         ...         ...\n",
              "99995       199995         1           1           1           1\n",
              "99996       199996         0           0           0           0\n",
              "99997       199997         0           0           0           0\n",
              "99998       199998         1           1           1           1\n",
              "99999       199999         1           1           1           1\n",
              "\n",
              "[100000 rows x 5 columns]"
            ]
          },
          "metadata": {
            "tags": []
          },
          "execution_count": 28
        }
      ]
    },
    {
      "cell_type": "code",
      "metadata": {
        "colab": {
          "base_uri": "https://localhost:8080/",
          "height": 108
        },
        "id": "VsOsxxeixDaJ",
        "outputId": "7273ce6b-e8ba-45c5-c84d-8ffc08aee866"
      },
      "source": [
        "# 세 모델의 행 별로 생존자의 수를 더함\n",
        "# 0은 모두 사망으로 예측, 1은 하나만, 2는 두 모델, 3은 세 모델이 모두 생존으로 예측\n",
        "submission_df[[col for col in submission_df.columns if col.startswith('submit_')]]\\\n",
        ".sum(axis=1).value_counts()"
      ],
      "execution_count": 31,
      "outputs": [
        {
          "output_type": "display_data",
          "data": {
            "text/html": [
              "\n",
              "  <style>\n",
              "    pre {\n",
              "        white-space: pre-wrap;\n",
              "    }\n",
              "  </style>\n",
              "  "
            ],
            "text/plain": [
              "<IPython.core.display.HTML object>"
            ]
          },
          "metadata": {
            "tags": []
          }
        },
        {
          "output_type": "execute_result",
          "data": {
            "text/plain": [
              "0    63505\n",
              "3    29359\n",
              "1     4760\n",
              "2     2376\n",
              "dtype: int64"
            ]
          },
          "metadata": {
            "tags": []
          },
          "execution_count": 31
        }
      ]
    },
    {
      "cell_type": "code",
      "metadata": {
        "colab": {
          "base_uri": "https://localhost:8080/",
          "height": 17
        },
        "id": "xNSHXgZFypsn",
        "outputId": "3abf67e6-c6f6-432a-b12a-b39bf81e5259"
      },
      "source": [
        "# 합이 2보다 크면 True -> int로 변환 (1)\n",
        "submission_df[TARGET] = (submission_df[[col for col in submission_df.columns\\\n",
        "                                  if col.startswith('submit_')]].sum(axis=1) >= 2)\\\n",
        "                                  .astype(int)"
      ],
      "execution_count": 33,
      "outputs": [
        {
          "output_type": "display_data",
          "data": {
            "text/html": [
              "\n",
              "  <style>\n",
              "    pre {\n",
              "        white-space: pre-wrap;\n",
              "    }\n",
              "  </style>\n",
              "  "
            ],
            "text/plain": [
              "<IPython.core.display.HTML object>"
            ]
          },
          "metadata": {
            "tags": []
          }
        }
      ]
    },
    {
      "cell_type": "code",
      "metadata": {
        "colab": {
          "base_uri": "https://localhost:8080/",
          "height": 17
        },
        "id": "nIORpSBv2wk1",
        "outputId": "d0be96c5-5657-458a-dbfd-3afd6f8f32ec"
      },
      "source": [
        "submission_df.drop([col for col in submission_df.columns if col.startswith('submit_')],\\\n",
        "                 axis=1, inplace=True)"
      ],
      "execution_count": 34,
      "outputs": [
        {
          "output_type": "display_data",
          "data": {
            "text/html": [
              "\n",
              "  <style>\n",
              "    pre {\n",
              "        white-space: pre-wrap;\n",
              "    }\n",
              "  </style>\n",
              "  "
            ],
            "text/plain": [
              "<IPython.core.display.HTML object>"
            ]
          },
          "metadata": {
            "tags": []
          }
        }
      ]
    },
    {
      "cell_type": "code",
      "metadata": {
        "colab": {
          "base_uri": "https://localhost:8080/",
          "height": 17
        },
        "id": "Zv_RFdiA1EA4",
        "outputId": "09e1ad1d-18fc-4c93-cb10-c9af677c1126"
      },
      "source": [
        "submission_df.to_csv('Apr_Ensemble.csv', index=False)"
      ],
      "execution_count": 36,
      "outputs": [
        {
          "output_type": "display_data",
          "data": {
            "text/html": [
              "\n",
              "  <style>\n",
              "    pre {\n",
              "        white-space: pre-wrap;\n",
              "    }\n",
              "  </style>\n",
              "  "
            ],
            "text/plain": [
              "<IPython.core.display.HTML object>"
            ]
          },
          "metadata": {
            "tags": []
          }
        }
      ]
    },
    {
      "cell_type": "markdown",
      "metadata": {
        "id": "bva8jI6q4la9"
      },
      "source": [
        "score: 0.80305, 369등"
      ]
    },
    {
      "cell_type": "markdown",
      "metadata": {
        "id": "p1WUlEkD68hZ"
      },
      "source": [
        "## Pseudo labeling을 통한 모델 성능 향상"
      ]
    },
    {
      "cell_type": "markdown",
      "metadata": {
        "id": "LcuuAqKz68DG"
      },
      "source": [
        "- 라벨링되지 않은 데이터(예를 들어 test 데이터 셋)을 1차적으로 학습된 모델을 이용하여 예측을 수행\n",
        "- 수도 레이블링을 한 후에, train 데이터 셋과 합친 큰 데이터셋을 이용하여 2차 학습 수행\n",
        "- 조건:\n",
        "    1. 수도 레이블링을 할 때 이용할 학습된 모델의 성능이 어느정도 좋아야함\n",
        "    2. 수도 레이블링 데이터 셋과 기존의 데이터 셋의 크기가 50대 50을 넘으면 안됨\n",
        "        - 진짜 label에서 많이 학습하고 pseudo label로 finetuning될 수 있게끔\n",
        "    3. \n"
      ]
    }
  ]
}