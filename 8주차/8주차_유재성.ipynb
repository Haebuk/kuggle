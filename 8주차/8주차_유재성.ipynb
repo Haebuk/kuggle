{
 "cells": [
  {
   "cell_type": "markdown",
   "metadata": {},
   "source": [
    "# 과제\n",
    "- 다음 검색창에 '건대 원룸' 검색 후 다음 부동산 section의 정보 크롤링 하기\n",
    "- https://search.daum.net/search?nil_suggest=btn&w=tot&DA=SBC&q=%EA%B1%B4%EB%8C%80+%EC%9B%90%EB%A3%B8\n"
   ]
  },
  {
   "cell_type": "code",
   "execution_count": 1,
   "metadata": {
    "ExecuteTime": {
     "end_time": "2021-05-12T17:20:03.090888Z",
     "start_time": "2021-05-12T17:20:02.672508Z"
    },
    "scrolled": true
   },
   "outputs": [
    {
     "name": "stdout",
     "output_type": "stream",
     "text": [
      "제품명 :     [월세]동원데쟈뷰 오피스텔 \n",
      "\n",
      "가격 :       1,000/80만원 \n",
      "\n",
      "추가정보 :   서울시 광진구 동일로 (군자동) \n",
      "--------------------------------------------------------------------------------\n",
      "제품명 :     [월세] 원룸 \n",
      "\n",
      "가격 :       1,000/80만원 \n",
      "\n",
      "추가정보 :   서울시 광진구 화양동 \n",
      "--------------------------------------------------------------------------------\n",
      "제품명 :     [월세]화양동동도센트리움캠퍼스파크 오피스텔 \n",
      "\n",
      "가격 :       5,000/53만원 \n",
      "\n",
      "추가정보 :   서울시 광진구 광나루로 (화양동.. \n",
      "--------------------------------------------------------------------------------\n"
     ]
    }
   ],
   "source": [
    "import requests\n",
    "import re\n",
    "from bs4 import BeautifulSoup\n",
    "\n",
    "url = \"https://search.daum.net/search?nil_suggest=btn&w=tot&DA=SBC&q=%EA%B1%B4%EB%8C%80+%EC%9B%90%EB%A3%B8\"\n",
    "    \n",
    "res = requests.get(url)\n",
    "res.raise_for_status()\n",
    "soup = BeautifulSoup(res.text, \"lxml\")\n",
    "    \n",
    "rooms = soup.find_all(\"div\", attrs={\"class\" : \"cont_place\"})\n",
    "for room in rooms:\n",
    "    name = room.find('a', attrs={'class': 'fn_tit'}).get_text()\n",
    "    print('제품명 :    ',name, '\\n')\n",
    "    price = room.find('span', attrs={'class': 'f_red'}).get_text()\n",
    "    print('가격 :      ',price+'만원', '\\n')\n",
    "    juso = room.find('div', attrs={'class': 'info_more'}).get_text()\n",
    "    print('추가정보 : ',juso)\n",
    "    print(\"-\" * 80)"
   ]
  }
 ],
 "metadata": {
  "kernelspec": {
   "display_name": "Python 3",
   "language": "python",
   "name": "python3"
  },
  "language_info": {
   "codemirror_mode": {
    "name": "ipython",
    "version": 3
   },
   "file_extension": ".py",
   "mimetype": "text/x-python",
   "name": "python",
   "nbconvert_exporter": "python",
   "pygments_lexer": "ipython3",
   "version": "3.7.10"
  },
  "toc": {
   "base_numbering": 1,
   "nav_menu": {},
   "number_sections": false,
   "sideBar": true,
   "skip_h1_title": false,
   "title_cell": "Table of Contents",
   "title_sidebar": "Contents",
   "toc_cell": false,
   "toc_position": {},
   "toc_section_display": true,
   "toc_window_display": false
  },
  "varInspector": {
   "cols": {
    "lenName": 16,
    "lenType": 16,
    "lenVar": 40
   },
   "kernels_config": {
    "python": {
     "delete_cmd_postfix": "",
     "delete_cmd_prefix": "del ",
     "library": "var_list.py",
     "varRefreshCmd": "print(var_dic_list())"
    },
    "r": {
     "delete_cmd_postfix": ") ",
     "delete_cmd_prefix": "rm(",
     "library": "var_list.r",
     "varRefreshCmd": "cat(var_dic_list()) "
    }
   },
   "types_to_exclude": [
    "module",
    "function",
    "builtin_function_or_method",
    "instance",
    "_Feature"
   ],
   "window_display": false
  }
 },
 "nbformat": 4,
 "nbformat_minor": 4
}
