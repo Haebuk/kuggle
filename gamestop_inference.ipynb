{
  "nbformat": 4,
  "nbformat_minor": 0,
  "metadata": {
    "colab": {
      "name": "gamestop_inference.ipynb",
      "provenance": [],
      "mount_file_id": "1P1TsYH47spDL5sIG6jm_KOpSaiqO_GbF",
      "authorship_tag": "ABX9TyP2Zn+BzsSgUaMONYn8J5eL",
      "include_colab_link": true
    },
    "kernelspec": {
      "name": "python3",
      "display_name": "Python 3"
    },
    "language_info": {
      "name": "python"
    },
    "accelerator": "GPU"
  },
  "cells": [
    {
      "cell_type": "markdown",
      "metadata": {
        "id": "view-in-github",
        "colab_type": "text"
      },
      "source": [
        "<a href=\"https://colab.research.google.com/github/Haebuk/kuggle/blob/main/gamestop_inference.ipynb\" target=\"_parent\"><img src=\"https://colab.research.google.com/assets/colab-badge.svg\" alt=\"Open In Colab\"/></a>"
      ]
    },
    {
      "cell_type": "code",
      "metadata": {
        "colab": {
          "base_uri": "https://localhost:8080/"
        },
        "id": "C8ZdplZpip8t",
        "outputId": "1789cb4a-487f-4e99-c134-aaea110d6384"
      },
      "source": [
        "import tensorflow as tf\n",
        "import pandas as pd\n",
        "import numpy as np\n",
        "from keras.models import Sequential\n",
        "from keras.layers import LSTM, Dense, Dropout, InputLayer\n",
        "from sklearn.model_selection import train_test_split\n",
        "\n",
        "PATH = '/content/drive/MyDrive/input/'\n",
        "df = pd.read_csv(PATH + 'GME_scaled.csv')\n",
        "\n",
        "hpo_configs = {\n",
        "    'learning_rate': 0.008706356110059394,\n",
        "    'dropout_rate1': 0.24704916015588443,\n",
        "    'hidden1': 38,\n",
        "    'time_step': 1,\n",
        "}\n",
        "\n",
        "X = df.drop('date', axis=1).values\n",
        "y = df['open_price'].values\n",
        "X_tr, X_te, y_tr, y_te = train_test_split(X, y, test_size=0.1, shuffle=False)\n",
        "\n",
        "time_step = hpo_configs['time_step']\n",
        "X_train, y_train, X_test, y_test = [], [], [], []\n",
        "for i in range(time_step,len(X_tr)): # train\n",
        "    X_train.append(X_tr[i-time_step:i,:])\n",
        "    y_train.append(y_tr[i])\n",
        "for i in range(time_step, len(X_te)): # test\n",
        "    X_test.append(X_te[i-time_step:i,:])\n",
        "    y_test.append(y_te[i])\n",
        "X_train, y_train = np.array(X_train), np.array(y_train)\n",
        "X_test, y_test = np.array(X_test), np.array(y_test)\n",
        "# LSTM input shape 조건(batch_size, timestep, feature_num)에 맞게 reshape\n",
        "X_train = np.reshape(X_train, (-1,X_train.shape[1],2))\n",
        "X_test = np.reshape(X_test, (-1,X_test.shape[1],2))\n",
        "\n",
        "model = tf.keras.Sequential([\n",
        "InputLayer(input_shape=(hpo_configs['time_step'], 2)),\n",
        "LSTM(hpo_configs['hidden1']),\n",
        "Dropout(hpo_configs['dropout_rate1']),\n",
        "Dense(1),\n",
        "])\n",
        "\n",
        "opt = tf.keras.optimizers.Adam(learning_rate=hpo_configs['learning_rate'])\n",
        "\n",
        "early_stopping = tf.keras.callbacks.EarlyStopping(monitor='val_loss', patience=10)\n",
        "checkpoint = tf.keras.callbacks.ModelCheckpoint(\n",
        "    filepath = 'best-model-weights.h5',\n",
        "    save_weights_only=True,\n",
        "    save_best_only=True,\n",
        "    monitor='val_loss',\n",
        "    verbose=1\n",
        ")\n",
        "\n",
        "model.compile(optimizer=opt,\n",
        "            loss='mse')\n",
        "\n",
        "model.fit(X_train, y_train,\n",
        "        validation_data=(X_test, y_test),\n",
        "        epochs=200, callbacks=[early_stopping, checkpoint])"
      ],
      "execution_count": 118,
      "outputs": [
        {
          "output_type": "stream",
          "text": [
            "Epoch 1/200\n",
            "82/82 [==============================] - 2s 7ms/step - loss: 1.3182 - val_loss: 0.5540\n",
            "\n",
            "Epoch 00001: val_loss improved from inf to 0.55399, saving model to best-model-weights.h5\n",
            "Epoch 2/200\n",
            "82/82 [==============================] - 0s 3ms/step - loss: 0.1621 - val_loss: 0.3241\n",
            "\n",
            "Epoch 00002: val_loss improved from 0.55399 to 0.32412, saving model to best-model-weights.h5\n",
            "Epoch 3/200\n",
            "82/82 [==============================] - 0s 3ms/step - loss: 0.1229 - val_loss: 0.1399\n",
            "\n",
            "Epoch 00003: val_loss improved from 0.32412 to 0.13993, saving model to best-model-weights.h5\n",
            "Epoch 4/200\n",
            "82/82 [==============================] - 0s 3ms/step - loss: 0.0980 - val_loss: 0.1811\n",
            "\n",
            "Epoch 00004: val_loss did not improve from 0.13993\n",
            "Epoch 5/200\n",
            "82/82 [==============================] - 0s 3ms/step - loss: 0.0853 - val_loss: 0.0854\n",
            "\n",
            "Epoch 00005: val_loss improved from 0.13993 to 0.08543, saving model to best-model-weights.h5\n",
            "Epoch 6/200\n",
            "82/82 [==============================] - 0s 3ms/step - loss: 0.0811 - val_loss: 0.0769\n",
            "\n",
            "Epoch 00006: val_loss improved from 0.08543 to 0.07688, saving model to best-model-weights.h5\n",
            "Epoch 7/200\n",
            "82/82 [==============================] - 0s 4ms/step - loss: 0.0726 - val_loss: 0.0579\n",
            "\n",
            "Epoch 00007: val_loss improved from 0.07688 to 0.05790, saving model to best-model-weights.h5\n",
            "Epoch 8/200\n",
            "82/82 [==============================] - 0s 3ms/step - loss: 0.0696 - val_loss: 0.0623\n",
            "\n",
            "Epoch 00008: val_loss did not improve from 0.05790\n",
            "Epoch 9/200\n",
            "82/82 [==============================] - 0s 3ms/step - loss: 0.0682 - val_loss: 0.0465\n",
            "\n",
            "Epoch 00009: val_loss improved from 0.05790 to 0.04649, saving model to best-model-weights.h5\n",
            "Epoch 10/200\n",
            "82/82 [==============================] - 0s 3ms/step - loss: 0.0676 - val_loss: 0.0605\n",
            "\n",
            "Epoch 00010: val_loss did not improve from 0.04649\n",
            "Epoch 11/200\n",
            "82/82 [==============================] - 0s 3ms/step - loss: 0.0622 - val_loss: 0.0508\n",
            "\n",
            "Epoch 00011: val_loss did not improve from 0.04649\n",
            "Epoch 12/200\n",
            "82/82 [==============================] - 0s 3ms/step - loss: 0.0610 - val_loss: 0.0506\n",
            "\n",
            "Epoch 00012: val_loss did not improve from 0.04649\n",
            "Epoch 13/200\n",
            "82/82 [==============================] - 0s 3ms/step - loss: 0.0551 - val_loss: 0.0650\n",
            "\n",
            "Epoch 00013: val_loss did not improve from 0.04649\n",
            "Epoch 14/200\n",
            "82/82 [==============================] - 0s 3ms/step - loss: 0.0531 - val_loss: 0.0470\n",
            "\n",
            "Epoch 00014: val_loss did not improve from 0.04649\n",
            "Epoch 15/200\n",
            "82/82 [==============================] - 0s 3ms/step - loss: 0.0542 - val_loss: 0.0525\n",
            "\n",
            "Epoch 00015: val_loss did not improve from 0.04649\n",
            "Epoch 16/200\n",
            "82/82 [==============================] - 0s 3ms/step - loss: 0.0521 - val_loss: 0.0432\n",
            "\n",
            "Epoch 00016: val_loss improved from 0.04649 to 0.04317, saving model to best-model-weights.h5\n",
            "Epoch 17/200\n",
            "82/82 [==============================] - 0s 3ms/step - loss: 0.0488 - val_loss: 0.0734\n",
            "\n",
            "Epoch 00017: val_loss did not improve from 0.04317\n",
            "Epoch 18/200\n",
            "82/82 [==============================] - 0s 4ms/step - loss: 0.0449 - val_loss: 0.0377\n",
            "\n",
            "Epoch 00018: val_loss improved from 0.04317 to 0.03771, saving model to best-model-weights.h5\n",
            "Epoch 19/200\n",
            "82/82 [==============================] - 0s 3ms/step - loss: 0.0422 - val_loss: 0.0414\n",
            "\n",
            "Epoch 00019: val_loss did not improve from 0.03771\n",
            "Epoch 20/200\n",
            "82/82 [==============================] - 0s 3ms/step - loss: 0.0429 - val_loss: 0.0387\n",
            "\n",
            "Epoch 00020: val_loss did not improve from 0.03771\n",
            "Epoch 21/200\n",
            "82/82 [==============================] - 0s 3ms/step - loss: 0.0395 - val_loss: 0.0473\n",
            "\n",
            "Epoch 00021: val_loss did not improve from 0.03771\n",
            "Epoch 22/200\n",
            "82/82 [==============================] - 0s 3ms/step - loss: 0.0361 - val_loss: 0.0388\n",
            "\n",
            "Epoch 00022: val_loss did not improve from 0.03771\n",
            "Epoch 23/200\n",
            "82/82 [==============================] - 0s 3ms/step - loss: 0.0329 - val_loss: 0.0405\n",
            "\n",
            "Epoch 00023: val_loss did not improve from 0.03771\n",
            "Epoch 24/200\n",
            "82/82 [==============================] - 0s 3ms/step - loss: 0.0336 - val_loss: 0.0490\n",
            "\n",
            "Epoch 00024: val_loss did not improve from 0.03771\n",
            "Epoch 25/200\n",
            "82/82 [==============================] - 0s 3ms/step - loss: 0.0299 - val_loss: 0.0367\n",
            "\n",
            "Epoch 00025: val_loss improved from 0.03771 to 0.03668, saving model to best-model-weights.h5\n",
            "Epoch 26/200\n",
            "82/82 [==============================] - 0s 3ms/step - loss: 0.0301 - val_loss: 0.0409\n",
            "\n",
            "Epoch 00026: val_loss did not improve from 0.03668\n",
            "Epoch 27/200\n",
            "82/82 [==============================] - 0s 3ms/step - loss: 0.0256 - val_loss: 0.0414\n",
            "\n",
            "Epoch 00027: val_loss did not improve from 0.03668\n",
            "Epoch 28/200\n",
            "82/82 [==============================] - 0s 3ms/step - loss: 0.0258 - val_loss: 0.0388\n",
            "\n",
            "Epoch 00028: val_loss did not improve from 0.03668\n",
            "Epoch 29/200\n",
            "82/82 [==============================] - 0s 3ms/step - loss: 0.0241 - val_loss: 0.0363\n",
            "\n",
            "Epoch 00029: val_loss improved from 0.03668 to 0.03633, saving model to best-model-weights.h5\n",
            "Epoch 30/200\n",
            "82/82 [==============================] - 0s 3ms/step - loss: 0.0214 - val_loss: 0.0353\n",
            "\n",
            "Epoch 00030: val_loss improved from 0.03633 to 0.03533, saving model to best-model-weights.h5\n",
            "Epoch 31/200\n",
            "82/82 [==============================] - 0s 3ms/step - loss: 0.0205 - val_loss: 0.0390\n",
            "\n",
            "Epoch 00031: val_loss did not improve from 0.03533\n",
            "Epoch 32/200\n",
            "82/82 [==============================] - 0s 3ms/step - loss: 0.0189 - val_loss: 0.0324\n",
            "\n",
            "Epoch 00032: val_loss improved from 0.03533 to 0.03240, saving model to best-model-weights.h5\n",
            "Epoch 33/200\n",
            "82/82 [==============================] - 0s 3ms/step - loss: 0.0179 - val_loss: 0.0308\n",
            "\n",
            "Epoch 00033: val_loss improved from 0.03240 to 0.03077, saving model to best-model-weights.h5\n",
            "Epoch 34/200\n",
            "82/82 [==============================] - 0s 3ms/step - loss: 0.0167 - val_loss: 0.0331\n",
            "\n",
            "Epoch 00034: val_loss did not improve from 0.03077\n",
            "Epoch 35/200\n",
            "82/82 [==============================] - 0s 3ms/step - loss: 0.0154 - val_loss: 0.0303\n",
            "\n",
            "Epoch 00035: val_loss improved from 0.03077 to 0.03025, saving model to best-model-weights.h5\n",
            "Epoch 36/200\n",
            "82/82 [==============================] - 0s 3ms/step - loss: 0.0141 - val_loss: 0.0316\n",
            "\n",
            "Epoch 00036: val_loss did not improve from 0.03025\n",
            "Epoch 37/200\n",
            "82/82 [==============================] - 0s 3ms/step - loss: 0.0146 - val_loss: 0.0364\n",
            "\n",
            "Epoch 00037: val_loss did not improve from 0.03025\n",
            "Epoch 38/200\n",
            "82/82 [==============================] - 0s 3ms/step - loss: 0.0131 - val_loss: 0.0303\n",
            "\n",
            "Epoch 00038: val_loss did not improve from 0.03025\n",
            "Epoch 39/200\n",
            "82/82 [==============================] - 0s 3ms/step - loss: 0.0121 - val_loss: 0.0308\n",
            "\n",
            "Epoch 00039: val_loss did not improve from 0.03025\n",
            "Epoch 40/200\n",
            "82/82 [==============================] - 0s 3ms/step - loss: 0.0111 - val_loss: 0.0316\n",
            "\n",
            "Epoch 00040: val_loss did not improve from 0.03025\n",
            "Epoch 41/200\n",
            "82/82 [==============================] - 0s 3ms/step - loss: 0.0114 - val_loss: 0.0297\n",
            "\n",
            "Epoch 00041: val_loss improved from 0.03025 to 0.02969, saving model to best-model-weights.h5\n",
            "Epoch 42/200\n",
            "82/82 [==============================] - 0s 3ms/step - loss: 0.0096 - val_loss: 0.0285\n",
            "\n",
            "Epoch 00042: val_loss improved from 0.02969 to 0.02851, saving model to best-model-weights.h5\n",
            "Epoch 43/200\n",
            "82/82 [==============================] - 0s 3ms/step - loss: 0.0090 - val_loss: 0.0355\n",
            "\n",
            "Epoch 00043: val_loss did not improve from 0.02851\n",
            "Epoch 44/200\n",
            "82/82 [==============================] - 0s 3ms/step - loss: 0.0079 - val_loss: 0.0277\n",
            "\n",
            "Epoch 00044: val_loss improved from 0.02851 to 0.02767, saving model to best-model-weights.h5\n",
            "Epoch 45/200\n",
            "82/82 [==============================] - 0s 3ms/step - loss: 0.0081 - val_loss: 0.0280\n",
            "\n",
            "Epoch 00045: val_loss did not improve from 0.02767\n",
            "Epoch 46/200\n",
            "82/82 [==============================] - 0s 3ms/step - loss: 0.0065 - val_loss: 0.0296\n",
            "\n",
            "Epoch 00046: val_loss did not improve from 0.02767\n",
            "Epoch 47/200\n",
            "82/82 [==============================] - 0s 3ms/step - loss: 0.0061 - val_loss: 0.0305\n",
            "\n",
            "Epoch 00047: val_loss did not improve from 0.02767\n",
            "Epoch 48/200\n",
            "82/82 [==============================] - 0s 3ms/step - loss: 0.0064 - val_loss: 0.0355\n",
            "\n",
            "Epoch 00048: val_loss did not improve from 0.02767\n",
            "Epoch 49/200\n",
            "82/82 [==============================] - 0s 3ms/step - loss: 0.0061 - val_loss: 0.0346\n",
            "\n",
            "Epoch 00049: val_loss did not improve from 0.02767\n",
            "Epoch 50/200\n",
            "82/82 [==============================] - 0s 3ms/step - loss: 0.0060 - val_loss: 0.0322\n",
            "\n",
            "Epoch 00050: val_loss did not improve from 0.02767\n",
            "Epoch 51/200\n",
            "82/82 [==============================] - 0s 3ms/step - loss: 0.0060 - val_loss: 0.0309\n",
            "\n",
            "Epoch 00051: val_loss did not improve from 0.02767\n",
            "Epoch 52/200\n",
            "82/82 [==============================] - 0s 3ms/step - loss: 0.0052 - val_loss: 0.0324\n",
            "\n",
            "Epoch 00052: val_loss did not improve from 0.02767\n",
            "Epoch 53/200\n",
            "82/82 [==============================] - 0s 3ms/step - loss: 0.0056 - val_loss: 0.0372\n",
            "\n",
            "Epoch 00053: val_loss did not improve from 0.02767\n",
            "Epoch 54/200\n",
            "82/82 [==============================] - 0s 3ms/step - loss: 0.0049 - val_loss: 0.0366\n",
            "\n",
            "Epoch 00054: val_loss did not improve from 0.02767\n"
          ],
          "name": "stdout"
        },
        {
          "output_type": "execute_result",
          "data": {
            "text/plain": [
              "<keras.callbacks.History at 0x7ff1554f3190>"
            ]
          },
          "metadata": {},
          "execution_count": 118
        }
      ]
    },
    {
      "cell_type": "code",
      "metadata": {
        "id": "tFoYofy1i5iV"
      },
      "source": [
        "model.load_weights('best-model-weights.h5')"
      ],
      "execution_count": 119,
      "outputs": []
    },
    {
      "cell_type": "code",
      "metadata": {
        "colab": {
          "base_uri": "https://localhost:8080/"
        },
        "id": "yT1LZ413i8il",
        "outputId": "0f8c4cfb-20ab-4aaf-9b6d-10e784b62d1e"
      },
      "source": [
        "model.summary()"
      ],
      "execution_count": 120,
      "outputs": [
        {
          "output_type": "stream",
          "text": [
            "Model: \"sequential_5\"\n",
            "_________________________________________________________________\n",
            "Layer (type)                 Output Shape              Param #   \n",
            "=================================================================\n",
            "lstm_5 (LSTM)                (None, 38)                6232      \n",
            "_________________________________________________________________\n",
            "dropout_5 (Dropout)          (None, 38)                0         \n",
            "_________________________________________________________________\n",
            "dense_5 (Dense)              (None, 1)                 39        \n",
            "=================================================================\n",
            "Total params: 6,271\n",
            "Trainable params: 6,271\n",
            "Non-trainable params: 0\n",
            "_________________________________________________________________\n"
          ],
          "name": "stdout"
        }
      ]
    },
    {
      "cell_type": "markdown",
      "metadata": {
        "id": "A2IQbXW9jdXm"
      },
      "source": [
        "# Inference"
      ]
    },
    {
      "cell_type": "code",
      "metadata": {
        "colab": {
          "base_uri": "https://localhost:8080/",
          "height": 204
        },
        "id": "V5zixI896Os2",
        "outputId": "fbd6c4fc-ea4c-45c6-f3d4-fa49d1c89017"
      },
      "source": [
        "df_ag = pd.read_csv(PATH + 'gme_august.csv')\n",
        "df_ag.head()"
      ],
      "execution_count": 121,
      "outputs": [
        {
          "output_type": "execute_result",
          "data": {
            "text/html": [
              "<div>\n",
              "<style scoped>\n",
              "    .dataframe tbody tr th:only-of-type {\n",
              "        vertical-align: middle;\n",
              "    }\n",
              "\n",
              "    .dataframe tbody tr th {\n",
              "        vertical-align: top;\n",
              "    }\n",
              "\n",
              "    .dataframe thead th {\n",
              "        text-align: right;\n",
              "    }\n",
              "</style>\n",
              "<table border=\"1\" class=\"dataframe\">\n",
              "  <thead>\n",
              "    <tr style=\"text-align: right;\">\n",
              "      <th></th>\n",
              "      <th>date</th>\n",
              "      <th>open_price</th>\n",
              "      <th>volume</th>\n",
              "    </tr>\n",
              "  </thead>\n",
              "  <tbody>\n",
              "    <tr>\n",
              "      <th>0</th>\n",
              "      <td>2021-08-02</td>\n",
              "      <td>5.093750</td>\n",
              "      <td>0.117547</td>\n",
              "    </tr>\n",
              "    <tr>\n",
              "      <th>1</th>\n",
              "      <td>2021-08-03</td>\n",
              "      <td>5.060948</td>\n",
              "      <td>1.000000</td>\n",
              "    </tr>\n",
              "    <tr>\n",
              "      <th>2</th>\n",
              "      <td>2021-08-04</td>\n",
              "      <td>5.035198</td>\n",
              "      <td>0.107225</td>\n",
              "    </tr>\n",
              "    <tr>\n",
              "      <th>3</th>\n",
              "      <td>2021-08-05</td>\n",
              "      <td>5.003946</td>\n",
              "      <td>0.108603</td>\n",
              "    </tr>\n",
              "    <tr>\n",
              "      <th>4</th>\n",
              "      <td>2021-08-06</td>\n",
              "      <td>5.047224</td>\n",
              "      <td>0.029818</td>\n",
              "    </tr>\n",
              "  </tbody>\n",
              "</table>\n",
              "</div>"
            ],
            "text/plain": [
              "         date  open_price    volume\n",
              "0  2021-08-02    5.093750  0.117547\n",
              "1  2021-08-03    5.060948  1.000000\n",
              "2  2021-08-04    5.035198  0.107225\n",
              "3  2021-08-05    5.003946  0.108603\n",
              "4  2021-08-06    5.047224  0.029818"
            ]
          },
          "metadata": {},
          "execution_count": 121
        }
      ]
    },
    {
      "cell_type": "code",
      "metadata": {
        "id": "ZCnGJUwxk3cg",
        "colab": {
          "base_uri": "https://localhost:8080/"
        },
        "outputId": "21dc6d2a-cea0-4af3-cee6-ac3699746669"
      },
      "source": [
        "X_ag= df_ag.drop('date', axis=1).values\n",
        "y_ag = df_ag['open_price'].values\n",
        "\n",
        "\n",
        "X_ag_test, y_ag_test = [], []\n",
        "for i in range(time_step,len(X_ag)): # train\n",
        "    X_ag_test.append(X_ag[i-time_step:i,:])\n",
        "    y_ag_test.append(y_ag[i])\n",
        "\n",
        "\n",
        "X_ag_test, y_ag_test = np.array(X_ag_test), np.array(y_ag_test)\n",
        "X_ag_test = np.reshape(X_ag_test, (-1,X_ag_test.shape[1],2))\n",
        "\n",
        "print(X_ag_test.shape, y_ag_test.shape)"
      ],
      "execution_count": 122,
      "outputs": [
        {
          "output_type": "stream",
          "text": [
            "(14, 1, 2) (14,)\n"
          ],
          "name": "stdout"
        }
      ]
    },
    {
      "cell_type": "code",
      "metadata": {
        "colab": {
          "base_uri": "https://localhost:8080/"
        },
        "id": "iG0XCuMJh_gs",
        "outputId": "c42845a3-22b9-4d43-ac6e-8d04a7ed809b"
      },
      "source": [
        "pred = model.predict(X_ag_test)\n",
        "pred"
      ],
      "execution_count": 123,
      "outputs": [
        {
          "output_type": "execute_result",
          "data": {
            "text/plain": [
              "array([[5.13551  ],\n",
              "       [5.4689   ],\n",
              "       [5.078705 ],\n",
              "       [5.0518003],\n",
              "       [5.047939 ],\n",
              "       [5.0677543],\n",
              "       [5.095662 ],\n",
              "       [5.0525494],\n",
              "       [5.075429 ],\n",
              "       [5.0661154],\n",
              "       [5.091704 ],\n",
              "       [5.078207 ],\n",
              "       [5.0969715],\n",
              "       [5.0538006]], dtype=float32)"
            ]
          },
          "metadata": {},
          "execution_count": 123
        }
      ]
    },
    {
      "cell_type": "code",
      "metadata": {
        "colab": {
          "base_uri": "https://localhost:8080/"
        },
        "id": "V36nFYAWmJCJ",
        "outputId": "4cebca2b-1179-44e1-a2cc-fbefa142b988"
      },
      "source": [
        "len(X_ag)"
      ],
      "execution_count": 124,
      "outputs": [
        {
          "output_type": "execute_result",
          "data": {
            "text/plain": [
              "15"
            ]
          },
          "metadata": {},
          "execution_count": 124
        }
      ]
    },
    {
      "cell_type": "code",
      "metadata": {
        "colab": {
          "base_uri": "https://localhost:8080/"
        },
        "id": "asW4hT4EjI_t",
        "outputId": "ec25092c-4324-4be4-8607-31211f8fa175"
      },
      "source": [
        "from sklearn.metrics import mean_squared_error\n",
        "print(mean_squared_error(y_ag_test, pred))"
      ],
      "execution_count": 125,
      "outputs": [
        {
          "output_type": "stream",
          "text": [
            "0.014570218929707602\n"
          ],
          "name": "stdout"
        }
      ]
    },
    {
      "cell_type": "code",
      "metadata": {
        "id": "Hb9ha9krjXtM"
      },
      "source": [
        "open_price = pd.concat([df['open_price'], df_ag['open_price']], axis=0)\n",
        "open_price = np.expm1(open_price).reset_index(drop=True)"
      ],
      "execution_count": 126,
      "outputs": []
    },
    {
      "cell_type": "code",
      "metadata": {
        "id": "1PKgFw4Rjofj"
      },
      "source": [
        "pred_price = np.expm1(pred)"
      ],
      "execution_count": 127,
      "outputs": []
    },
    {
      "cell_type": "code",
      "metadata": {
        "colab": {
          "base_uri": "https://localhost:8080/"
        },
        "id": "h6gDYFTXkONf",
        "outputId": "91635478-b8c4-4e58-b698-d4e145eead8a"
      },
      "source": [
        "open_price[-15:]"
      ],
      "execution_count": 128,
      "outputs": [
        {
          "output_type": "execute_result",
          "data": {
            "text/plain": [
              "2914    162.000000\n",
              "2915    156.740005\n",
              "2916    152.729996\n",
              "2917    148.000000\n",
              "2918    154.589996\n",
              "2919    151.800003\n",
              "2920    161.360001\n",
              "2921    158.429993\n",
              "2922    159.880005\n",
              "2923    160.470001\n",
              "2924    161.000000\n",
              "2925    161.190002\n",
              "2926    163.250000\n",
              "2927    156.770004\n",
              "2928    153.800003\n",
              "Name: open_price, dtype: float64"
            ]
          },
          "metadata": {},
          "execution_count": 128
        }
      ]
    },
    {
      "cell_type": "code",
      "metadata": {
        "colab": {
          "base_uri": "https://localhost:8080/"
        },
        "id": "dMT_adUOojI_",
        "outputId": "a44d39ea-7a72-4c55-81f8-5b67e3bd5bb0"
      },
      "source": [
        "pred_price[-15:]"
      ],
      "execution_count": 129,
      "outputs": [
        {
          "output_type": "execute_result",
          "data": {
            "text/plain": [
              "array([[168.95096],\n",
              "       [236.19917],\n",
              "       [159.56596],\n",
              "       [155.30359],\n",
              "       [154.7012 ],\n",
              "       [157.81726],\n",
              "       [162.31194],\n",
              "       [155.42073],\n",
              "       [159.04083],\n",
              "       [157.55719],\n",
              "       [161.6668 ],\n",
              "       [159.48605],\n",
              "       [162.52592],\n",
              "       [155.61658]], dtype=float32)"
            ]
          },
          "metadata": {},
          "execution_count": 129
        }
      ]
    },
    {
      "cell_type": "code",
      "metadata": {
        "colab": {
          "base_uri": "https://localhost:8080/",
          "height": 426
        },
        "id": "_3Et9cFujz68",
        "outputId": "e32c2473-f74f-4ea6-e35d-6f5fffa91601"
      },
      "source": [
        "import matplotlib.pyplot as plt\n",
        "plt.style.use('ggplot')\n",
        "df_ag['date'] = pd.to_datetime(df_ag['date'])\n",
        "plt.figure(figsize=(12, 6))\n",
        "plt.plot(df_ag['date'], np.expm1(df_ag['open_price']), label='Real')\n",
        "plt.plot(df_ag['date'][1:], pred_price, label='Predict')\n",
        "plt.xlabel('date')\n",
        "plt.ylabel('price')\n",
        "plt.title('Open price')\n",
        "plt.legend()"
      ],
      "execution_count": 130,
      "outputs": [
        {
          "output_type": "execute_result",
          "data": {
            "text/plain": [
              "<matplotlib.legend.Legend at 0x7ff186b07250>"
            ]
          },
          "metadata": {},
          "execution_count": 130
        },
        {
          "output_type": "display_data",
          "data": {
            "image/png": "[encoded data removed]",
            "text/plain": [
              "<Figure size 864x432 with 1 Axes>"
            ]
          },
          "metadata": {}
        }
      ]
    }
  ]
}