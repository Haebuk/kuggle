{
  "nbformat": 4,
  "nbformat_minor": 0,
  "metadata": {
    "colab": {
      "name": "gamestop_before_sweep_week3.ipynb",
      "provenance": [],
      "mount_file_id": "1wsZgBDHco7GsVBA5k73ymLBu8rcLW-1k",
      "authorship_tag": "ABX9TyP1975BuHYw9QJkQMCqT5Gc",
      "include_colab_link": true
    },
    "kernelspec": {
      "name": "python3",
      "display_name": "Python 3"
    },
    "language_info": {
      "name": "python"
    },
    "accelerator": "GPU",
    "widgets": {
      "application/vnd.jupyter.widget-state+json": {
        "62e0376aef644d19889bb8a2e5eeb632": {
          "model_module": "@jupyter-widgets/controls",
          "model_name": "VBoxModel",
          "model_module_version": "1.5.0",
          "state": {
            "_view_name": "VBoxView",
            "_dom_classes": [],
            "_model_name": "VBoxModel",
            "_view_module": "@jupyter-widgets/controls",
            "_model_module_version": "1.5.0",
            "_view_count": null,
            "_view_module_version": "1.5.0",
            "box_style": "",
            "layout": "IPY_MODEL_d3aa853d1ae7473d9e6114157ff6c938",
            "_model_module": "@jupyter-widgets/controls",
            "children": [
              "IPY_MODEL_408171f191b64dfab76b4e3d32645f8d",
              "IPY_MODEL_0ffa6dcc1b444b739e0b06ac31c28fc4"
            ]
          }
        },
        "d3aa853d1ae7473d9e6114157ff6c938": {
          "model_module": "@jupyter-widgets/base",
          "model_name": "LayoutModel",
          "model_module_version": "1.2.0",
          "state": {
            "_view_name": "LayoutView",
            "grid_template_rows": null,
            "right": null,
            "justify_content": null,
            "_view_module": "@jupyter-widgets/base",
            "overflow": null,
            "_model_module_version": "1.2.0",
            "_view_count": null,
            "flex_flow": null,
            "width": null,
            "min_width": null,
            "border": null,
            "align_items": null,
            "bottom": null,
            "_model_module": "@jupyter-widgets/base",
            "top": null,
            "grid_column": null,
            "overflow_y": null,
            "overflow_x": null,
            "grid_auto_flow": null,
            "grid_area": null,
            "grid_template_columns": null,
            "flex": null,
            "_model_name": "LayoutModel",
            "justify_items": null,
            "grid_row": null,
            "max_height": null,
            "align_content": null,
            "visibility": null,
            "align_self": null,
            "height": null,
            "min_height": null,
            "padding": null,
            "grid_auto_rows": null,
            "grid_gap": null,
            "max_width": null,
            "order": null,
            "_view_module_version": "1.2.0",
            "grid_template_areas": null,
            "object_position": null,
            "object_fit": null,
            "grid_auto_columns": null,
            "margin": null,
            "display": null,
            "left": null
          }
        },
        "408171f191b64dfab76b4e3d32645f8d": {
          "model_module": "@jupyter-widgets/controls",
          "model_name": "LabelModel",
          "model_module_version": "1.5.0",
          "state": {
            "_view_name": "LabelView",
            "style": "IPY_MODEL_439dd76f8fe7486eb2747f11b6775625",
            "_dom_classes": [],
            "description": "",
            "_model_name": "LabelModel",
            "placeholder": "​",
            "_view_module": "@jupyter-widgets/controls",
            "_model_module_version": "1.5.0",
            "value": " 0.15MB of 0.15MB uploaded (0.00MB deduped)\r",
            "_view_count": null,
            "_view_module_version": "1.5.0",
            "description_tooltip": null,
            "_model_module": "@jupyter-widgets/controls",
            "layout": "IPY_MODEL_668a52d13b7f449faf2ff78ae7283cd7"
          }
        },
        "0ffa6dcc1b444b739e0b06ac31c28fc4": {
          "model_module": "@jupyter-widgets/controls",
          "model_name": "FloatProgressModel",
          "model_module_version": "1.5.0",
          "state": {
            "_view_name": "ProgressView",
            "style": "IPY_MODEL_431d8757820a496d9bc40b6f019c4653",
            "_dom_classes": [],
            "description": "",
            "_model_name": "FloatProgressModel",
            "bar_style": "",
            "max": 1,
            "_view_module": "@jupyter-widgets/controls",
            "_model_module_version": "1.5.0",
            "value": 1,
            "_view_count": null,
            "_view_module_version": "1.5.0",
            "orientation": "horizontal",
            "min": 0,
            "description_tooltip": null,
            "_model_module": "@jupyter-widgets/controls",
            "layout": "IPY_MODEL_392a7bea2d4945fdbe8e05a2c17d6b1e"
          }
        },
        "439dd76f8fe7486eb2747f11b6775625": {
          "model_module": "@jupyter-widgets/controls",
          "model_name": "DescriptionStyleModel",
          "model_module_version": "1.5.0",
          "state": {
            "_view_name": "StyleView",
            "_model_name": "DescriptionStyleModel",
            "description_width": "",
            "_view_module": "@jupyter-widgets/base",
            "_model_module_version": "1.5.0",
            "_view_count": null,
            "_view_module_version": "1.2.0",
            "_model_module": "@jupyter-widgets/controls"
          }
        },
        "668a52d13b7f449faf2ff78ae7283cd7": {
          "model_module": "@jupyter-widgets/base",
          "model_name": "LayoutModel",
          "model_module_version": "1.2.0",
          "state": {
            "_view_name": "LayoutView",
            "grid_template_rows": null,
            "right": null,
            "justify_content": null,
            "_view_module": "@jupyter-widgets/base",
            "overflow": null,
            "_model_module_version": "1.2.0",
            "_view_count": null,
            "flex_flow": null,
            "width": null,
            "min_width": null,
            "border": null,
            "align_items": null,
            "bottom": null,
            "_model_module": "@jupyter-widgets/base",
            "top": null,
            "grid_column": null,
            "overflow_y": null,
            "overflow_x": null,
            "grid_auto_flow": null,
            "grid_area": null,
            "grid_template_columns": null,
            "flex": null,
            "_model_name": "LayoutModel",
            "justify_items": null,
            "grid_row": null,
            "max_height": null,
            "align_content": null,
            "visibility": null,
            "align_self": null,
            "height": null,
            "min_height": null,
            "padding": null,
            "grid_auto_rows": null,
            "grid_gap": null,
            "max_width": null,
            "order": null,
            "_view_module_version": "1.2.0",
            "grid_template_areas": null,
            "object_position": null,
            "object_fit": null,
            "grid_auto_columns": null,
            "margin": null,
            "display": null,
            "left": null
          }
        },
        "431d8757820a496d9bc40b6f019c4653": {
          "model_module": "@jupyter-widgets/controls",
          "model_name": "ProgressStyleModel",
          "model_module_version": "1.5.0",
          "state": {
            "_view_name": "StyleView",
            "_model_name": "ProgressStyleModel",
            "description_width": "",
            "_view_module": "@jupyter-widgets/base",
            "_model_module_version": "1.5.0",
            "_view_count": null,
            "_view_module_version": "1.2.0",
            "bar_color": null,
            "_model_module": "@jupyter-widgets/controls"
          }
        },
        "392a7bea2d4945fdbe8e05a2c17d6b1e": {
          "model_module": "@jupyter-widgets/base",
          "model_name": "LayoutModel",
          "model_module_version": "1.2.0",
          "state": {
            "_view_name": "LayoutView",
            "grid_template_rows": null,
            "right": null,
            "justify_content": null,
            "_view_module": "@jupyter-widgets/base",
            "overflow": null,
            "_model_module_version": "1.2.0",
            "_view_count": null,
            "flex_flow": null,
            "width": null,
            "min_width": null,
            "border": null,
            "align_items": null,
            "bottom": null,
            "_model_module": "@jupyter-widgets/base",
            "top": null,
            "grid_column": null,
            "overflow_y": null,
            "overflow_x": null,
            "grid_auto_flow": null,
            "grid_area": null,
            "grid_template_columns": null,
            "flex": null,
            "_model_name": "LayoutModel",
            "justify_items": null,
            "grid_row": null,
            "max_height": null,
            "align_content": null,
            "visibility": null,
            "align_self": null,
            "height": null,
            "min_height": null,
            "padding": null,
            "grid_auto_rows": null,
            "grid_gap": null,
            "max_width": null,
            "order": null,
            "_view_module_version": "1.2.0",
            "grid_template_areas": null,
            "object_position": null,
            "object_fit": null,
            "grid_auto_columns": null,
            "margin": null,
            "display": null,
            "left": null
          }
        }
      }
    }
  },
  "cells": [
    {
      "cell_type": "markdown",
      "metadata": {
        "id": "view-in-github",
        "colab_type": "text"
      },
      "source": [
        "<a href=\"https://colab.research.google.com/github/Haebuk/kuggle/blob/main/gamestop_before_sweep_week3.ipynb\" target=\"_parent\"><img src=\"https://colab.research.google.com/assets/colab-badge.svg\" alt=\"Open In Colab\"/></a>"
      ]
    },
    {
      "cell_type": "code",
      "metadata": {
        "id": "A2sgioyfrIRY",
        "colab": {
          "base_uri": "https://localhost:8080/"
        },
        "outputId": "4a215b9d-4694-477a-a554-a8f5b74d36bc"
      },
      "source": [
        "!pip install wandb -qqq\n",
        "import wandb \n",
        "from wandb.keras import WandbCallback\n",
        "import tensorflow as tf\n",
        "import pandas as pd\n",
        "import numpy as np\n",
        "import matplotlib.pyplot as plt\n",
        "import seaborn as sns\n",
        "from sklearn.model_selection import train_test_split\n",
        "from keras.models import Sequential\n",
        "from keras.layers import LSTM, Dense, Dropout\n",
        "from sklearn.model_selection import train_test_split\n"
      ],
      "execution_count": 1,
      "outputs": [
        {
          "output_type": "stream",
          "text": [
            "\u001b[K     |████████████████████████████████| 1.6 MB 7.9 MB/s \n",
            "\u001b[K     |████████████████████████████████| 133 kB 40.5 MB/s \n",
            "\u001b[K     |████████████████████████████████| 97 kB 8.2 MB/s \n",
            "\u001b[K     |████████████████████████████████| 170 kB 68.0 MB/s \n",
            "\u001b[K     |████████████████████████████████| 63 kB 2.5 MB/s \n",
            "\u001b[?25h  Building wheel for subprocess32 (setup.py) ... \u001b[?25l\u001b[?25hdone\n",
            "  Building wheel for pathtools (setup.py) ... \u001b[?25l\u001b[?25hdone\n"
          ],
          "name": "stdout"
        }
      ]
    },
    {
      "cell_type": "code",
      "metadata": {
        "colab": {
          "base_uri": "https://localhost:8080/",
          "height": 222
        },
        "id": "X_rz-ft0v0DZ",
        "outputId": "9aaa479a-90d4-4d35-838c-b4e1e7272df8"
      },
      "source": [
        "PATH = '/content/drive/MyDrive/input/'\n",
        "df = pd.read_csv(PATH + 'GME_scaled.csv')\n",
        "print(df.shape)\n",
        "df.head()"
      ],
      "execution_count": 2,
      "outputs": [
        {
          "output_type": "stream",
          "text": [
            "(2914, 3)\n"
          ],
          "name": "stdout"
        },
        {
          "output_type": "execute_result",
          "data": {
            "text/html": [
              "<div>\n",
              "<style scoped>\n",
              "    .dataframe tbody tr th:only-of-type {\n",
              "        vertical-align: middle;\n",
              "    }\n",
              "\n",
              "    .dataframe tbody tr th {\n",
              "        vertical-align: top;\n",
              "    }\n",
              "\n",
              "    .dataframe thead th {\n",
              "        text-align: right;\n",
              "    }\n",
              "</style>\n",
              "<table border=\"1\" class=\"dataframe\">\n",
              "  <thead>\n",
              "    <tr style=\"text-align: right;\">\n",
              "      <th></th>\n",
              "      <th>date</th>\n",
              "      <th>open_price</th>\n",
              "      <th>volume</th>\n",
              "    </tr>\n",
              "  </thead>\n",
              "  <tbody>\n",
              "    <tr>\n",
              "      <th>0</th>\n",
              "      <td>2010-01-04</td>\n",
              "      <td>3.138533</td>\n",
              "      <td>0.031204</td>\n",
              "    </tr>\n",
              "    <tr>\n",
              "      <th>1</th>\n",
              "      <td>2010-01-05</td>\n",
              "      <td>3.174297</td>\n",
              "      <td>0.024296</td>\n",
              "    </tr>\n",
              "    <tr>\n",
              "      <th>2</th>\n",
              "      <td>2010-01-06</td>\n",
              "      <td>3.197039</td>\n",
              "      <td>0.024552</td>\n",
              "    </tr>\n",
              "    <tr>\n",
              "      <th>3</th>\n",
              "      <td>2010-01-07</td>\n",
              "      <td>3.044999</td>\n",
              "      <td>0.206746</td>\n",
              "    </tr>\n",
              "    <tr>\n",
              "      <th>4</th>\n",
              "      <td>2010-01-08</td>\n",
              "      <td>3.074543</td>\n",
              "      <td>0.058121</td>\n",
              "    </tr>\n",
              "  </tbody>\n",
              "</table>\n",
              "</div>"
            ],
            "text/plain": [
              "         date  open_price    volume\n",
              "0  2010-01-04    3.138533  0.031204\n",
              "1  2010-01-05    3.174297  0.024296\n",
              "2  2010-01-06    3.197039  0.024552\n",
              "3  2010-01-07    3.044999  0.206746\n",
              "4  2010-01-08    3.074543  0.058121"
            ]
          },
          "metadata": {},
          "execution_count": 2
        }
      ]
    },
    {
      "cell_type": "code",
      "metadata": {
        "colab": {
          "base_uri": "https://localhost:8080/",
          "height": 309,
          "referenced_widgets": [
            "62e0376aef644d19889bb8a2e5eeb632",
            "d3aa853d1ae7473d9e6114157ff6c938",
            "408171f191b64dfab76b4e3d32645f8d",
            "0ffa6dcc1b444b739e0b06ac31c28fc4",
            "439dd76f8fe7486eb2747f11b6775625",
            "668a52d13b7f449faf2ff78ae7283cd7",
            "431d8757820a496d9bc40b6f019c4653",
            "392a7bea2d4945fdbe8e05a2c17d6b1e"
          ]
        },
        "id": "7E0KIJZrybHK",
        "outputId": "013dc47f-df7d-4fa0-e748-0678b218bada"
      },
      "source": [
        "default_config = {\n",
        "    'learning_rate': 0.01,\n",
        "    'dropout_rate': 0.2,\n",
        "    'hidden1': 50,\n",
        "    'hidden2': 50,\n",
        "    'hidden3': 50,\n",
        "    'time_step': 60,\n",
        "}\n",
        "wandb.init(project='gamestop_prediction', config=default_config)\n",
        "config = wandb.config"
      ],
      "execution_count": 10,
      "outputs": [
        {
          "output_type": "display_data",
          "data": {
            "text/html": [
              "Finishing last run (ID:hazlhsbe) before initializing another..."
            ],
            "text/plain": [
              "<IPython.core.display.HTML object>"
            ]
          },
          "metadata": {}
        },
        {
          "output_type": "display_data",
          "data": {
            "text/html": [
              "<br/>Waiting for W&B process to finish, PID 291<br/>Program ended successfully."
            ],
            "text/plain": [
              "<IPython.core.display.HTML object>"
            ]
          },
          "metadata": {}
        },
        {
          "output_type": "display_data",
          "data": {
            "application/vnd.jupyter.widget-view+json": {
              "model_id": "62e0376aef644d19889bb8a2e5eeb632",
              "version_minor": 0,
              "version_major": 2
            },
            "text/plain": [
              "VBox(children=(Label(value=' 0.13MB of 0.13MB uploaded (0.00MB deduped)\\r'), FloatProgress(value=1.0, max=1.0)…"
            ]
          },
          "metadata": {}
        },
        {
          "output_type": "display_data",
          "data": {
            "text/html": [
              "Find user logs for this run at: <code>/content/wandb/run-20210820_123508-hazlhsbe/logs/debug.log</code>"
            ],
            "text/plain": [
              "<IPython.core.display.HTML object>"
            ]
          },
          "metadata": {}
        },
        {
          "output_type": "display_data",
          "data": {
            "text/html": [
              "Find internal logs for this run at: <code>/content/wandb/run-20210820_123508-hazlhsbe/logs/debug-internal.log</code>"
            ],
            "text/plain": [
              "<IPython.core.display.HTML object>"
            ]
          },
          "metadata": {}
        },
        {
          "output_type": "display_data",
          "data": {
            "text/html": [
              "Synced 5 W&B file(s), 0 media file(s), 8 artifact file(s) and 1 other file(s)"
            ],
            "text/plain": [
              "<IPython.core.display.HTML object>"
            ]
          },
          "metadata": {}
        },
        {
          "output_type": "display_data",
          "data": {
            "text/html": [
              "\n",
              "                    <br/>Synced <strong style=\"color:#cdcd00\">colorful-sponge-1063</strong>: <a href=\"https://wandb.ai/kade/gamestop_prediction/runs/hazlhsbe\" target=\"_blank\">https://wandb.ai/kade/gamestop_prediction/runs/hazlhsbe</a><br/>\n",
              "                "
            ],
            "text/plain": [
              "<IPython.core.display.HTML object>"
            ]
          },
          "metadata": {}
        },
        {
          "output_type": "display_data",
          "data": {
            "text/html": [
              "...Successfully finished last run (ID:hazlhsbe). Initializing new run:<br/><br/>"
            ],
            "text/plain": [
              "<IPython.core.display.HTML object>"
            ]
          },
          "metadata": {}
        },
        {
          "output_type": "display_data",
          "data": {
            "text/html": [
              "\n",
              "                Tracking run with wandb version 0.12.0<br/>\n",
              "                Syncing run <strong style=\"color:#cdcd00\">daily-wood-1064</strong> to <a href=\"https://wandb.ai\" target=\"_blank\">Weights & Biases</a> <a href=\"https://docs.wandb.com/integrations/jupyter.html\" target=\"_blank\">(Documentation)</a>.<br/>\n",
              "                Project page: <a href=\"https://wandb.ai/kade/gamestop_prediction\" target=\"_blank\">https://wandb.ai/kade/gamestop_prediction</a><br/>\n",
              "                Run page: <a href=\"https://wandb.ai/kade/gamestop_prediction/runs/2ynjurt5\" target=\"_blank\">https://wandb.ai/kade/gamestop_prediction/runs/2ynjurt5</a><br/>\n",
              "                Run data is saved locally in <code>/content/wandb/run-20210820_124226-2ynjurt5</code><br/><br/>\n",
              "            "
            ],
            "text/plain": [
              "<IPython.core.display.HTML object>"
            ]
          },
          "metadata": {}
        }
      ]
    },
    {
      "cell_type": "code",
      "metadata": {
        "colab": {
          "base_uri": "https://localhost:8080/"
        },
        "id": "5kxT8l4BDW8d",
        "outputId": "0169897a-286b-40dc-f26c-8b4c692ab163"
      },
      "source": [
        "X = df.drop('date', axis=1).values\n",
        "y = df['open_price'].values\n",
        "X_tr, X_te, y_tr, y_te = train_test_split(X, y, test_size=0.1, shuffle=False)\n",
        "print(X_tr.shape, y_tr.shape)\n",
        "print(X_te.shape, y_te.shape)"
      ],
      "execution_count": 7,
      "outputs": [
        {
          "output_type": "stream",
          "text": [
            "(2622, 2) (2622,)\n",
            "(292, 2) (292,)\n"
          ],
          "name": "stdout"
        }
      ]
    },
    {
      "cell_type": "code",
      "metadata": {
        "id": "JkBFlWtJB0q-",
        "colab": {
          "base_uri": "https://localhost:8080/"
        },
        "outputId": "3009a251-f522-4653-e201-efa0b7d90ef5"
      },
      "source": [
        "time_step = config.time_step # 60\n",
        "X_train, y_train, X_test, y_test = [], [], [], []\n",
        "for i in range(time_step,len(X_tr)): # train i=60 -> i = 61\n",
        "    X_train.append(X_tr[i-time_step:i,:])\n",
        "    y_train.append(y_tr[i])\n",
        "for i in range(time_step, len(X_te)): # test\n",
        "    X_test.append(X_te[i-time_step:i,:])\n",
        "    y_test.append(y_te[i])\n",
        "\n",
        "X_train, y_train = np.array(X_train), np.array(y_train)\n",
        "X_test, y_test = np.array(X_test), np.array(y_test)\n",
        "# LSTM input shape 조건(batch_size, timestep, feature_num)에 맞게 reshape\n",
        "\n",
        "print(X_train.shape, y_train.shape)\n",
        "print(X_test.shape, y_test.shape)\n",
        "\n",
        "X_train = np.reshape(X_train, (-1,time_step,2))\n",
        "X_test = np.reshape(X_test, (-1,X_test.shape[1],2))\n",
        "\n"
      ],
      "execution_count": 8,
      "outputs": [
        {
          "output_type": "stream",
          "text": [
            "(2562, 60, 2) (2562,)\n",
            "(232, 60, 2) (232,)\n",
            "(2562, 60, 2) (2562,)\n",
            "(232, 60, 2) (232,)\n"
          ],
          "name": "stdout"
        }
      ]
    },
    {
      "cell_type": "code",
      "metadata": {
        "colab": {
          "base_uri": "https://localhost:8080/"
        },
        "id": "ZSw8LnxMBFKf",
        "outputId": "adc8d47f-b911-4630-a24d-d50d48f64eaa"
      },
      "source": [
        "model = tf.keras.Sequential([\n",
        "    LSTM(config.hidden1, return_sequences=True, input_shape=(config.time_step, 2)),\n",
        "    \n",
        "    LSTM(config.hidden2, return_sequences=True),\n",
        "\n",
        "    LSTM(config.hidden3),\n",
        "    Dropout(config.dropout_rate),\n",
        "    Dense(1),\n",
        "])\n",
        "opt = tf.keras.optimizers.Adam(learning_rate=config.learning_rate)\n",
        "early_stopping = tf.keras.callbacks.EarlyStopping(monitor='val_loss', patience=10)\n",
        "model.compile(optimizer=opt,\n",
        "              loss='mse',\n",
        "              metrics=['mse'])\n",
        "model.fit(X_train, y_train,\n",
        "          validation_data=(X_test, y_test),\n",
        "          epochs=200, callbacks=[WandbCallback(), early_stopping])"
      ],
      "execution_count": null,
      "outputs": [
        {
          "output_type": "stream",
          "text": [
            "Epoch 1/200\n",
            "81/81 [==============================] - 7s 27ms/step - loss: 0.9850 - mse: 0.9850 - val_loss: 1.9742 - val_mse: 1.9742\n"
          ],
          "name": "stdout"
        },
        {
          "output_type": "stream",
          "text": [
            "\u001b[34m\u001b[1mwandb\u001b[0m: \u001b[32m\u001b[41mERROR\u001b[0m Can't save model, h5py returned error: Layer ModuleWrapper has arguments in `__init__` and therefore must override `get_config`.\n"
          ],
          "name": "stderr"
        },
        {
          "output_type": "stream",
          "text": [
            "Epoch 2/200\n",
            "81/81 [==============================] - 1s 13ms/step - loss: 0.1252 - mse: 0.1252 - val_loss: 1.0504 - val_mse: 1.0504\n",
            "Epoch 3/200\n",
            "81/81 [==============================] - 1s 13ms/step - loss: 0.0892 - mse: 0.0892 - val_loss: 1.0921 - val_mse: 1.0921\n",
            "Epoch 4/200\n",
            "81/81 [==============================] - 1s 13ms/step - loss: 0.0818 - mse: 0.0818 - val_loss: 0.9509 - val_mse: 0.9509\n",
            "Epoch 5/200\n",
            "81/81 [==============================] - 1s 13ms/step - loss: 0.0703 - mse: 0.0703 - val_loss: 0.6837 - val_mse: 0.6837\n",
            "Epoch 6/200\n",
            "81/81 [==============================] - 1s 13ms/step - loss: 0.0743 - mse: 0.0743 - val_loss: 0.8101 - val_mse: 0.8101\n",
            "Epoch 7/200\n",
            "81/81 [==============================] - 1s 13ms/step - loss: 0.0684 - mse: 0.0684 - val_loss: 0.7787 - val_mse: 0.7787\n",
            "Epoch 8/200\n",
            "81/81 [==============================] - 1s 14ms/step - loss: 0.0637 - mse: 0.0637 - val_loss: 0.6744 - val_mse: 0.6744\n",
            "Epoch 9/200\n",
            "81/81 [==============================] - 1s 13ms/step - loss: 0.0628 - mse: 0.0628 - val_loss: 0.8102 - val_mse: 0.8102\n",
            "Epoch 10/200\n",
            "81/81 [==============================] - 1s 13ms/step - loss: 0.0690 - mse: 0.0690 - val_loss: 0.6868 - val_mse: 0.6868\n",
            "Epoch 11/200\n",
            "81/81 [==============================] - 1s 13ms/step - loss: 0.0603 - mse: 0.0603 - val_loss: 0.7322 - val_mse: 0.7322\n",
            "Epoch 12/200\n",
            "81/81 [==============================] - 1s 13ms/step - loss: 0.0661 - mse: 0.0661 - val_loss: 0.7244 - val_mse: 0.7244\n",
            "Epoch 13/200\n",
            "81/81 [==============================] - 1s 13ms/step - loss: 0.0613 - mse: 0.0613 - val_loss: 0.6063 - val_mse: 0.6063\n",
            "Epoch 14/200\n",
            "81/81 [==============================] - 1s 13ms/step - loss: 0.0642 - mse: 0.0642 - val_loss: 0.7083 - val_mse: 0.7083\n",
            "Epoch 15/200\n",
            "81/81 [==============================] - 1s 13ms/step - loss: 0.0569 - mse: 0.0569 - val_loss: 0.6442 - val_mse: 0.6442\n",
            "Epoch 16/200\n",
            "81/81 [==============================] - 1s 14ms/step - loss: 0.0611 - mse: 0.0611 - val_loss: 0.6660 - val_mse: 0.6660\n",
            "Epoch 17/200\n",
            "81/81 [==============================] - 1s 13ms/step - loss: 0.0571 - mse: 0.0571 - val_loss: 0.7248 - val_mse: 0.7248\n",
            "Epoch 18/200\n",
            "81/81 [==============================] - 1s 13ms/step - loss: 0.0638 - mse: 0.0638 - val_loss: 0.5720 - val_mse: 0.5720\n",
            "Epoch 19/200\n",
            "81/81 [==============================] - 1s 14ms/step - loss: 0.0562 - mse: 0.0562 - val_loss: 0.6009 - val_mse: 0.6009\n",
            "Epoch 20/200\n",
            "81/81 [==============================] - 1s 13ms/step - loss: 0.0562 - mse: 0.0562 - val_loss: 0.5687 - val_mse: 0.5687\n",
            "Epoch 21/200\n",
            "81/81 [==============================] - 1s 13ms/step - loss: 0.0575 - mse: 0.0575 - val_loss: 0.5548 - val_mse: 0.5548\n",
            "Epoch 22/200\n",
            "81/81 [==============================] - 1s 14ms/step - loss: 0.0570 - mse: 0.0570 - val_loss: 0.5975 - val_mse: 0.5975\n",
            "Epoch 23/200\n",
            "81/81 [==============================] - 1s 14ms/step - loss: 0.0533 - mse: 0.0533 - val_loss: 0.6038 - val_mse: 0.6038\n",
            "Epoch 24/200\n",
            "81/81 [==============================] - 1s 14ms/step - loss: 0.0524 - mse: 0.0524 - val_loss: 0.5557 - val_mse: 0.5557\n",
            "Epoch 25/200\n",
            "81/81 [==============================] - 1s 14ms/step - loss: 0.0525 - mse: 0.0525 - val_loss: 0.6567 - val_mse: 0.6567\n",
            "Epoch 26/200\n",
            "81/81 [==============================] - 1s 14ms/step - loss: 0.0541 - mse: 0.0541 - val_loss: 0.5641 - val_mse: 0.5641\n",
            "Epoch 27/200\n",
            "81/81 [==============================] - 1s 14ms/step - loss: 0.0504 - mse: 0.0504 - val_loss: 0.5465 - val_mse: 0.5465\n",
            "Epoch 28/200\n",
            "81/81 [==============================] - 1s 13ms/step - loss: 0.0519 - mse: 0.0519 - val_loss: 0.5487 - val_mse: 0.5487\n",
            "Epoch 29/200\n",
            "81/81 [==============================] - 1s 13ms/step - loss: 0.0491 - mse: 0.0491 - val_loss: 0.5832 - val_mse: 0.5832\n",
            "Epoch 30/200\n",
            "81/81 [==============================] - 1s 14ms/step - loss: 0.0506 - mse: 0.0506 - val_loss: 0.5206 - val_mse: 0.5206\n",
            "Epoch 31/200\n",
            "81/81 [==============================] - 1s 14ms/step - loss: 0.0491 - mse: 0.0491 - val_loss: 0.4385 - val_mse: 0.4385\n",
            "Epoch 32/200\n",
            "81/81 [==============================] - 1s 13ms/step - loss: 0.0486 - mse: 0.0486 - val_loss: 0.6249 - val_mse: 0.6249\n",
            "Epoch 33/200\n",
            "81/81 [==============================] - 1s 13ms/step - loss: 0.0521 - mse: 0.0521 - val_loss: 0.5038 - val_mse: 0.5038\n",
            "Epoch 34/200\n",
            "81/81 [==============================] - 1s 13ms/step - loss: 0.0479 - mse: 0.0479 - val_loss: 0.4380 - val_mse: 0.4380\n",
            "Epoch 35/200\n",
            "81/81 [==============================] - 1s 13ms/step - loss: 0.0500 - mse: 0.0500 - val_loss: 0.5151 - val_mse: 0.5151\n",
            "Epoch 36/200\n",
            "81/81 [==============================] - 1s 14ms/step - loss: 0.0498 - mse: 0.0498 - val_loss: 0.6363 - val_mse: 0.6363\n",
            "Epoch 37/200\n",
            "81/81 [==============================] - 1s 13ms/step - loss: 0.0540 - mse: 0.0540 - val_loss: 0.4480 - val_mse: 0.4480\n",
            "Epoch 38/200\n",
            "81/81 [==============================] - 1s 14ms/step - loss: 0.0455 - mse: 0.0455 - val_loss: 0.4686 - val_mse: 0.4686\n",
            "Epoch 39/200\n",
            "81/81 [==============================] - 1s 13ms/step - loss: 0.0462 - mse: 0.0462 - val_loss: 0.5143 - val_mse: 0.5143\n",
            "Epoch 40/200\n",
            "81/81 [==============================] - 1s 14ms/step - loss: 0.0477 - mse: 0.0477 - val_loss: 0.5862 - val_mse: 0.5862\n",
            "Epoch 41/200\n",
            "81/81 [==============================] - 1s 14ms/step - loss: 0.0468 - mse: 0.0468 - val_loss: 0.5191 - val_mse: 0.5191\n",
            "Epoch 42/200\n",
            "81/81 [==============================] - 1s 13ms/step - loss: 0.0469 - mse: 0.0469 - val_loss: 0.5313 - val_mse: 0.5313\n",
            "Epoch 43/200\n",
            "81/81 [==============================] - 1s 14ms/step - loss: 0.0451 - mse: 0.0451 - val_loss: 0.4430 - val_mse: 0.4430\n",
            "Epoch 44/200\n",
            "81/81 [==============================] - 1s 13ms/step - loss: 0.0478 - mse: 0.0478 - val_loss: 0.4752 - val_mse: 0.4752\n"
          ],
          "name": "stdout"
        },
        {
          "output_type": "execute_result",
          "data": {
            "text/plain": [
              "<tensorflow.python.keras.callbacks.History at 0x7fd283fa2550>"
            ]
          },
          "metadata": {},
          "execution_count": 62
        }
      ]
    }
  ]
}