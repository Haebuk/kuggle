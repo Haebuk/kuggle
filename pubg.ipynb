{
  "nbformat": 4,
  "nbformat_minor": 0,
  "metadata": {
    "colab": {
      "name": "pubg.ipynb",
      "provenance": [],
      "machine_shape": "hm",
      "include_colab_link": true
    },
    "kernelspec": {
      "display_name": "Python 3",
      "name": "python3"
    },
    "language_info": {
      "name": "python"
    }
  },
  "cells": [
    {
      "cell_type": "markdown",
      "metadata": {
        "id": "view-in-github",
        "colab_type": "text"
      },
      "source": [
        "<a href=\"https://colab.research.google.com/github/Haebuk/kuggle/blob/main/pubg.ipynb\" target=\"_parent\"><img src=\"https://colab.research.google.com/assets/colab-badge.svg\" alt=\"Open In Colab\"/></a>"
      ]
    },
    {
      "cell_type": "markdown",
      "metadata": {
        "id": "7LSUqzNEmUmE"
      },
      "source": [
        "https://www.kaggle.com/c/pubg-finish-placement-prediction/code?competitionId=10335&sortBy=voteCount\n"
      ]
    },
    {
      "cell_type": "code",
      "metadata": {
        "id": "Oxj5Z_vXmUmG"
      },
      "source": [
        "import numpy as np\n",
        "import pandas as pd\n",
        "from sklearn import preprocessing\n",
        "import gc, sys\n",
        "gc.enable()"
      ],
      "execution_count": null,
      "outputs": []
    },
    {
      "cell_type": "code",
      "metadata": {
        "id": "GmwRHXjgmUmH"
      },
      "source": [
        "def feature_engineering(is_train=True, debug=True):\n",
        "    test_idx = None\n",
        "    if is_train:\n",
        "        print('preprocessing train.csv')\n",
        "        if debug == True:\n",
        "            df = pd.read_csv('/content/drive/MyDrive/input/pubg/train_V2.csv', nrow=10000)\n",
        "        else:\n",
        "            df = pd.read_csv('/content/drive/MyDrive/input/pubg/train_V2.csv')\n",
        "\n",
        "        df = df[df['maxPlace'] > 1]\n",
        "    else:\n",
        "        print('processing test.csv')\n",
        "        df = pd.read_csv('/content/drive/MyDrive/input/pubg/test_V2.csv')\n",
        "        test_idx = df.Id\n",
        "\n",
        "    print('remove some columns')\n",
        "    target = 'winPlacePerc'\n",
        "\n",
        "    print('Adding Features')\n",
        "\n",
        "    df['headshotrate'] = df['kills'] / df['headshotKills']\n",
        "    df['killStreakrate'] = df['killStreaks'] / df['kills']\n",
        "    df['healthitems'] = df['heals'] + df['boosts']\n",
        "    df['totalDistance'] = df['rideDistance'] + df['walkDistance'] + df['swimDistance']\n",
        "    df['killPlace_over_maxPlace'] = df['killPlace'] / df['maxPlace']\n",
        "    df['headshotKills_over_weapons'] = df['headshotKills'] / df['kills']\n",
        "    df['distance_over_weapons'] = df['totalDistance'] / df['weaponsAcquired']\n",
        "    df['walkDistance_over_kills'] = df['walkDistance'] / df['kills']\n",
        "    df['walkDistance_over_heals'] = df['walkDistance'] / df['heals']\n",
        "    df['killsPerWalkDistance'] = df['kills'] / df['walkDistance']\n",
        "    df['skill'] = df['headshotKills'] + df['roadKills']\n",
        "\n",
        "    df[df == np.Inf] = np.NaN\n",
        "    df[df == np.NINF] = np.NaN\n",
        "\n",
        "    print(\"Removing Na's From DF\")\n",
        "    df.fillna(0, inplace=True)\n",
        "\n",
        "    features = list(df.columns)\n",
        "    features.remove('Id')\n",
        "    features.remove('matchId')\n",
        "    features.remove('groupId')\n",
        "    features.remove('matchType')\n",
        "\n",
        "    y = None\n",
        "\n",
        "    if is_train:\n",
        "        print('get target')\n",
        "        y = np.array(df.groupby(['matchId', 'groupId'])[target].agg('mean'), dtype=np.float64)\n",
        "        features.remove(target)\n",
        "\n",
        "    print('get group mean feature')\n",
        "    agg = df.groupby(['matchId', 'groupId'])[features].agg('mean')\n",
        "    agg_rank = agg.groupby('matchId')[features].rank(pct=True).reset_index()\n",
        "    if is_train:\n",
        "        df_out = agg.reset_index()[['matchId', 'groupId']]\n",
        "    else:\n",
        "        df_out = df[['matchId', 'groupId']]\n",
        "\n",
        "    df_out = df_out.merge(agg.reset_index(), suffixes=[\"\", \"\"], how='left', on=['matchId', 'groupId'])\n",
        "    df_out = df_out.merge(agg_rank,  suffixes=[\"_mean\", \"_mean_rank\"], how='left', on=['matchId', 'groupId'])\n",
        "\n",
        "    print('get group max feature')\n",
        "    agg = df.groupby(['matchId', 'groupId'])[features].agg('max')\n",
        "    agg_rank = agg.groupby('matchId')[features].rank(pct=True).reset_index()\n",
        "    df_out = df_out.merge(agg.reset_index(), suffixes=[\"\", \"\"], how='left', on=['matchId', 'groupId'])\n",
        "    df_out = df_out.merge(agg_rank, suffixes=[\"_min\", \"_min_rank\"], how='left', on=['matchId', 'groupId'])\n",
        "\n",
        "    print('get group min feature')\n",
        "    agg = df.groupby(['matchId', 'groupId'])[features].agg('min')\n",
        "    agg_rank = agg.groupby('matchId')[features].rank(pct=True).reset_index()\n",
        "    df_out = df_out.merge(agg.reset_index(), suffixes=[\"\", \"\"], how='left', on=['matchId', 'groupId'])\n",
        "    df_out = df_out.merge(agg_rank, suffixes=[\"_min\", \"_min_rank\"], how='left', on=['matchId', 'groupId'])\n",
        "\n",
        "    print('get group size feature')\n",
        "    agg = df.groupby(['matchId', 'groupId']).size().reset_index(name='group_size')\n",
        "    df_out = df_out.merge(agg, how='left', on=['matchId', 'groupId'])\n",
        "\n",
        "    print('get match mean feature')\n",
        "    agg = df.groupby(['matchId'])[features].agg('mean').reset_index()\n",
        "    df_out = df_out.merge(agg, suffixes=[\"\", \"_match_mean\"], how='left', on=['matchId'])\n",
        "\n",
        "    print('get match size feature')\n",
        "    agg = df.groupby(['matchId']).size().reset_index(name='match_size')\n",
        "    df_out = df_out.merge(agg, how='left', on=['matchId'])\n",
        "\n",
        "    df_out.drop(['matchId', 'groupId'], axis=1, inplace=True)\n",
        "\n",
        "    X = df_out\n",
        "\n",
        "    feature_names = list(df_out.columns)\n",
        "\n",
        "    del df, df_out, agg, agg_rank\n",
        "    gc.collect()\n",
        "\n",
        "    return X, y, feature_names, test_idx"
      ],
      "execution_count": null,
      "outputs": []
    },
    {
      "cell_type": "code",
      "metadata": {
        "colab": {
          "base_uri": "https://localhost:8080/"
        },
        "id": "-fSffymLmUmI",
        "outputId": "ed8dec89-0799-4337-ca95-45cc1baf8b93"
      },
      "source": [
        "x_train, y_train, train_columns, _ = feature_engineering(True, False)"
      ],
      "execution_count": null,
      "outputs": [
        {
          "output_type": "stream",
          "text": [
            "preprocessing train.csv\n",
            "remove some columns\n",
            "Adding Features\n",
            "Removing Na's From DF\n",
            "get target\n",
            "get group mean feature\n",
            "get group max feature\n",
            "get group min feature\n",
            "get group size feature\n",
            "get match mean feature\n",
            "get match size feature\n"
          ],
          "name": "stdout"
        }
      ]
    },
    {
      "cell_type": "code",
      "metadata": {
        "colab": {
          "background_save": true,
          "base_uri": "https://localhost:8080/"
        },
        "id": "T96C-8p8mUmI",
        "outputId": "411a67d3-a4e7-4803-a2a1-c21b98a2b70c"
      },
      "source": [
        "x_test, _, _, test_idx = feature_engineering(False, True)"
      ],
      "execution_count": null,
      "outputs": [
        {
          "output_type": "stream",
          "text": [
            "processing test.csv\n",
            "remove some columns\n",
            "Adding Features\n",
            "Removing Na's From DF\n",
            "get group mean feature\n",
            "get group max feature\n",
            "get group min feature\n",
            "get group size feature\n",
            "get match mean feature\n",
            "get match size feature\n"
          ],
          "name": "stdout"
        }
      ]
    },
    {
      "cell_type": "code",
      "metadata": {
        "id": "87c8bAsqmUmJ"
      },
      "source": [
        ""
      ],
      "execution_count": null,
      "outputs": []
    }
  ]
}