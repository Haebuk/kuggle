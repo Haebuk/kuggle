{
  "nbformat": 4,
  "nbformat_minor": 0,
  "metadata": {
    "colab": {
      "name": "gamestop.ipynb",
      "provenance": [],
      "authorship_tag": "ABX9TyOHOGcO8t4B0JheUKrfGBA2",
      "include_colab_link": true
    },
    "kernelspec": {
      "name": "python3",
      "display_name": "Python 3"
    },
    "language_info": {
      "name": "python"
    }
  },
  "cells": [
    {
      "cell_type": "markdown",
      "metadata": {
        "id": "view-in-github",
        "colab_type": "text"
      },
      "source": [
        "<a href=\"https://colab.research.google.com/github/Haebuk/kuggle/blob/main/gamestop.ipynb\" target=\"_parent\"><img src=\"https://colab.research.google.com/assets/colab-badge.svg\" alt=\"Open In Colab\"/></a>"
      ]
    },
    {
      "cell_type": "code",
      "metadata": {
        "id": "uM13ddKEdXYP"
      },
      "source": [
        "import numpy as np\n",
        "import pandas as pd\n",
        "import seaborn as sns\n",
        "import matplotlib.pyplot as plt\n",
        "sns.set_style('darkgrid')"
      ],
      "execution_count": 29,
      "outputs": []
    },
    {
      "cell_type": "code",
      "metadata": {
        "colab": {
          "base_uri": "https://localhost:8080/",
          "height": 222
        },
        "id": "Obin0E04dp9i",
        "outputId": "f186beed-b550-43d2-9103-044ac3279fe5"
      },
      "source": [
        "df = pd.read_csv('/content/drive/MyDrive/input/GME_stock.csv')\n",
        "print(df.shape)\n",
        "df.head()"
      ],
      "execution_count": 30,
      "outputs": [
        {
          "output_type": "stream",
          "text": [
            "(4773, 7)\n"
          ],
          "name": "stdout"
        },
        {
          "output_type": "execute_result",
          "data": {
            "text/html": [
              "<div>\n",
              "<style scoped>\n",
              "    .dataframe tbody tr th:only-of-type {\n",
              "        vertical-align: middle;\n",
              "    }\n",
              "\n",
              "    .dataframe tbody tr th {\n",
              "        vertical-align: top;\n",
              "    }\n",
              "\n",
              "    .dataframe thead th {\n",
              "        text-align: right;\n",
              "    }\n",
              "</style>\n",
              "<table border=\"1\" class=\"dataframe\">\n",
              "  <thead>\n",
              "    <tr style=\"text-align: right;\">\n",
              "      <th></th>\n",
              "      <th>date</th>\n",
              "      <th>open_price</th>\n",
              "      <th>high_price</th>\n",
              "      <th>low_price</th>\n",
              "      <th>close_price</th>\n",
              "      <th>volume</th>\n",
              "      <th>adjclose_price</th>\n",
              "    </tr>\n",
              "  </thead>\n",
              "  <tbody>\n",
              "    <tr>\n",
              "      <th>0</th>\n",
              "      <td>2021-01-28</td>\n",
              "      <td>265.000000</td>\n",
              "      <td>483.000000</td>\n",
              "      <td>112.250000</td>\n",
              "      <td>193.600006</td>\n",
              "      <td>58815800.0</td>\n",
              "      <td>193.600006</td>\n",
              "    </tr>\n",
              "    <tr>\n",
              "      <th>1</th>\n",
              "      <td>2021-01-27</td>\n",
              "      <td>354.829987</td>\n",
              "      <td>380.000000</td>\n",
              "      <td>249.000000</td>\n",
              "      <td>347.510010</td>\n",
              "      <td>93396700.0</td>\n",
              "      <td>347.510010</td>\n",
              "    </tr>\n",
              "    <tr>\n",
              "      <th>2</th>\n",
              "      <td>2021-01-26</td>\n",
              "      <td>88.559998</td>\n",
              "      <td>150.000000</td>\n",
              "      <td>80.199997</td>\n",
              "      <td>147.979996</td>\n",
              "      <td>178588000.0</td>\n",
              "      <td>147.979996</td>\n",
              "    </tr>\n",
              "    <tr>\n",
              "      <th>3</th>\n",
              "      <td>2021-01-25</td>\n",
              "      <td>96.730003</td>\n",
              "      <td>159.179993</td>\n",
              "      <td>61.130001</td>\n",
              "      <td>76.790001</td>\n",
              "      <td>177874000.0</td>\n",
              "      <td>76.790001</td>\n",
              "    </tr>\n",
              "    <tr>\n",
              "      <th>4</th>\n",
              "      <td>2021-01-22</td>\n",
              "      <td>42.590000</td>\n",
              "      <td>76.760002</td>\n",
              "      <td>42.320000</td>\n",
              "      <td>65.010002</td>\n",
              "      <td>196784300.0</td>\n",
              "      <td>65.010002</td>\n",
              "    </tr>\n",
              "  </tbody>\n",
              "</table>\n",
              "</div>"
            ],
            "text/plain": [
              "         date  open_price  high_price  ...  close_price       volume  adjclose_price\n",
              "0  2021-01-28  265.000000  483.000000  ...   193.600006   58815800.0      193.600006\n",
              "1  2021-01-27  354.829987  380.000000  ...   347.510010   93396700.0      347.510010\n",
              "2  2021-01-26   88.559998  150.000000  ...   147.979996  178588000.0      147.979996\n",
              "3  2021-01-25   96.730003  159.179993  ...    76.790001  177874000.0       76.790001\n",
              "4  2021-01-22   42.590000   76.760002  ...    65.010002  196784300.0       65.010002\n",
              "\n",
              "[5 rows x 7 columns]"
            ]
          },
          "metadata": {
            "tags": []
          },
          "execution_count": 30
        }
      ]
    },
    {
      "cell_type": "code",
      "metadata": {
        "colab": {
          "base_uri": "https://localhost:8080/",
          "height": 204
        },
        "id": "CfoSmK0rgOr3",
        "outputId": "a17ad5f5-2d46-46bd-d217-591296aee5b9"
      },
      "source": [
        "df.tail()"
      ],
      "execution_count": 31,
      "outputs": [
        {
          "output_type": "execute_result",
          "data": {
            "text/html": [
              "<div>\n",
              "<style scoped>\n",
              "    .dataframe tbody tr th:only-of-type {\n",
              "        vertical-align: middle;\n",
              "    }\n",
              "\n",
              "    .dataframe tbody tr th {\n",
              "        vertical-align: top;\n",
              "    }\n",
              "\n",
              "    .dataframe thead th {\n",
              "        text-align: right;\n",
              "    }\n",
              "</style>\n",
              "<table border=\"1\" class=\"dataframe\">\n",
              "  <thead>\n",
              "    <tr style=\"text-align: right;\">\n",
              "      <th></th>\n",
              "      <th>date</th>\n",
              "      <th>open_price</th>\n",
              "      <th>high_price</th>\n",
              "      <th>low_price</th>\n",
              "      <th>close_price</th>\n",
              "      <th>volume</th>\n",
              "      <th>adjclose_price</th>\n",
              "    </tr>\n",
              "  </thead>\n",
              "  <tbody>\n",
              "    <tr>\n",
              "      <th>4768</th>\n",
              "      <td>2002-02-20</td>\n",
              "      <td>9.600</td>\n",
              "      <td>9.875</td>\n",
              "      <td>9.525</td>\n",
              "      <td>9.875</td>\n",
              "      <td>1723200.0</td>\n",
              "      <td>6.648838</td>\n",
              "    </tr>\n",
              "    <tr>\n",
              "      <th>4769</th>\n",
              "      <td>2002-02-19</td>\n",
              "      <td>9.900</td>\n",
              "      <td>9.900</td>\n",
              "      <td>9.375</td>\n",
              "      <td>9.550</td>\n",
              "      <td>1852600.0</td>\n",
              "      <td>6.430017</td>\n",
              "    </tr>\n",
              "    <tr>\n",
              "      <th>4770</th>\n",
              "      <td>2002-02-15</td>\n",
              "      <td>10.000</td>\n",
              "      <td>10.025</td>\n",
              "      <td>9.850</td>\n",
              "      <td>9.950</td>\n",
              "      <td>2097400.0</td>\n",
              "      <td>6.699336</td>\n",
              "    </tr>\n",
              "    <tr>\n",
              "      <th>4771</th>\n",
              "      <td>2002-02-14</td>\n",
              "      <td>10.175</td>\n",
              "      <td>10.195</td>\n",
              "      <td>9.925</td>\n",
              "      <td>10.000</td>\n",
              "      <td>2755400.0</td>\n",
              "      <td>6.733003</td>\n",
              "    </tr>\n",
              "    <tr>\n",
              "      <th>4772</th>\n",
              "      <td>2002-02-13</td>\n",
              "      <td>9.625</td>\n",
              "      <td>10.060</td>\n",
              "      <td>9.525</td>\n",
              "      <td>10.050</td>\n",
              "      <td>19054000.0</td>\n",
              "      <td>6.766666</td>\n",
              "    </tr>\n",
              "  </tbody>\n",
              "</table>\n",
              "</div>"
            ],
            "text/plain": [
              "            date  open_price  ...      volume  adjclose_price\n",
              "4768  2002-02-20       9.600  ...   1723200.0        6.648838\n",
              "4769  2002-02-19       9.900  ...   1852600.0        6.430017\n",
              "4770  2002-02-15      10.000  ...   2097400.0        6.699336\n",
              "4771  2002-02-14      10.175  ...   2755400.0        6.733003\n",
              "4772  2002-02-13       9.625  ...  19054000.0        6.766666\n",
              "\n",
              "[5 rows x 7 columns]"
            ]
          },
          "metadata": {
            "tags": []
          },
          "execution_count": 31
        }
      ]
    },
    {
      "cell_type": "code",
      "metadata": {
        "colab": {
          "base_uri": "https://localhost:8080/",
          "height": 297
        },
        "id": "xmyYnW-jdxwr",
        "outputId": "77a01f37-cc40-4ada-bafb-e6517e93f91c"
      },
      "source": [
        "df.describe()"
      ],
      "execution_count": 32,
      "outputs": [
        {
          "output_type": "execute_result",
          "data": {
            "text/html": [
              "<div>\n",
              "<style scoped>\n",
              "    .dataframe tbody tr th:only-of-type {\n",
              "        vertical-align: middle;\n",
              "    }\n",
              "\n",
              "    .dataframe tbody tr th {\n",
              "        vertical-align: top;\n",
              "    }\n",
              "\n",
              "    .dataframe thead th {\n",
              "        text-align: right;\n",
              "    }\n",
              "</style>\n",
              "<table border=\"1\" class=\"dataframe\">\n",
              "  <thead>\n",
              "    <tr style=\"text-align: right;\">\n",
              "      <th></th>\n",
              "      <th>open_price</th>\n",
              "      <th>high_price</th>\n",
              "      <th>low_price</th>\n",
              "      <th>close_price</th>\n",
              "      <th>volume</th>\n",
              "      <th>adjclose_price</th>\n",
              "    </tr>\n",
              "  </thead>\n",
              "  <tbody>\n",
              "    <tr>\n",
              "      <th>count</th>\n",
              "      <td>4773.000000</td>\n",
              "      <td>4773.000000</td>\n",
              "      <td>4773.000000</td>\n",
              "      <td>4773.000000</td>\n",
              "      <td>4.773000e+03</td>\n",
              "      <td>4773.000000</td>\n",
              "    </tr>\n",
              "    <tr>\n",
              "      <th>mean</th>\n",
              "      <td>23.201005</td>\n",
              "      <td>23.693590</td>\n",
              "      <td>22.714309</td>\n",
              "      <td>23.193234</td>\n",
              "      <td>3.398255e+06</td>\n",
              "      <td>16.882897</td>\n",
              "    </tr>\n",
              "    <tr>\n",
              "      <th>std</th>\n",
              "      <td>14.695884</td>\n",
              "      <td>16.210219</td>\n",
              "      <td>13.628194</td>\n",
              "      <td>14.513893</td>\n",
              "      <td>6.547035e+06</td>\n",
              "      <td>11.019953</td>\n",
              "    </tr>\n",
              "    <tr>\n",
              "      <th>min</th>\n",
              "      <td>2.850000</td>\n",
              "      <td>2.940000</td>\n",
              "      <td>2.570000</td>\n",
              "      <td>2.800000</td>\n",
              "      <td>6.500000e+04</td>\n",
              "      <td>2.555174</td>\n",
              "    </tr>\n",
              "    <tr>\n",
              "      <th>25%</th>\n",
              "      <td>11.360000</td>\n",
              "      <td>11.575000</td>\n",
              "      <td>11.130000</td>\n",
              "      <td>11.350000</td>\n",
              "      <td>1.528900e+06</td>\n",
              "      <td>9.607993</td>\n",
              "    </tr>\n",
              "    <tr>\n",
              "      <th>50%</th>\n",
              "      <td>21.760000</td>\n",
              "      <td>22.110001</td>\n",
              "      <td>21.430000</td>\n",
              "      <td>21.760000</td>\n",
              "      <td>2.491800e+06</td>\n",
              "      <td>15.479172</td>\n",
              "    </tr>\n",
              "    <tr>\n",
              "      <th>75%</th>\n",
              "      <td>29.420000</td>\n",
              "      <td>30.170000</td>\n",
              "      <td>28.719999</td>\n",
              "      <td>29.430000</td>\n",
              "      <td>3.791600e+06</td>\n",
              "      <td>22.205433</td>\n",
              "    </tr>\n",
              "    <tr>\n",
              "      <th>max</th>\n",
              "      <td>354.829987</td>\n",
              "      <td>483.000000</td>\n",
              "      <td>249.000000</td>\n",
              "      <td>347.510010</td>\n",
              "      <td>1.967843e+08</td>\n",
              "      <td>347.510010</td>\n",
              "    </tr>\n",
              "  </tbody>\n",
              "</table>\n",
              "</div>"
            ],
            "text/plain": [
              "        open_price   high_price  ...        volume  adjclose_price\n",
              "count  4773.000000  4773.000000  ...  4.773000e+03     4773.000000\n",
              "mean     23.201005    23.693590  ...  3.398255e+06       16.882897\n",
              "std      14.695884    16.210219  ...  6.547035e+06       11.019953\n",
              "min       2.850000     2.940000  ...  6.500000e+04        2.555174\n",
              "25%      11.360000    11.575000  ...  1.528900e+06        9.607993\n",
              "50%      21.760000    22.110001  ...  2.491800e+06       15.479172\n",
              "75%      29.420000    30.170000  ...  3.791600e+06       22.205433\n",
              "max     354.829987   483.000000  ...  1.967843e+08      347.510010\n",
              "\n",
              "[8 rows x 6 columns]"
            ]
          },
          "metadata": {
            "tags": []
          },
          "execution_count": 32
        }
      ]
    },
    {
      "cell_type": "code",
      "metadata": {
        "colab": {
          "base_uri": "https://localhost:8080/"
        },
        "id": "gCiSVOtFd0QM",
        "outputId": "ef1a74ca-4ebe-447f-9a0f-6e6cef7dd0a8"
      },
      "source": [
        "df.info()"
      ],
      "execution_count": 33,
      "outputs": [
        {
          "output_type": "stream",
          "text": [
            "<class 'pandas.core.frame.DataFrame'>\n",
            "RangeIndex: 4773 entries, 0 to 4772\n",
            "Data columns (total 7 columns):\n",
            " #   Column          Non-Null Count  Dtype  \n",
            "---  ------          --------------  -----  \n",
            " 0   date            4773 non-null   object \n",
            " 1   open_price      4773 non-null   float64\n",
            " 2   high_price      4773 non-null   float64\n",
            " 3   low_price       4773 non-null   float64\n",
            " 4   close_price     4773 non-null   float64\n",
            " 5   volume          4773 non-null   float64\n",
            " 6   adjclose_price  4773 non-null   float64\n",
            "dtypes: float64(6), object(1)\n",
            "memory usage: 261.1+ KB\n"
          ],
          "name": "stdout"
        }
      ]
    },
    {
      "cell_type": "code",
      "metadata": {
        "id": "tOdeeatWgG7K"
      },
      "source": [
        "df['date'] = pd.to_datetime(df['date'])"
      ],
      "execution_count": 34,
      "outputs": []
    },
    {
      "cell_type": "code",
      "metadata": {
        "colab": {
          "base_uri": "https://localhost:8080/",
          "height": 330
        },
        "id": "2QkkfDJ_d1Pz",
        "outputId": "e3425664-4dc4-444c-ca06-62553be62ca1"
      },
      "source": [
        "sns.heatmap(df.corr(), annot=True, fmt='.2f')\n",
        "plt.show()"
      ],
      "execution_count": 35,
      "outputs": [
        {
          "output_type": "display_data",
          "data": {
            "image/png": "[encoded data removed]",
            "text/plain": [
              "<Figure size 432x288 with 2 Axes>"
            ]
          },
          "metadata": {
            "tags": []
          }
        }
      ]
    },
    {
      "cell_type": "code",
      "metadata": {
        "colab": {
          "base_uri": "https://localhost:8080/",
          "height": 372
        },
        "id": "-DrGU-eCeEw0",
        "outputId": "b5c5c6de-e386-41d1-89f9-73354ca79b31"
      },
      "source": [
        "plt.figure(figsize=(12, 4))\n",
        "sns.distplot(df['open_price'])\n",
        "plt.show()\n",
        "\n",
        "print('Maximum price:', df['open_price'].max())\n",
        "print('Minimum price:', df['open_price'].min())"
      ],
      "execution_count": 36,
      "outputs": [
        {
          "output_type": "stream",
          "text": [
            "/usr/local/lib/python3.7/dist-packages/seaborn/distributions.py:2557: FutureWarning: `distplot` is a deprecated function and will be removed in a future version. Please adapt your code to use either `displot` (a figure-level function with similar flexibility) or `histplot` (an axes-level function for histograms).\n",
            "  warnings.warn(msg, FutureWarning)\n"
          ],
          "name": "stderr"
        },
        {
          "output_type": "display_data",
          "data": {
            "image/png": "[encoded data removed]",
            "text/plain": [
              "<Figure size 864x288 with 1 Axes>"
            ]
          },
          "metadata": {
            "tags": []
          }
        },
        {
          "output_type": "stream",
          "text": [
            "Maximum price: 354.8299865722656\n",
            "Minimum price: 2.8499999046325684\n"
          ],
          "name": "stdout"
        }
      ]
    },
    {
      "cell_type": "code",
      "metadata": {
        "colab": {
          "base_uri": "https://localhost:8080/",
          "height": 204
        },
        "id": "QIjT4mUAfpuQ",
        "outputId": "4a35e833-59ba-491a-e9d9-3f97f54f4817"
      },
      "source": [
        "df['year'] = df['date'].dt.year\n",
        "df['month'] = df['date'].dt.month\n",
        "df['day'] = df['date'].dt.day\n",
        "df.head()"
      ],
      "execution_count": 38,
      "outputs": [
        {
          "output_type": "execute_result",
          "data": {
            "text/html": [
              "<div>\n",
              "<style scoped>\n",
              "    .dataframe tbody tr th:only-of-type {\n",
              "        vertical-align: middle;\n",
              "    }\n",
              "\n",
              "    .dataframe tbody tr th {\n",
              "        vertical-align: top;\n",
              "    }\n",
              "\n",
              "    .dataframe thead th {\n",
              "        text-align: right;\n",
              "    }\n",
              "</style>\n",
              "<table border=\"1\" class=\"dataframe\">\n",
              "  <thead>\n",
              "    <tr style=\"text-align: right;\">\n",
              "      <th></th>\n",
              "      <th>date</th>\n",
              "      <th>open_price</th>\n",
              "      <th>high_price</th>\n",
              "      <th>low_price</th>\n",
              "      <th>close_price</th>\n",
              "      <th>volume</th>\n",
              "      <th>adjclose_price</th>\n",
              "      <th>year</th>\n",
              "      <th>month</th>\n",
              "      <th>day</th>\n",
              "    </tr>\n",
              "  </thead>\n",
              "  <tbody>\n",
              "    <tr>\n",
              "      <th>0</th>\n",
              "      <td>2021-01-28</td>\n",
              "      <td>265.000000</td>\n",
              "      <td>483.000000</td>\n",
              "      <td>112.250000</td>\n",
              "      <td>193.600006</td>\n",
              "      <td>58815800.0</td>\n",
              "      <td>193.600006</td>\n",
              "      <td>2021</td>\n",
              "      <td>1</td>\n",
              "      <td>28</td>\n",
              "    </tr>\n",
              "    <tr>\n",
              "      <th>1</th>\n",
              "      <td>2021-01-27</td>\n",
              "      <td>354.829987</td>\n",
              "      <td>380.000000</td>\n",
              "      <td>249.000000</td>\n",
              "      <td>347.510010</td>\n",
              "      <td>93396700.0</td>\n",
              "      <td>347.510010</td>\n",
              "      <td>2021</td>\n",
              "      <td>1</td>\n",
              "      <td>27</td>\n",
              "    </tr>\n",
              "    <tr>\n",
              "      <th>2</th>\n",
              "      <td>2021-01-26</td>\n",
              "      <td>88.559998</td>\n",
              "      <td>150.000000</td>\n",
              "      <td>80.199997</td>\n",
              "      <td>147.979996</td>\n",
              "      <td>178588000.0</td>\n",
              "      <td>147.979996</td>\n",
              "      <td>2021</td>\n",
              "      <td>1</td>\n",
              "      <td>26</td>\n",
              "    </tr>\n",
              "    <tr>\n",
              "      <th>3</th>\n",
              "      <td>2021-01-25</td>\n",
              "      <td>96.730003</td>\n",
              "      <td>159.179993</td>\n",
              "      <td>61.130001</td>\n",
              "      <td>76.790001</td>\n",
              "      <td>177874000.0</td>\n",
              "      <td>76.790001</td>\n",
              "      <td>2021</td>\n",
              "      <td>1</td>\n",
              "      <td>25</td>\n",
              "    </tr>\n",
              "    <tr>\n",
              "      <th>4</th>\n",
              "      <td>2021-01-22</td>\n",
              "      <td>42.590000</td>\n",
              "      <td>76.760002</td>\n",
              "      <td>42.320000</td>\n",
              "      <td>65.010002</td>\n",
              "      <td>196784300.0</td>\n",
              "      <td>65.010002</td>\n",
              "      <td>2021</td>\n",
              "      <td>1</td>\n",
              "      <td>22</td>\n",
              "    </tr>\n",
              "  </tbody>\n",
              "</table>\n",
              "</div>"
            ],
            "text/plain": [
              "        date  open_price  high_price  ...  year  month  day\n",
              "0 2021-01-28  265.000000  483.000000  ...  2021      1   28\n",
              "1 2021-01-27  354.829987  380.000000  ...  2021      1   27\n",
              "2 2021-01-26   88.559998  150.000000  ...  2021      1   26\n",
              "3 2021-01-25   96.730003  159.179993  ...  2021      1   25\n",
              "4 2021-01-22   42.590000   76.760002  ...  2021      1   22\n",
              "\n",
              "[5 rows x 10 columns]"
            ]
          },
          "metadata": {
            "tags": []
          },
          "execution_count": 38
        }
      ]
    },
    {
      "cell_type": "code",
      "metadata": {
        "colab": {
          "base_uri": "https://localhost:8080/",
          "height": 295
        },
        "id": "0yTPxMe_gqBM",
        "outputId": "8598821b-6526-46e1-c3bb-daf603f6cf69"
      },
      "source": [
        "plt.figure(figsize=(12, 4))\n",
        "plt.plot(df['date'][::-1],df['open_price'][::-1])\n",
        "plt.title('Open Price')\n",
        "plt.xlabel('Year')\n",
        "plt.ylabel('Price')\n",
        "plt.show()"
      ],
      "execution_count": 62,
      "outputs": [
        {
          "output_type": "display_data",
          "data": {
            "image/png": "[encoded data removed]",
            "text/plain": [
              "<Figure size 864x288 with 1 Axes>"
            ]
          },
          "metadata": {
            "tags": []
          }
        }
      ]
    },
    {
      "cell_type": "code",
      "metadata": {
        "colab": {
          "base_uri": "https://localhost:8080/",
          "height": 295
        },
        "id": "9R3Xk-DShBlj",
        "outputId": "d6310878-5237-4965-a4e5-8f9b046781b0"
      },
      "source": [
        "plt.figure(figsize=(12, 4))\n",
        "plt.plot(df['date'][::-1],df['volume'][::-1])\n",
        "plt.title('Trade Volume')\n",
        "plt.xlabel('Year')\n",
        "plt.ylabel('Volume')\n",
        "plt.show()"
      ],
      "execution_count": 64,
      "outputs": [
        {
          "output_type": "display_data",
          "data": {
            "image/png": "[encoded data removed]",
            "text/plain": [
              "<Figure size 864x288 with 1 Axes>"
            ]
          },
          "metadata": {
            "tags": []
          }
        }
      ]
    },
    {
      "cell_type": "code",
      "metadata": {
        "id": "8phkmECFjyvA"
      },
      "source": [
        ""
      ],
      "execution_count": null,
      "outputs": []
    }
  ]
}